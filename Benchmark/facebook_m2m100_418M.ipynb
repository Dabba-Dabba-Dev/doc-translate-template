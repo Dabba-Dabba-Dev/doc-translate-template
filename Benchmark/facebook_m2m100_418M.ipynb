{
 "cells": [
  {
   "cell_type": "code",
   "execution_count": 1,
   "metadata": {
    "colab": {
     "base_uri": "https://localhost:8080/",
     "height": 1000,
     "referenced_widgets": [
      "a14afc22aca04d898a58d6c3e32349c1",
      "e774ec6bbf094fa394553da66e3302be",
      "622704e2340e4793a89f422d4b72a46e",
      "eac6a696679846a09291790cc2ec4f2d",
      "a207c284ae27463580ac15616d287471",
      "74da250da8d94536abbcfe1399c0c060",
      "d8762f1abb0c474381e1afe86f6df61d",
      "0d67027d9ad2438590a39c7a0bf25b92",
      "c4351ae6ceb94c7d8c18a556ebc7192a",
      "277f8c07a83c4e84941df48442c07e7b",
      "285314f7d05641a0a8a5185f9ebb0191",
      "69d3d869c58b45fcaa2a10818c48a8db",
      "28d334fee16647aaa7017eb11c288957",
      "a0ca18dd86264f4da5a580d1286b2142",
      "1af22255445f43f8951dbafdc563155e",
      "02996e033b734659b0514f472cfc32bf",
      "b6bac78ad17a43c38f57a30493357f89",
      "e0a2a2bc54d2413485901e14c29b0420",
      "958cb2dacd5c48d08cf7c92583184823",
      "b3023ec02b69400da0e26f6c27f5d451",
      "2d445093d50140eb9ef2e1d8e95c6c88",
      "c93af5a851fd41d787011c051c5aa989",
      "46b33ca5b2ad456a88fe11706995bccf",
      "7c05db0840e74d7a9e5483a87352751c",
      "0c8ad6862d744a37832ec1fec8eba795",
      "2b3306354a07403ea3ba0be1ec607f61",
      "c943859e1a6d48228158e0ff1f2c1aed",
      "3174591ed1ab46c68d2703093884ecfd",
      "4f5c68f91ac041e48cf24a87856578c7",
      "0b3c0d4b9dee4cd79db5412c1c99d009",
      "4ad18b9c63fb437c89a6cef07751f902",
      "0ada3eb5ff87410f82b1ae9dc2c989e7",
      "32825ba7f52f48fa9c5be96c033e1397",
      "323c8df44c43443e96067e31d1388fc1",
      "7dd64cf9cebf43108ca4050a3b8b3af0",
      "32765281215642bf990632b69b0423b4",
      "cb1ccc3d2bc24682aa4c9fbe3395b2ce",
      "1236e0c2b75948e289d0d2ac1fa1f39b",
      "ba7b9986c92341a68d0952d6f022ada0",
      "5e68ef136404453882ba37be95b1bcd4",
      "83661b0f41d343ac91e0346922f9addc",
      "72b3a7ddb6e1491fa18b01a26ffef606",
      "3f0e20f8eadb47e28d04ccff263233e7",
      "86b1f1fd297a498eae09d41b74d22c8b",
      "f0b0e6b3659a454fbd918a58f5869245",
      "47a0238e652f429eacc4b0741ff30024",
      "020c9366c8ee4a66b7e202d6fa9ce07c",
      "a7cf39a2e34e40988377c06741fbecef",
      "c5576d5f1148436e9cc3684a03d77e8f",
      "88d42374c12f456db1bb199925e443de",
      "1aa27319ed704cbf988019c3a4ee4321",
      "fdac6edaa960427ea5f9ae6dd797438a",
      "29715699335f4b5e82d1174f51007e47",
      "da62fc6e9816473a80da3858579df37d",
      "b5e54b2bd61f49088babf97388dd182c",
      "a05b1fb55eea4d0181cd5c8b794348db",
      "55b52aa707494da7af965a3b927d59a5",
      "50a1ac12e28a436197971f27d8603a52",
      "81d8ff55a5ea41309d2633b7f9518142",
      "789b5e43249f428792c7113e4b32db5a",
      "549979f7f00c49f2a071fbd0e6a98345",
      "c0cd8cca05304784af77e9915387bba1",
      "bdd4e350ae45452ba9cf9ab9b2edce4d",
      "2fd0a0829c0c4bc3a9f780f719a2273c",
      "eb6813ddd2eb46b0ba3bff2dcbbeff0b",
      "799a778f63ba431a8a3ba787fe2008cd",
      "29d4e037e60b4a9db45252808be64346",
      "2fc378ae31a84e9cab6e464b954e78ff",
      "dc889b7d96634d5aa99c93b7c8b6d267",
      "6cff7efd57224774a36c34e72e2e2d4a",
      "9806097a9e73442f94e5a0e6cd9c25ec",
      "8447d1824fdc4b0c82b6bb4af9f12771",
      "89c50f5342fd4c81b1464301839dbff9",
      "6321e8bbd72347e28bd007e0fe51f7b1",
      "980bab2fd21e4ec3b135d46221b0aa58",
      "3efdfbe167774ac7b092d86a05e41f5b",
      "c367c844779849c3885dd45514de7c09",
      "b6e91d3bc6f64d858d03982a298a8aae",
      "8ec4164864984ae6bb440eccffb94c12",
      "828f7297935e4ceab9877b22aef60ab7",
      "3bb3939ae5e44f028d8fd2009505e120",
      "01a7720b456549f68a5406f5028a877b",
      "b810cd80f805468d9fe1d1e0b49770bc",
      "1e065bdc703f4ece96125957fe0e8e73",
      "acea25bab20b4be1be2c944bc6edfd75",
      "f215e6cf42504f7091dcbb25291e6f02",
      "529302bb269146cbb4511b68b362fab1",
      "d836a67ae69c4455bf7af04ce8795ae0",
      "f0b48c3567cb49f19a8b6c56ea28ccbd",
      "ace438db0184411dad23e43a064b599e",
      "953a70694c664c1d8c5cf688dce1f304",
      "c2fd64894c92451bb3e411255cbbab54",
      "aa54088c961f4886958736bbfacdef96",
      "c38165fc6c304be28d1c395ddf8f5573",
      "ded9d506eeb74f4fa61538d3e4494e25",
      "f0bfd4a69f4d4791899477ed2ed56ee6",
      "b9aeec923b9344e192c7ddabf1194f2b",
      "48132dd6b10d4a7b899839d053090935",
      "9fdd099619054361a7cf40adf25dc90b",
      "a2d5caf7b7f243aa9438e823097a11e5",
      "2cc3ea30b6004021afa2a08bb2ef7eb4",
      "6b1bf17de9224bb7ba8ebd0ec0485f8d",
      "ff38029db45b4147ac0620ccd3a2f3f0",
      "862e96d08469494384587ef8c42da8b3",
      "91f0b8b34fff4f9a8f7d1102a9765bf6",
      "3d2992c7044d407d92abfac054ba7a46",
      "28e0c6b29d5e4ba79ef6536440164875",
      "40265efbb7f84005acafe4755f26e2ad",
      "97f9897ec3574e0bb6f74833fb668892",
      "c29eb525caba4638b8e31e9d2268ad0c",
      "8e0912fd64c7437bbda585041f34286e",
      "79984266826f4e49aa5638735cff516b",
      "eb60ab2f8a864bf9b41e158532d107dc",
      "bc0bfb7056174b9fb592ee77c40b1117",
      "4bfbab8c9cf5479bbfa3e4b02461577c",
      "3645916f30cb42edb59e06c45797bcf4",
      "a71dff6c74fb4830a6ff93be54506fc5",
      "4cb4426966bf44daa61d8d96b34fa067",
      "64c49510f1fd4eb5899ca90dbe34c6b0",
      "29826501e7994c66805aa61161322100",
      "ad2c4fdce4114016a6e8fa31a4ac94d5",
      "ac343eda6f8f4816a8c0be1fe3222eb3",
      "09b3033eee8447b1b79a138f70d1580f",
      "a23b219caadb46489e4d3e0093440033",
      "e968f923f6ff4dd9b605a8980f624fc3",
      "e35a8f02237f4695a4811b4123ac7f99",
      "5cd5aa85ad5141fead41897a07d3c2bd",
      "0ab956abb2fb4542b17173ec53a6fc48",
      "9386c57687d44009b585fb90a9d4463c",
      "437e74cadb9746b0acce6581b4d4fd42",
      "fec191d6e8314542bb17081b86b9ca9f",
      "38b5be739fd74192a1df1cf5cfb559e2",
      "999b79a050954159b70e062a1aa51fe0",
      "1bdcb4a0d354452795524062daa819b6",
      "5bc983bdfd5d41fda6901dd1513c33f8",
      "21709a58dfa848efb3cdc6cc9cbf0043",
      "ea83f03876df40e187cde41f52f3a72a",
      "343f7196e22d4d0f803172fc0ee29067",
      "78359247f46a43af9fd13878edf978b9",
      "ec81172e530049d099e44b0770461cf1",
      "f4ac065f1c0644459d2d67984347bdb1",
      "9467b3ea203445d1bda9ae8077b56aea",
      "db353781d9024250af1663bb966b64f7",
      "3665bac6f944471abcdc137c3f667132",
      "8e4dacd47a444cde929fce8e9eb5ffe2",
      "a06fcc10795d4a58918546a1fcc945c9",
      "e3295f8590514a5aaadea7dc492f5bb4",
      "9c5a1e5412b04de8b08c75009a356f61",
      "d7d6d67f7a0e4a3795f2c0bc7badf29f",
      "4000bbd234264a8ba596d6d403394494",
      "7ca6137f37d747ab92982dc35fcee38f",
      "5fe76e6f2b8d4b54a5d28477ff959a91",
      "0acbdf4ad97144de9a8b4cbb6b6a5f68",
      "27a09ced076c492b8d6c1c9a66c6e19b",
      "9223e08b78da4f6681ee348944bf14e7",
      "2c69cb41bb1f430984f95daa80e49736",
      "53e67bc83eca48a498449fe2519c1ca2",
      "ae37c117bc034fdc9a7127ac19802d3d",
      "78423ea853e546da9d8e43c5b05c660e",
      "8478e11fd27a4bf98327d2dbdca79016",
      "0982ab61ee2c445ea9faba2cc148ee9a",
      "0513c9f700f142b2bbbd920cddff3f7c",
      "57f6a39dd7b24d2b984514ba7e7f554a",
      "7e0c09ca54fb4955a37220afbce8512d",
      "b198b6c0343345e38a539f77057ab92e",
      "f9cba13a29cf4fcf8404f6e45e8e70fb",
      "e282948465624eb3bc7040dce7235504",
      "11d0722c8d4e426ab413bfe7475d7d07",
      "0bb040da05dd443395654234c6a3b532",
      "48296b1385324b99a6c29c511009af92",
      "4d932db90b9b42c68fa10e055b2cd09d",
      "d37e9245d3124697b248d1870086a674",
      "94ee75914ad6412bbd68617f65200abc",
      "b70240a08e114d35bedc95f9a6473f65",
      "780ad534aa3647b48a9053242b93867c",
      "dcdca267bb7947568cdaf1b7496ad429",
      "c6c572ea52da4e1988c3b9115c2e2820",
      "5a2fb983e85c481a9d15400298783018",
      "94ba4704291f416cade5383de85e200b",
      "924b7f52c90b4a86a8366ebd19247799",
      "bd765b0957ac4ad9b86e7ce776adb5b5",
      "3f522ff69deb4ae5b89481614e54a6ab",
      "d29d467035db47ea964eda96b9d920ae",
      "626ec246ad634f9e99c271fcd0c92736",
      "1728b3471d2642dcbea08391a68ef4de",
      "b49cb308310e4eb59947006335a8d4dd",
      "1862c0ebac25432b800ddfe9cf59d005",
      "efb2f10980154a4787a6bd1f1bc99d0f",
      "ad118695ee664afe847e9bcac385483f",
      "c3a45761ff884df5abcbaa091678a0c7",
      "a4161fe6a3d947c3ad318cae94e93f7c",
      "d96c25e7b30b4c0195bac8f659f5a07a",
      "169798fbfb804e42af79099259ef8ff7",
      "a2a35a6693ee407fbf3be624ce0c0691",
      "8f9847ff5bc5465c95e3d083b6240762",
      "fe6db527bf8f4e1aa0ba0a5bfc7ec344",
      "0c75618217e34a7d8abbe21b7f3e4a3c",
      "9133fbc8187a4ba690adcf78173ab50b",
      "1ac65db6aa8d4975a2574dd19e5aa71c",
      "03a48d0add684c39ac3df13060000d7a",
      "37a545f2fb114d1fa2c99e711948e049",
      "832ca4496810466fb39e4e9f7f5593a2",
      "a3e2a925c9104b7989f2265219579431",
      "bbfd12b19afe4bd885cabf364c81959a",
      "b77c955c739e4b23812eae0ab2c215eb",
      "ea04e14b375640de9f029e28863a3d2d",
      "c45c39be35f24cbfa99e7350e2d7b7ae",
      "9f995fe8967d4ad58a94b747ae4095e2",
      "738b6e71a8b547aeaa9b2a2e4b29fcae",
      "6737de2332ad476ea74fc238ba3ae390",
      "5a29250720814e7aa01b6af0be3ab4cd",
      "fec5491edd174ab0b2c43f56f7b2b85b",
      "c0f7c892875c44d8ad6b231aec6b736d",
      "5f5f92b5e2f440f6af8e0f77baeb9cc9",
      "aa9bd2fae15d40688df26944b22ffdd2",
      "4959890a22474990acf539f5c8dcce75",
      "60ee1bce6e464612a27ae8fbea6e2e2d",
      "b2a539b62baf43a3a60fb9c766e7e705",
      "e6db9d2b043240dab1e9c75c42a421a0",
      "d7578622f652492c9873e50ee1ba8bdf",
      "752eb114bd3d4a2cb2e6d66253569ef4",
      "84b56bcc418148a59ff50aeb99a55ed4",
      "3e38e252ae994ab8982e3b2de42b33b5",
      "967a6e9d28574c4e88c04c6b71f84172",
      "ee4ddff57be24dd2a9bfe42557dde995",
      "1ee3429fffa04b0eafd114be63f327aa",
      "a19e8ad3ec7840e3897fb9a725dd4dc9",
      "54bb7958d87a4ce1abd5bd588d804d1a",
      "9b72c2a78c95401fa63a21a8e9ea7a27",
      "e2dcee4eff504f3aa1ef8916cfc4d5ec",
      "a3c26f0a09b14ea791cea443e3aff363",
      "9c7479197c214bbd967c1da5d344aa49",
      "42d479211a2a4e78bece449d2735d087",
      "7fabc36d43954fe0b0ddb597376f4a17",
      "6c29e5c721914a43a38c83b17624820f",
      "66091ba7946046b095e0a46195a91784",
      "a445ad612da9470f853de2d8619de80d",
      "2c95c71a3ed74ae4a27ff9183465d7e8",
      "96643f0750f044acbfab332bf70ea24b",
      "ff25e0a9316143f0ba5a2dc76cf54fb2",
      "cf90c1e4a2e24c8f90ddc7820036242c",
      "0ea99ed982ba4d2e84d1efae88e8f074",
      "aeafbd20660544e6afbc55f5cb2c82ab",
      "abbc2d18735342e78cb9eddecc0bc3f4",
      "2b58f664a95b4d35b2a296c0da7fe3d4",
      "8e56a7888c234910bdef95da3f8db5fb",
      "8f93572854c44b4896d11c27577a84ab",
      "f562f3f47827479fa9c4b9041aeb1a0a",
      "669fc7d22d8f40fe9b563e343455f3e7",
      "9a0d8bfb240d4f5aa9c8aca3bd4b455a",
      "ec8b92baef6340aaa7c872efc7ecb9ba",
      "a5d9c55c308c4769a524727013bc74d7",
      "c0453e98abb2451bb4c7d28572ff61ab",
      "22058b4f345647b89b25ea5fab8882d9",
      "85105ba84ed64933b7cb628da71da88a",
      "5ec297af5f164d8d8543fa1090ab3dac",
      "2245dfa26fd549c891b5bd5874239702",
      "53937b4ab81b46b2b9d6261bc0e64db2",
      "0ff1d6ec340941fca7bf6a62faeabbe5",
      "b26e2c34a2a1409aa35ede711e616bb2",
      "02472bd5e73d409086d291f8f988ff14",
      "c3b7bb21b80a4ef7bb7712989e9371cb",
      "b60191f846b54080b5fab9ecfcf6d6ee",
      "bc716a786c4f422eb2dfc05d2ead86cc",
      "abb59b97b3ca46bd988531e27851e9b3",
      "d0dd268cc11a48e08f4b8eab00ee9c8b",
      "6292949e7dd2484faee491a5e3590d51",
      "e301eb3e7c274c5e85f2494d9e451c27",
      "99e7edb040734759b342e9180b2c3bad",
      "49f4102810874db1b472619f4e056eea",
      "4c3b7609201c4228b915c4e41281e6f6",
      "8dc03873055b42a493a76f7a4ba845b2",
      "27d9ca6094f84195bd7a2e4e94d4540f",
      "cd913e0590f042feb75a69c29e7626e6",
      "a339bb3190114d6faefaf7fd167c5f81",
      "ca4b404ef0204e3c99605bb2c5f129e7",
      "28a259e4c0de43fd8eb9b006c503fe22",
      "8df4e3a05e444013a4cbe66db503c4e1",
      "68d20e5a62bf4c71ab8d1fbc88cafd0c",
      "248d05cf7fd54676b9dec942249d1dbf",
      "6e7bfc1fd6744dcd9d40c715f6c862ae",
      "f77a8ad7af1146cdb1d4424b41b6551a",
      "8fb98e14008c46609984a4485dbcc0eb",
      "b6912c4894c748b8a57f9300792048f5",
      "1f18e65f50614d00bce43e85a7495eb6",
      "51340292b8e543df931338979afdbbc7",
      "ad81bb5f6fbd4281b510cf05dafa7e49",
      "e3e3b48f533b4afaa082fbfd57ec2b44",
      "f25d4e0a1b664f75baed88d876e32767",
      "4249b7dcb6dc4fc2a864f17cb4334e8e",
      "df92a2dd8d2549db9f7b9b90ec00233b",
      "14ef945795e3479f9cf5f3f8983eb186",
      "6a80bf685e094c22bd70ca9463023632",
      "2d87355f55a945da9b14b5138eb0510e",
      "06a15efb7b244cb08cac63d4ea3f2cf7",
      "44b57d9e3c6a4b56b588e45dbe0193c2",
      "14c0f86197e34300a9c9ae685062b3c1",
      "deceb4fa15484c74961ebe4c68fabdc0",
      "86de71a22df146e0a5a5b907968c6c4b",
      "39453901ec224d159e3afa210d02ea68",
      "6552169e57054279b241188e09e65128",
      "c5f19ad09d64420693a86c0ad1f0a349",
      "e5f2cb11b31240029637db6c69a493c6",
      "206af5a864e746c383766b379214c30d",
      "b12b74b50ac248f0a55ac9d0857a2306",
      "ecae829cca4144ba91f19702d02eacfd",
      "006fdf269bc04ce4b394fb7f72fc5c7f",
      "d1dc30d448a4475d89cfbacc232300ff",
      "3758dc571dca4024a099248986e471b2",
      "1817dbbbc7dd45e3baf9076431dcebc8",
      "550b5b599b15434493dbd0c7c9a822bf",
      "4b32d2a267af46f6a891cfd4a559a300",
      "33188c9d41824abda63c3ed871244c24",
      "a1f8c4b844cd4f53b6c5f9446fb4d248",
      "e4479bbca6f34b4dbc4e44b3eef954fa",
      "e7c6091ae9ed45f0b36e779b1e59028c",
      "7c05936651ef4193a1e6c7d1e79ffe35",
      "6f50ef170189480fa4c64b52f8e597fe",
      "158d8fcceec549f8955d1e89da222938",
      "a239856858ee4230ae79c5f6915ed8fb",
      "d533b6800b874c3c9c84c51118026f7c",
      "8261186075fc48fdbaa7de92c2b4e32e",
      "4cd57aca97824f648b441faf54515655",
      "974e59cbae6d498a9fd56aa99abf1786",
      "7420ccf9ca3740f294662d7ec9c966d3",
      "c1de2f04737644adb9c8ffd93ec132f6",
      "aaa0701e96584f149fa5c5c2c9064345",
      "3fb3a86329d547ddbca82c9578a0f4b4",
      "32a067c0ef354e0687c7e57a2118208f",
      "5dcfce0a07df4d91a6f594a8a17c09a2",
      "5758f91b20724094959ea2691959bdb7",
      "527783158ee3416f9c936ed02e130be6",
      "aa1e3ea9aa034c16b134c4d1514e8bd8",
      "25a1df35e09b40e2a8c7377cb18c7ed8",
      "e7030b6e900e4c7fb1da6193e18fda1a",
      "fd072c16f90b4094ac4d822106c27e57",
      "1ab1391096374029ad63d162c1bfe560",
      "6178c2a1753342f69bf40b0d1dc6e522",
      "c6042d1f0cd047c196870a239ff1e36a",
      "3a5deb3561374c80937076a132b10891",
      "5dd13ad205624e2690d7d8e3c4c0e534",
      "8efb948fd599434dbe492ce81f6df86d",
      "5ebda19d67784d40904be12c83094257",
      "6728a033de2f4904917cc5f3d8520b5d",
      "41e425debea2440dadde322b09ec5306",
      "73c621445d98402aa82d3a404e29a948",
      "5ec72559251b44c08f760ef69b9d9678",
      "402a4a701c944498b669e68ec1b4f0fa",
      "62446d4ca96d48709c1bd2ab04745be7",
      "18671ac7e4224dc3ba06b612ac79f05d",
      "ae0abdc7d68d4844b6bee78651e09c34",
      "049032eef34a47d39ec80a86ebfe669a"
     ]
    },
    "id": "jgHAYj-vmYei",
    "outputId": "65a535f2-2938-4f3c-c441-b219b35a21db"
   },
   "outputs": [
    {
     "name": "stdout",
     "output_type": "stream",
     "text": [
      "Requirement already satisfied: unbabel-comet in /usr/local/lib/python3.11/dist-packages (2.2.6)\n",
      "Requirement already satisfied: entmax<2.0,>=1.1 in /usr/local/lib/python3.11/dist-packages (from unbabel-comet) (1.3)\n",
      "Requirement already satisfied: huggingface-hub<1.0,>=0.19.3 in /usr/local/lib/python3.11/dist-packages (from unbabel-comet) (0.33.0)\n",
      "Requirement already satisfied: jsonargparse==3.13.1 in /usr/local/lib/python3.11/dist-packages (from unbabel-comet) (3.13.1)\n",
      "Requirement already satisfied: numpy<2.0.0,>=1.20.0 in /usr/local/lib/python3.11/dist-packages (from unbabel-comet) (1.26.4)\n",
      "Requirement already satisfied: pandas>=1.4.1 in /usr/local/lib/python3.11/dist-packages (from unbabel-comet) (2.2.2)\n",
      "Requirement already satisfied: protobuf<5.0.0,>=4.24.4 in /usr/local/lib/python3.11/dist-packages (from unbabel-comet) (4.25.8)\n",
      "Requirement already satisfied: pytorch-lightning<3.0.0,>=2.0.0 in /usr/local/lib/python3.11/dist-packages (from unbabel-comet) (2.5.2)\n",
      "Requirement already satisfied: sacrebleu<3.0.0,>=2.0.0 in /usr/local/lib/python3.11/dist-packages (from unbabel-comet) (2.5.1)\n",
      "Requirement already satisfied: scipy<2.0.0,>=1.5.4 in /usr/local/lib/python3.11/dist-packages (from unbabel-comet) (1.15.3)\n",
      "Requirement already satisfied: sentencepiece<0.3.0,>=0.2.0 in /usr/local/lib/python3.11/dist-packages (from unbabel-comet) (0.2.0)\n",
      "Requirement already satisfied: torch>=1.6.0 in /usr/local/lib/python3.11/dist-packages (from unbabel-comet) (2.6.0+cu124)\n",
      "Requirement already satisfied: torchmetrics<0.11.0,>=0.10.2 in /usr/local/lib/python3.11/dist-packages (from unbabel-comet) (0.10.3)\n",
      "Requirement already satisfied: transformers<5.0,>=4.17 in /usr/local/lib/python3.11/dist-packages (from unbabel-comet) (4.52.4)\n",
      "Requirement already satisfied: PyYAML>=3.13 in /usr/local/lib/python3.11/dist-packages (from jsonargparse==3.13.1->unbabel-comet) (6.0.2)\n",
      "Requirement already satisfied: filelock in /usr/local/lib/python3.11/dist-packages (from huggingface-hub<1.0,>=0.19.3->unbabel-comet) (3.18.0)\n",
      "Requirement already satisfied: fsspec>=2023.5.0 in /usr/local/lib/python3.11/dist-packages (from huggingface-hub<1.0,>=0.19.3->unbabel-comet) (2025.3.2)\n",
      "Requirement already satisfied: packaging>=20.9 in /usr/local/lib/python3.11/dist-packages (from huggingface-hub<1.0,>=0.19.3->unbabel-comet) (24.2)\n",
      "Requirement already satisfied: requests in /usr/local/lib/python3.11/dist-packages (from huggingface-hub<1.0,>=0.19.3->unbabel-comet) (2.32.3)\n",
      "Requirement already satisfied: tqdm>=4.42.1 in /usr/local/lib/python3.11/dist-packages (from huggingface-hub<1.0,>=0.19.3->unbabel-comet) (4.67.1)\n",
      "Requirement already satisfied: typing-extensions>=3.7.4.3 in /usr/local/lib/python3.11/dist-packages (from huggingface-hub<1.0,>=0.19.3->unbabel-comet) (4.14.0)\n",
      "Requirement already satisfied: hf-xet<2.0.0,>=1.1.2 in /usr/local/lib/python3.11/dist-packages (from huggingface-hub<1.0,>=0.19.3->unbabel-comet) (1.1.5)\n",
      "Requirement already satisfied: python-dateutil>=2.8.2 in /usr/local/lib/python3.11/dist-packages (from pandas>=1.4.1->unbabel-comet) (2.9.0.post0)\n",
      "Requirement already satisfied: pytz>=2020.1 in /usr/local/lib/python3.11/dist-packages (from pandas>=1.4.1->unbabel-comet) (2025.2)\n",
      "Requirement already satisfied: tzdata>=2022.7 in /usr/local/lib/python3.11/dist-packages (from pandas>=1.4.1->unbabel-comet) (2025.2)\n",
      "Requirement already satisfied: lightning-utilities>=0.10.0 in /usr/local/lib/python3.11/dist-packages (from pytorch-lightning<3.0.0,>=2.0.0->unbabel-comet) (0.14.3)\n",
      "Requirement already satisfied: portalocker in /usr/local/lib/python3.11/dist-packages (from sacrebleu<3.0.0,>=2.0.0->unbabel-comet) (3.2.0)\n",
      "Requirement already satisfied: regex in /usr/local/lib/python3.11/dist-packages (from sacrebleu<3.0.0,>=2.0.0->unbabel-comet) (2024.11.6)\n",
      "Requirement already satisfied: tabulate>=0.8.9 in /usr/local/lib/python3.11/dist-packages (from sacrebleu<3.0.0,>=2.0.0->unbabel-comet) (0.9.0)\n",
      "Requirement already satisfied: colorama in /usr/local/lib/python3.11/dist-packages (from sacrebleu<3.0.0,>=2.0.0->unbabel-comet) (0.4.6)\n",
      "Requirement already satisfied: lxml in /usr/local/lib/python3.11/dist-packages (from sacrebleu<3.0.0,>=2.0.0->unbabel-comet) (5.4.0)\n",
      "Requirement already satisfied: networkx in /usr/local/lib/python3.11/dist-packages (from torch>=1.6.0->unbabel-comet) (3.5)\n",
      "Requirement already satisfied: jinja2 in /usr/local/lib/python3.11/dist-packages (from torch>=1.6.0->unbabel-comet) (3.1.6)\n",
      "Requirement already satisfied: nvidia-cuda-nvrtc-cu12==12.4.127 in /usr/local/lib/python3.11/dist-packages (from torch>=1.6.0->unbabel-comet) (12.4.127)\n",
      "Requirement already satisfied: nvidia-cuda-runtime-cu12==12.4.127 in /usr/local/lib/python3.11/dist-packages (from torch>=1.6.0->unbabel-comet) (12.4.127)\n",
      "Requirement already satisfied: nvidia-cuda-cupti-cu12==12.4.127 in /usr/local/lib/python3.11/dist-packages (from torch>=1.6.0->unbabel-comet) (12.4.127)\n",
      "Requirement already satisfied: nvidia-cudnn-cu12==9.1.0.70 in /usr/local/lib/python3.11/dist-packages (from torch>=1.6.0->unbabel-comet) (9.1.0.70)\n",
      "Requirement already satisfied: nvidia-cublas-cu12==12.4.5.8 in /usr/local/lib/python3.11/dist-packages (from torch>=1.6.0->unbabel-comet) (12.4.5.8)\n",
      "Requirement already satisfied: nvidia-cufft-cu12==11.2.1.3 in /usr/local/lib/python3.11/dist-packages (from torch>=1.6.0->unbabel-comet) (11.2.1.3)\n",
      "Requirement already satisfied: nvidia-curand-cu12==10.3.5.147 in /usr/local/lib/python3.11/dist-packages (from torch>=1.6.0->unbabel-comet) (10.3.5.147)\n",
      "Requirement already satisfied: nvidia-cusolver-cu12==11.6.1.9 in /usr/local/lib/python3.11/dist-packages (from torch>=1.6.0->unbabel-comet) (11.6.1.9)\n",
      "Requirement already satisfied: nvidia-cusparse-cu12==12.3.1.170 in /usr/local/lib/python3.11/dist-packages (from torch>=1.6.0->unbabel-comet) (12.3.1.170)\n",
      "Requirement already satisfied: nvidia-cusparselt-cu12==0.6.2 in /usr/local/lib/python3.11/dist-packages (from torch>=1.6.0->unbabel-comet) (0.6.2)\n",
      "Requirement already satisfied: nvidia-nccl-cu12==2.21.5 in /usr/local/lib/python3.11/dist-packages (from torch>=1.6.0->unbabel-comet) (2.21.5)\n",
      "Requirement already satisfied: nvidia-nvtx-cu12==12.4.127 in /usr/local/lib/python3.11/dist-packages (from torch>=1.6.0->unbabel-comet) (12.4.127)\n",
      "Requirement already satisfied: nvidia-nvjitlink-cu12==12.4.127 in /usr/local/lib/python3.11/dist-packages (from torch>=1.6.0->unbabel-comet) (12.4.127)\n",
      "Requirement already satisfied: triton==3.2.0 in /usr/local/lib/python3.11/dist-packages (from torch>=1.6.0->unbabel-comet) (3.2.0)\n",
      "Requirement already satisfied: sympy==1.13.1 in /usr/local/lib/python3.11/dist-packages (from torch>=1.6.0->unbabel-comet) (1.13.1)\n",
      "Requirement already satisfied: mpmath<1.4,>=1.1.0 in /usr/local/lib/python3.11/dist-packages (from sympy==1.13.1->torch>=1.6.0->unbabel-comet) (1.3.0)\n",
      "Requirement already satisfied: tokenizers<0.22,>=0.21 in /usr/local/lib/python3.11/dist-packages (from transformers<5.0,>=4.17->unbabel-comet) (0.21.2)\n",
      "Requirement already satisfied: safetensors>=0.4.3 in /usr/local/lib/python3.11/dist-packages (from transformers<5.0,>=4.17->unbabel-comet) (0.5.3)\n",
      "Requirement already satisfied: aiohttp!=4.0.0a0,!=4.0.0a1 in /usr/local/lib/python3.11/dist-packages (from fsspec[http]>=2022.5.0->pytorch-lightning<3.0.0,>=2.0.0->unbabel-comet) (3.11.15)\n",
      "Requirement already satisfied: setuptools in /usr/local/lib/python3.11/dist-packages (from lightning-utilities>=0.10.0->pytorch-lightning<3.0.0,>=2.0.0->unbabel-comet) (75.2.0)\n",
      "Requirement already satisfied: six>=1.5 in /usr/local/lib/python3.11/dist-packages (from python-dateutil>=2.8.2->pandas>=1.4.1->unbabel-comet) (1.17.0)\n",
      "Requirement already satisfied: MarkupSafe>=2.0 in /usr/local/lib/python3.11/dist-packages (from jinja2->torch>=1.6.0->unbabel-comet) (3.0.2)\n",
      "Requirement already satisfied: charset-normalizer<4,>=2 in /usr/local/lib/python3.11/dist-packages (from requests->huggingface-hub<1.0,>=0.19.3->unbabel-comet) (3.4.2)\n",
      "Requirement already satisfied: idna<4,>=2.5 in /usr/local/lib/python3.11/dist-packages (from requests->huggingface-hub<1.0,>=0.19.3->unbabel-comet) (3.10)\n",
      "Requirement already satisfied: urllib3<3,>=1.21.1 in /usr/local/lib/python3.11/dist-packages (from requests->huggingface-hub<1.0,>=0.19.3->unbabel-comet) (2.4.0)\n",
      "Requirement already satisfied: certifi>=2017.4.17 in /usr/local/lib/python3.11/dist-packages (from requests->huggingface-hub<1.0,>=0.19.3->unbabel-comet) (2025.6.15)\n",
      "Requirement already satisfied: aiohappyeyeballs>=2.3.0 in /usr/local/lib/python3.11/dist-packages (from aiohttp!=4.0.0a0,!=4.0.0a1->fsspec[http]>=2022.5.0->pytorch-lightning<3.0.0,>=2.0.0->unbabel-comet) (2.6.1)\n",
      "Requirement already satisfied: aiosignal>=1.1.2 in /usr/local/lib/python3.11/dist-packages (from aiohttp!=4.0.0a0,!=4.0.0a1->fsspec[http]>=2022.5.0->pytorch-lightning<3.0.0,>=2.0.0->unbabel-comet) (1.3.2)\n",
      "Requirement already satisfied: attrs>=17.3.0 in /usr/local/lib/python3.11/dist-packages (from aiohttp!=4.0.0a0,!=4.0.0a1->fsspec[http]>=2022.5.0->pytorch-lightning<3.0.0,>=2.0.0->unbabel-comet) (25.3.0)\n",
      "Requirement already satisfied: frozenlist>=1.1.1 in /usr/local/lib/python3.11/dist-packages (from aiohttp!=4.0.0a0,!=4.0.0a1->fsspec[http]>=2022.5.0->pytorch-lightning<3.0.0,>=2.0.0->unbabel-comet) (1.7.0)\n",
      "Requirement already satisfied: multidict<7.0,>=4.5 in /usr/local/lib/python3.11/dist-packages (from aiohttp!=4.0.0a0,!=4.0.0a1->fsspec[http]>=2022.5.0->pytorch-lightning<3.0.0,>=2.0.0->unbabel-comet) (6.4.4)\n",
      "Requirement already satisfied: propcache>=0.2.0 in /usr/local/lib/python3.11/dist-packages (from aiohttp!=4.0.0a0,!=4.0.0a1->fsspec[http]>=2022.5.0->pytorch-lightning<3.0.0,>=2.0.0->unbabel-comet) (0.3.2)\n",
      "Requirement already satisfied: yarl<2.0,>=1.17.0 in /usr/local/lib/python3.11/dist-packages (from aiohttp!=4.0.0a0,!=4.0.0a1->fsspec[http]>=2022.5.0->pytorch-lightning<3.0.0,>=2.0.0->unbabel-comet) (1.20.1)\n"
     ]
    },
    {
     "name": "stderr",
     "output_type": "stream",
     "text": [
      "[nltk_data] Downloading package punkt to /root/nltk_data...\n",
      "[nltk_data]   Package punkt is already up-to-date!\n"
     ]
    },
    {
     "name": "stdout",
     "output_type": "stream",
     "text": [
      "Using device: cpu\n"
     ]
    },
    {
     "name": "stderr",
     "output_type": "stream",
     "text": [
      "/usr/local/lib/python3.11/dist-packages/huggingface_hub/utils/_auth.py:94: UserWarning: \n",
      "The secret `HF_TOKEN` does not exist in your Colab secrets.\n",
      "To authenticate with the Hugging Face Hub, create a token in your settings tab (https://huggingface.co/settings/tokens), set it as secret in your Google Colab and restart your session.\n",
      "You will be able to reuse this secret in all of your notebooks.\n",
      "Please note that authentication is recommended but still optional to access public models or datasets.\n",
      "  warnings.warn(\n"
     ]
    },
    {
     "data": {
      "application/vnd.jupyter.widget-view+json": {
       "model_id": "a14afc22aca04d898a58d6c3e32349c1",
       "version_major": 2,
       "version_minor": 0
      },
      "text/plain": [
       "tokenizer_config.json:   0%|          | 0.00/298 [00:00<?, ?B/s]"
      ]
     },
     "metadata": {},
     "output_type": "display_data"
    },
    {
     "data": {
      "application/vnd.jupyter.widget-view+json": {
       "model_id": "69d3d869c58b45fcaa2a10818c48a8db",
       "version_major": 2,
       "version_minor": 0
      },
      "text/plain": [
       "vocab.json: 0.00B [00:00, ?B/s]"
      ]
     },
     "metadata": {},
     "output_type": "display_data"
    },
    {
     "data": {
      "application/vnd.jupyter.widget-view+json": {
       "model_id": "46b33ca5b2ad456a88fe11706995bccf",
       "version_major": 2,
       "version_minor": 0
      },
      "text/plain": [
       "sentencepiece.bpe.model:   0%|          | 0.00/2.42M [00:00<?, ?B/s]"
      ]
     },
     "metadata": {},
     "output_type": "display_data"
    },
    {
     "data": {
      "application/vnd.jupyter.widget-view+json": {
       "model_id": "323c8df44c43443e96067e31d1388fc1",
       "version_major": 2,
       "version_minor": 0
      },
      "text/plain": [
       "special_tokens_map.json: 0.00B [00:00, ?B/s]"
      ]
     },
     "metadata": {},
     "output_type": "display_data"
    },
    {
     "data": {
      "application/vnd.jupyter.widget-view+json": {
       "model_id": "f0b0e6b3659a454fbd918a58f5869245",
       "version_major": 2,
       "version_minor": 0
      },
      "text/plain": [
       "config.json:   0%|          | 0.00/908 [00:00<?, ?B/s]"
      ]
     },
     "metadata": {},
     "output_type": "display_data"
    },
    {
     "data": {
      "application/vnd.jupyter.widget-view+json": {
       "model_id": "a05b1fb55eea4d0181cd5c8b794348db",
       "version_major": 2,
       "version_minor": 0
      },
      "text/plain": [
       "pytorch_model.bin:   0%|          | 0.00/1.94G [00:00<?, ?B/s]"
      ]
     },
     "metadata": {},
     "output_type": "display_data"
    },
    {
     "data": {
      "application/vnd.jupyter.widget-view+json": {
       "model_id": "29d4e037e60b4a9db45252808be64346",
       "version_major": 2,
       "version_minor": 0
      },
      "text/plain": [
       "model.safetensors:   0%|          | 0.00/1.94G [00:00<?, ?B/s]"
      ]
     },
     "metadata": {},
     "output_type": "display_data"
    },
    {
     "data": {
      "application/vnd.jupyter.widget-view+json": {
       "model_id": "b6e91d3bc6f64d858d03982a298a8aae",
       "version_major": 2,
       "version_minor": 0
      },
      "text/plain": [
       "generation_config.json:   0%|          | 0.00/233 [00:00<?, ?B/s]"
      ]
     },
     "metadata": {},
     "output_type": "display_data"
    },
    {
     "data": {
      "application/vnd.jupyter.widget-view+json": {
       "model_id": "f0b48c3567cb49f19a8b6c56ea28ccbd",
       "version_major": 2,
       "version_minor": 0
      },
      "text/plain": [
       "Downloading builder script: 0.00B [00:00, ?B/s]"
      ]
     },
     "metadata": {},
     "output_type": "display_data"
    },
    {
     "data": {
      "application/vnd.jupyter.widget-view+json": {
       "model_id": "a2d5caf7b7f243aa9438e823097a11e5",
       "version_major": 2,
       "version_minor": 0
      },
      "text/plain": [
       "Downloading extra modules:   0%|          | 0.00/1.55k [00:00<?, ?B/s]"
      ]
     },
     "metadata": {},
     "output_type": "display_data"
    },
    {
     "data": {
      "application/vnd.jupyter.widget-view+json": {
       "model_id": "8e0912fd64c7437bbda585041f34286e",
       "version_major": 2,
       "version_minor": 0
      },
      "text/plain": [
       "Downloading extra modules: 0.00B [00:00, ?B/s]"
      ]
     },
     "metadata": {},
     "output_type": "display_data"
    },
    {
     "data": {
      "application/vnd.jupyter.widget-view+json": {
       "model_id": "ac343eda6f8f4816a8c0be1fe3222eb3",
       "version_major": 2,
       "version_minor": 0
      },
      "text/plain": [
       "Downloading builder script: 0.00B [00:00, ?B/s]"
      ]
     },
     "metadata": {},
     "output_type": "display_data"
    },
    {
     "data": {
      "application/vnd.jupyter.widget-view+json": {
       "model_id": "999b79a050954159b70e062a1aa51fe0",
       "version_major": 2,
       "version_minor": 0
      },
      "text/plain": [
       "Downloading builder script: 0.00B [00:00, ?B/s]"
      ]
     },
     "metadata": {},
     "output_type": "display_data"
    },
    {
     "name": "stderr",
     "output_type": "stream",
     "text": [
      "[nltk_data] Downloading package wordnet to /root/nltk_data...\n",
      "[nltk_data] Downloading package punkt_tab to /root/nltk_data...\n",
      "[nltk_data]   Unzipping tokenizers/punkt_tab.zip.\n",
      "[nltk_data] Downloading package omw-1.4 to /root/nltk_data...\n"
     ]
    },
    {
     "data": {
      "application/vnd.jupyter.widget-view+json": {
       "model_id": "3665bac6f944471abcdc137c3f667132",
       "version_major": 2,
       "version_minor": 0
      },
      "text/plain": [
       "Downloading builder script: 0.00B [00:00, ?B/s]"
      ]
     },
     "metadata": {},
     "output_type": "display_data"
    },
    {
     "data": {
      "application/vnd.jupyter.widget-view+json": {
       "model_id": "9223e08b78da4f6681ee348944bf14e7",
       "version_major": 2,
       "version_minor": 0
      },
      "text/plain": [
       "Downloading builder script: 0.00B [00:00, ?B/s]"
      ]
     },
     "metadata": {},
     "output_type": "display_data"
    },
    {
     "data": {
      "application/vnd.jupyter.widget-view+json": {
       "model_id": "f9cba13a29cf4fcf8404f6e45e8e70fb",
       "version_major": 2,
       "version_minor": 0
      },
      "text/plain": [
       "Downloading builder script: 0.00B [00:00, ?B/s]"
      ]
     },
     "metadata": {},
     "output_type": "display_data"
    },
    {
     "data": {
      "application/vnd.jupyter.widget-view+json": {
       "model_id": "c6c572ea52da4e1988c3b9115c2e2820",
       "version_major": 2,
       "version_minor": 0
      },
      "text/plain": [
       "Fetching 5 files:   0%|          | 0/5 [00:00<?, ?it/s]"
      ]
     },
     "metadata": {},
     "output_type": "display_data"
    },
    {
     "data": {
      "application/vnd.jupyter.widget-view+json": {
       "model_id": "efb2f10980154a4787a6bd1f1bc99d0f",
       "version_major": 2,
       "version_minor": 0
      },
      "text/plain": [
       ".gitattributes: 0.00B [00:00, ?B/s]"
      ]
     },
     "metadata": {},
     "output_type": "display_data"
    },
    {
     "data": {
      "application/vnd.jupyter.widget-view+json": {
       "model_id": "1ac65db6aa8d4975a2574dd19e5aa71c",
       "version_major": 2,
       "version_minor": 0
      },
      "text/plain": [
       "LICENSE: 0.00B [00:00, ?B/s]"
      ]
     },
     "metadata": {},
     "output_type": "display_data"
    },
    {
     "data": {
      "application/vnd.jupyter.widget-view+json": {
       "model_id": "6737de2332ad476ea74fc238ba3ae390",
       "version_major": 2,
       "version_minor": 0
      },
      "text/plain": [
       "README.md: 0.00B [00:00, ?B/s]"
      ]
     },
     "metadata": {},
     "output_type": "display_data"
    },
    {
     "data": {
      "application/vnd.jupyter.widget-view+json": {
       "model_id": "752eb114bd3d4a2cb2e6d66253569ef4",
       "version_major": 2,
       "version_minor": 0
      },
      "text/plain": [
       "hparams.yaml:   0%|          | 0.00/567 [00:00<?, ?B/s]"
      ]
     },
     "metadata": {},
     "output_type": "display_data"
    },
    {
     "data": {
      "application/vnd.jupyter.widget-view+json": {
       "model_id": "9c7479197c214bbd967c1da5d344aa49",
       "version_major": 2,
       "version_minor": 0
      },
      "text/plain": [
       "checkpoints/model.ckpt:   0%|          | 0.00/2.32G [00:00<?, ?B/s]"
      ]
     },
     "metadata": {},
     "output_type": "display_data"
    },
    {
     "name": "stderr",
     "output_type": "stream",
     "text": [
      "INFO:pytorch_lightning.utilities.migration.utils:Lightning automatically upgraded your loaded checkpoint from v1.8.3.post1 to v2.5.2. To apply the upgrade to your files permanently, run `python -m pytorch_lightning.utilities.upgrade_checkpoint ../root/.cache/huggingface/hub/models--Unbabel--wmt22-comet-da/snapshots/2760a223ac957f30acfb18c8aa649b01cf1d75f2/checkpoints/model.ckpt`\n"
     ]
    },
    {
     "data": {
      "application/vnd.jupyter.widget-view+json": {
       "model_id": "aeafbd20660544e6afbc55f5cb2c82ab",
       "version_major": 2,
       "version_minor": 0
      },
      "text/plain": [
       "tokenizer_config.json:   0%|          | 0.00/25.0 [00:00<?, ?B/s]"
      ]
     },
     "metadata": {},
     "output_type": "display_data"
    },
    {
     "data": {
      "application/vnd.jupyter.widget-view+json": {
       "model_id": "22058b4f345647b89b25ea5fab8882d9",
       "version_major": 2,
       "version_minor": 0
      },
      "text/plain": [
       "sentencepiece.bpe.model:   0%|          | 0.00/5.07M [00:00<?, ?B/s]"
      ]
     },
     "metadata": {},
     "output_type": "display_data"
    },
    {
     "data": {
      "application/vnd.jupyter.widget-view+json": {
       "model_id": "abb59b97b3ca46bd988531e27851e9b3",
       "version_major": 2,
       "version_minor": 0
      },
      "text/plain": [
       "tokenizer.json:   0%|          | 0.00/9.10M [00:00<?, ?B/s]"
      ]
     },
     "metadata": {},
     "output_type": "display_data"
    },
    {
     "data": {
      "application/vnd.jupyter.widget-view+json": {
       "model_id": "ca4b404ef0204e3c99605bb2c5f129e7",
       "version_major": 2,
       "version_minor": 0
      },
      "text/plain": [
       "config.json:   0%|          | 0.00/616 [00:00<?, ?B/s]"
      ]
     },
     "metadata": {},
     "output_type": "display_data"
    },
    {
     "name": "stderr",
     "output_type": "stream",
     "text": [
      "/usr/local/lib/python3.11/dist-packages/pytorch_lightning/core/saving.py:195: Found keys that are not in the model state dict but in the checkpoint: ['encoder.model.embeddings.position_ids']\n"
     ]
    },
    {
     "name": "stdout",
     "output_type": "stream",
     "text": [
      "\n",
      "=== Arabic → English ===\n"
     ]
    },
    {
     "data": {
      "application/vnd.jupyter.widget-view+json": {
       "model_id": "ad81bb5f6fbd4281b510cf05dafa7e49",
       "version_major": 2,
       "version_minor": 0
      },
      "text/plain": [
       "tokenizer_config.json:   0%|          | 0.00/25.0 [00:00<?, ?B/s]"
      ]
     },
     "metadata": {},
     "output_type": "display_data"
    },
    {
     "data": {
      "application/vnd.jupyter.widget-view+json": {
       "model_id": "deceb4fa15484c74961ebe4c68fabdc0",
       "version_major": 2,
       "version_minor": 0
      },
      "text/plain": [
       "config.json:   0%|          | 0.00/482 [00:00<?, ?B/s]"
      ]
     },
     "metadata": {},
     "output_type": "display_data"
    },
    {
     "data": {
      "application/vnd.jupyter.widget-view+json": {
       "model_id": "3758dc571dca4024a099248986e471b2",
       "version_major": 2,
       "version_minor": 0
      },
      "text/plain": [
       "vocab.json:   0%|          | 0.00/899k [00:00<?, ?B/s]"
      ]
     },
     "metadata": {},
     "output_type": "display_data"
    },
    {
     "data": {
      "application/vnd.jupyter.widget-view+json": {
       "model_id": "a239856858ee4230ae79c5f6915ed8fb",
       "version_major": 2,
       "version_minor": 0
      },
      "text/plain": [
       "merges.txt:   0%|          | 0.00/456k [00:00<?, ?B/s]"
      ]
     },
     "metadata": {},
     "output_type": "display_data"
    },
    {
     "data": {
      "application/vnd.jupyter.widget-view+json": {
       "model_id": "5758f91b20724094959ea2691959bdb7",
       "version_major": 2,
       "version_minor": 0
      },
      "text/plain": [
       "tokenizer.json:   0%|          | 0.00/1.36M [00:00<?, ?B/s]"
      ]
     },
     "metadata": {},
     "output_type": "display_data"
    },
    {
     "data": {
      "application/vnd.jupyter.widget-view+json": {
       "model_id": "8efb948fd599434dbe492ce81f6df86d",
       "version_major": 2,
       "version_minor": 0
      },
      "text/plain": [
       "model.safetensors:   0%|          | 0.00/1.42G [00:00<?, ?B/s]"
      ]
     },
     "metadata": {},
     "output_type": "display_data"
    },
    {
     "name": "stderr",
     "output_type": "stream",
     "text": [
      "INFO:pytorch_lightning.utilities.rank_zero:💡 Tip: For seamless cloud uploads and versioning, try installing [litmodels](https://pypi.org/project/litmodels/) to enable LitModelCheckpoint, which syncs automatically with the Lightning model registry.\n",
      "INFO:pytorch_lightning.utilities.rank_zero:GPU available: False, used: False\n",
      "INFO:pytorch_lightning.utilities.rank_zero:TPU available: False, using: 0 TPU cores\n",
      "INFO:pytorch_lightning.utilities.rank_zero:HPU available: False, using: 0 HPUs\n"
     ]
    },
    {
     "name": "stdout",
     "output_type": "stream",
     "text": [
      "Source    : أنا أتقدم للحصول على تأشيرة سياحية لزيارة الولايات المتحدة. أنوي البقاء لمدة أسبوعين وزيارة معالم مشهورة مثل تمثال الحرية وساحة التايمز. سأعود إلى بلدي بعد انتهاء عطلتي.\n",
      "Reference : I am applying for a tourist visa to visit the United States. I intend to stay for two weeks and visit popular landmarks like the Statue of Liberty and Times Square. I will return to my home country after my vacation.\n",
      "Predicted : I apply for a tourist visa to visit the United States. I intend to stay for two weeks and visit famous attractions such as the Statue of Freedom and the Times Square. I will return to my country after my vacation ends.\n",
      "\n",
      "BLEU      : 0.6491\n",
      "BERTScore : 0.9792\n",
      "METEOR    : 0.8538\n",
      "ROUGE-L   : 0.8193\n",
      "TER       : 26.8293\n",
      "COMET     : 0.9073\n",
      "\n",
      "Time to 1st tok : 33.5291s\n",
      "Total inf time  : 33.5438s\n",
      "Tokens/sec      : 1.76\n",
      "RAM   : 1253.52 MB\n",
      "CPU   : -14.20 %\n",
      "Model size : 1845.95 MB\n",
      "============================================================\n",
      "\n",
      "=== Spanish → English ===\n"
     ]
    },
    {
     "name": "stderr",
     "output_type": "stream",
     "text": [
      "INFO:pytorch_lightning.utilities.rank_zero:💡 Tip: For seamless cloud uploads and versioning, try installing [litmodels](https://pypi.org/project/litmodels/) to enable LitModelCheckpoint, which syncs automatically with the Lightning model registry.\n",
      "INFO:pytorch_lightning.utilities.rank_zero:GPU available: False, used: False\n",
      "INFO:pytorch_lightning.utilities.rank_zero:TPU available: False, using: 0 TPU cores\n",
      "INFO:pytorch_lightning.utilities.rank_zero:HPU available: False, using: 0 HPUs\n"
     ]
    },
    {
     "name": "stdout",
     "output_type": "stream",
     "text": [
      "Source    : Estoy solicitando una visa de turista para visitar los Estados Unidos. Tengo la intención de quedarme dos semanas y visitar lugares famosos como la Estatua de la Libertad y Times Square. Regresaré a mi país después de mis vacaciones.\n",
      "Reference : I am applying for a tourist visa to visit the United States. I intend to stay for two weeks and visit popular landmarks like the Statue of Liberty and Times Square. I will return to my home country after my vacation.\n",
      "Predicted : I am seeking a tourist visa to visit the United States. I intend to stay for two weeks and visit famous places such as the Statue of Freedom and Times Square. I will return to my country after my holidays.\n",
      "\n",
      "BLEU      : 0.6463\n",
      "BERTScore : 0.9815\n",
      "METEOR    : 0.8400\n",
      "ROUGE-L   : 0.8148\n",
      "TER       : 21.9512\n",
      "COMET     : 0.9068\n",
      "\n",
      "Time to 1st tok : 25.2628s\n",
      "Total inf time  : 25.2715s\n",
      "Tokens/sec      : 2.10\n",
      "RAM   : 753.32 MB\n",
      "CPU   : 24.40 %\n",
      "Model size : 1845.95 MB\n",
      "============================================================\n",
      "\n",
      "=== French → English ===\n"
     ]
    },
    {
     "name": "stderr",
     "output_type": "stream",
     "text": [
      "INFO:pytorch_lightning.utilities.rank_zero:💡 Tip: For seamless cloud uploads and versioning, try installing [litmodels](https://pypi.org/project/litmodels/) to enable LitModelCheckpoint, which syncs automatically with the Lightning model registry.\n",
      "INFO:pytorch_lightning.utilities.rank_zero:GPU available: False, used: False\n",
      "INFO:pytorch_lightning.utilities.rank_zero:TPU available: False, using: 0 TPU cores\n",
      "INFO:pytorch_lightning.utilities.rank_zero:HPU available: False, using: 0 HPUs\n"
     ]
    },
    {
     "name": "stdout",
     "output_type": "stream",
     "text": [
      "Source    : Je demande un visa de touriste pour visiter les États-Unis. J’ai l’intention de rester deux semaines et de visiter des sites célèbres comme la Statue de la Liberté et Times Square. Je retournerai dans mon pays après mes vacances.\n",
      "Reference : I am applying for a tourist visa to visit the United States. I intend to stay for two weeks and visit popular landmarks like the Statue of Liberty and Times Square. I will return to my home country after my vacation.\n",
      "Predicted : I ask for a tourist visa to visit the United States. I intend to stay for two weeks and visit famous sites such as the Statue of Freedom and Times Square. I will return to my country after my holidays.\n",
      "\n",
      "BLEU      : 0.6603\n",
      "BERTScore : 0.9769\n",
      "METEOR    : 0.8181\n",
      "ROUGE-L   : 0.8148\n",
      "TER       : 21.9512\n",
      "COMET     : 0.9048\n",
      "\n",
      "Time to 1st tok : 19.6394s\n",
      "Total inf time  : 19.6472s\n",
      "Tokens/sec      : 3.21\n",
      "RAM   : 0.00 MB\n",
      "CPU   : -15.50 %\n",
      "Model size : 1845.95 MB\n",
      "============================================================\n",
      "\n",
      "=== Russian → English ===\n"
     ]
    },
    {
     "name": "stderr",
     "output_type": "stream",
     "text": [
      "INFO:pytorch_lightning.utilities.rank_zero:💡 Tip: For seamless cloud uploads and versioning, try installing [litmodels](https://pypi.org/project/litmodels/) to enable LitModelCheckpoint, which syncs automatically with the Lightning model registry.\n",
      "INFO:pytorch_lightning.utilities.rank_zero:GPU available: False, used: False\n",
      "INFO:pytorch_lightning.utilities.rank_zero:TPU available: False, using: 0 TPU cores\n",
      "INFO:pytorch_lightning.utilities.rank_zero:HPU available: False, using: 0 HPUs\n"
     ]
    },
    {
     "name": "stdout",
     "output_type": "stream",
     "text": [
      "Source    : Я подаю заявку на туристическую визу для поездки в Соединенные Штаты. Я собираюсь остаться на две недели и посетить известные достопримечательности, такие как Статуя Свободы и Таймс-сквер. Я вернусь в свою страну после отпуска.\n",
      "Reference : I am applying for a tourist visa to visit the United States. I intend to stay for two weeks and visit popular landmarks like the Statue of Liberty and Times Square. I will return to my home country after my vacation.\n",
      "Predicted : I'm going to stay for two weeks and visit famous attractions such as the Statue of Freedom and the Times Square. I'm going to return to my country after a vacation.\n",
      "\n",
      "BLEU      : 0.2318\n",
      "BERTScore : 0.9505\n",
      "METEOR    : 0.5562\n",
      "ROUGE-L   : 0.5676\n",
      "TER       : 56.0976\n",
      "COMET     : 0.8066\n",
      "\n",
      "Time to 1st tok : 15.9693s\n",
      "Total inf time  : 15.9751s\n",
      "Tokens/sec      : 4.01\n",
      "RAM   : -0.19 MB\n",
      "CPU   : -13.60 %\n",
      "Model size : 1845.95 MB\n",
      "============================================================\n",
      "\n",
      "=== Romanian → English ===\n"
     ]
    },
    {
     "name": "stderr",
     "output_type": "stream",
     "text": [
      "INFO:pytorch_lightning.utilities.rank_zero:💡 Tip: For seamless cloud uploads and versioning, try installing [litmodels](https://pypi.org/project/litmodels/) to enable LitModelCheckpoint, which syncs automatically with the Lightning model registry.\n",
      "INFO:pytorch_lightning.utilities.rank_zero:GPU available: False, used: False\n",
      "INFO:pytorch_lightning.utilities.rank_zero:TPU available: False, using: 0 TPU cores\n",
      "INFO:pytorch_lightning.utilities.rank_zero:HPU available: False, using: 0 HPUs\n"
     ]
    },
    {
     "name": "stdout",
     "output_type": "stream",
     "text": [
      "Source    : Solicit o viză turistică pentru a vizita Statele Unite. Intenționez să stau două săptămâni și să vizitez repere populare precum Statuia Libertății și Times Square. Mă voi întoarce în țara mea după vacanță.\n",
      "Reference : I am applying for a tourist visa to visit the United States. I intend to stay for two weeks and visit popular landmarks like the Statue of Liberty and Times Square. I will return to my home country after my vacation.\n",
      "Predicted : I seek a tourist visa to visit the United States. I intend to stay for two weeks and visit popular sights such as the Statue of Freedom and Times Square. I will return to my country after a vacation.\n",
      "\n",
      "BLEU      : 0.6538\n",
      "BERTScore : 0.9772\n",
      "METEOR    : 0.8174\n",
      "ROUGE-L   : 0.8250\n",
      "TER       : 21.9512\n",
      "COMET     : 0.9105\n",
      "\n",
      "Time to 1st tok : 19.2016s\n",
      "Total inf time  : 19.2080s\n",
      "Tokens/sec      : 3.12\n",
      "RAM   : 0.00 MB\n",
      "CPU   : 14.80 %\n",
      "Model size : 1845.95 MB\n",
      "============================================================\n",
      "\n",
      "=== Bulgarian → English ===\n"
     ]
    },
    {
     "name": "stderr",
     "output_type": "stream",
     "text": [
      "INFO:pytorch_lightning.utilities.rank_zero:💡 Tip: For seamless cloud uploads and versioning, try installing [litmodels](https://pypi.org/project/litmodels/) to enable LitModelCheckpoint, which syncs automatically with the Lightning model registry.\n",
      "INFO:pytorch_lightning.utilities.rank_zero:GPU available: False, used: False\n",
      "INFO:pytorch_lightning.utilities.rank_zero:TPU available: False, using: 0 TPU cores\n",
      "INFO:pytorch_lightning.utilities.rank_zero:HPU available: False, using: 0 HPUs\n"
     ]
    },
    {
     "name": "stdout",
     "output_type": "stream",
     "text": [
      "Source    : Кандидатствам за туристическа виза за посещение на Съединените щати. Възнамерявам да остана две седмици и да посетя популярни забележителности като Статуята на свободата и Таймс Скуеър. Ще се върна в родината си след ваканцията.\n",
      "Reference : I am applying for a tourist visa to visit the United States. I intend to stay for two weeks and visit popular landmarks like the Statue of Liberty and Times Square. I will return to my home country after my vacation.\n",
      "Predicted : I apply for a tourist visa to visit the United States. I intend to stay for two weeks and visit popular attractions such as the Statue of Freedom and the Times Square. I will return to my homeland after the holiday.\n",
      "\n",
      "BLEU      : 0.6378\n",
      "BERTScore : 0.9770\n",
      "METEOR    : 0.8065\n",
      "ROUGE-L   : 0.7805\n",
      "TER       : 26.8293\n",
      "COMET     : 0.9004\n",
      "\n",
      "Time to 1st tok : 20.0091s\n",
      "Total inf time  : 20.0156s\n",
      "Tokens/sec      : 3.35\n",
      "RAM   : -0.19 MB\n",
      "CPU   : 15.40 %\n",
      "Model size : 1845.95 MB\n",
      "============================================================\n",
      "\n",
      "=== Czech → English ===\n"
     ]
    },
    {
     "name": "stderr",
     "output_type": "stream",
     "text": [
      "INFO:pytorch_lightning.utilities.rank_zero:💡 Tip: For seamless cloud uploads and versioning, try installing [litmodels](https://pypi.org/project/litmodels/) to enable LitModelCheckpoint, which syncs automatically with the Lightning model registry.\n",
      "INFO:pytorch_lightning.utilities.rank_zero:GPU available: False, used: False\n",
      "INFO:pytorch_lightning.utilities.rank_zero:TPU available: False, using: 0 TPU cores\n",
      "INFO:pytorch_lightning.utilities.rank_zero:HPU available: False, using: 0 HPUs\n"
     ]
    },
    {
     "name": "stdout",
     "output_type": "stream",
     "text": [
      "Source    : Žádám o turistické vízum pro návštěvu Spojených států. Mám v úmyslu zůstat dva týdny a navštívit známá místa jako Sochu svobody a Times Square. Po dovolené se vrátím do své domovské země.\n",
      "Reference : I am applying for a tourist visa to visit the United States. I intend to stay for two weeks and visit popular landmarks like the Statue of Liberty and Times Square. I will return to my home country after my vacation.\n",
      "Predicted : I apply for a tourist visa to visit the United States. I intend to stay for two weeks and visit famous places such as the Statue of Freedom and Times Square.\n",
      "\n",
      "BLEU      : 0.4879\n",
      "BERTScore : 0.9631\n",
      "METEOR    : 0.6520\n",
      "ROUGE-L   : 0.6944\n",
      "TER       : 41.4634\n",
      "COMET     : 0.8611\n",
      "\n",
      "Time to 1st tok : 14.8942s\n",
      "Total inf time  : 14.8996s\n",
      "Tokens/sec      : 3.96\n",
      "RAM   : 0.00 MB\n",
      "CPU   : 10.20 %\n",
      "Model size : 1845.95 MB\n",
      "============================================================\n",
      "\n",
      "=== Danish → English ===\n"
     ]
    },
    {
     "name": "stderr",
     "output_type": "stream",
     "text": [
      "INFO:pytorch_lightning.utilities.rank_zero:💡 Tip: For seamless cloud uploads and versioning, try installing [litmodels](https://pypi.org/project/litmodels/) to enable LitModelCheckpoint, which syncs automatically with the Lightning model registry.\n",
      "INFO:pytorch_lightning.utilities.rank_zero:GPU available: False, used: False\n",
      "INFO:pytorch_lightning.utilities.rank_zero:TPU available: False, using: 0 TPU cores\n",
      "INFO:pytorch_lightning.utilities.rank_zero:HPU available: False, using: 0 HPUs\n"
     ]
    },
    {
     "name": "stdout",
     "output_type": "stream",
     "text": [
      "Source    : Jeg ansøger om et turistvisum for at besøge USA. Jeg har til hensigt at blive i to uger og besøge kendte vartegn som Frihedsgudinden og Times Square. Jeg vender tilbage til mit hjemland efter ferien.\n",
      "Reference : I am applying for a tourist visa to visit the United States. I intend to stay for two weeks and visit popular landmarks like the Statue of Liberty and Times Square. I will return to my home country after my vacation.\n",
      "Predicted : I apply for a tourist visa to visit the United States. I intend to stay for two weeks and visit well-known signs such as the Goddess of Freedom and Times Square. I return to my homeland after the holiday.\n",
      "\n",
      "BLEU      : 0.5467\n",
      "BERTScore : 0.9586\n",
      "METEOR    : 0.7395\n",
      "ROUGE-L   : 0.7160\n",
      "TER       : 31.7073\n",
      "COMET     : 0.8658\n",
      "\n",
      "Time to 1st tok : 18.0179s\n",
      "Total inf time  : 18.0245s\n",
      "Tokens/sec      : 2.88\n",
      "RAM   : 0.00 MB\n",
      "CPU   : -14.30 %\n",
      "Model size : 1845.95 MB\n",
      "============================================================\n",
      "\n",
      "=== German → English ===\n"
     ]
    },
    {
     "name": "stderr",
     "output_type": "stream",
     "text": [
      "INFO:pytorch_lightning.utilities.rank_zero:💡 Tip: For seamless cloud uploads and versioning, try installing [litmodels](https://pypi.org/project/litmodels/) to enable LitModelCheckpoint, which syncs automatically with the Lightning model registry.\n",
      "INFO:pytorch_lightning.utilities.rank_zero:GPU available: False, used: False\n",
      "INFO:pytorch_lightning.utilities.rank_zero:TPU available: False, using: 0 TPU cores\n",
      "INFO:pytorch_lightning.utilities.rank_zero:HPU available: False, using: 0 HPUs\n"
     ]
    },
    {
     "name": "stdout",
     "output_type": "stream",
     "text": [
      "Source    : Ich beantrage ein Touristenvisum, um die Vereinigten Staaten zu besuchen. Ich beabsichtige, zwei Wochen zu bleiben und bekannte Sehenswürdigkeiten wie die Freiheitsstatue und den Times Square zu besuchen. Nach meinem Urlaub kehre ich in mein Heimatland zurück.\n",
      "Reference : I am applying for a tourist visa to visit the United States. I intend to stay for two weeks and visit popular landmarks like the Statue of Liberty and Times Square. I will return to my home country after my vacation.\n",
      "Predicted : I apply for a tourist visa to visit the United States. I intend to stay for two weeks and visit well-known attractions such as the Statue of Freedom and the Times Square. After my holiday I return to my homeland.\n",
      "\n",
      "BLEU      : 0.5284\n",
      "BERTScore : 0.9730\n",
      "METEOR    : 0.7718\n",
      "ROUGE-L   : 0.7073\n",
      "TER       : 34.1463\n",
      "COMET     : 0.8965\n",
      "\n",
      "Time to 1st tok : 20.1286s\n",
      "Total inf time  : 20.1352s\n",
      "Tokens/sec      : 3.33\n",
      "RAM   : 0.00 MB\n",
      "CPU   : 14.00 %\n",
      "Model size : 1845.95 MB\n",
      "============================================================\n",
      "\n",
      "=== Estonian → English ===\n"
     ]
    },
    {
     "name": "stderr",
     "output_type": "stream",
     "text": [
      "INFO:pytorch_lightning.utilities.rank_zero:💡 Tip: For seamless cloud uploads and versioning, try installing [litmodels](https://pypi.org/project/litmodels/) to enable LitModelCheckpoint, which syncs automatically with the Lightning model registry.\n",
      "INFO:pytorch_lightning.utilities.rank_zero:GPU available: False, used: False\n",
      "INFO:pytorch_lightning.utilities.rank_zero:TPU available: False, using: 0 TPU cores\n",
      "INFO:pytorch_lightning.utilities.rank_zero:HPU available: False, using: 0 HPUs\n"
     ]
    },
    {
     "name": "stdout",
     "output_type": "stream",
     "text": [
      "Source    : Taotlen turismiviisat Ameerika Ühendriikide külastamiseks. Kavatsen jääda kaheks nädalaks ja külastada kuulsaid vaatamisväärsusi nagu Vabadussammas ja Times Square. Pärast puhkust naasen oma koduriiki.\n",
      "Reference : I am applying for a tourist visa to visit the United States. I intend to stay for two weeks and visit popular landmarks like the Statue of Liberty and Times Square. I will return to my home country after my vacation.\n",
      "Predicted : I am planning to stay for two weeks and visit famous attractions such as Freedom House and Times Square. After a vacation I will return to my home country.\n",
      "\n",
      "BLEU      : 0.3149\n",
      "BERTScore : 0.9499\n",
      "METEOR    : 0.5350\n",
      "ROUGE-L   : 0.5429\n",
      "TER       : 58.5366\n",
      "COMET     : 0.8652\n",
      "\n",
      "Time to 1st tok : 13.2290s\n",
      "Total inf time  : 13.2340s\n",
      "Tokens/sec      : 4.53\n",
      "RAM   : 0.15 MB\n",
      "CPU   : 11.00 %\n",
      "Model size : 1845.95 MB\n",
      "============================================================\n"
     ]
    }
   ],
   "source": [
    "# Install all required libraries\n",
    "!pip install unbabel-comet\n",
    "!pip install -q transformers accelerate evaluate bert_score rouge_score sacremoses nltk psutil pandas sacrebleu sentencepiece\n",
    "\n",
    "from huggingface_hub import login\n",
    "\n",
    "# Paste your token here\n",
    "login(token='hugging face token goes here')\n",
    "\n",
    "# Download NLTK data needed for BLEU and ROUGE\n",
    "import nltk\n",
    "nltk.download('punkt')\n",
    "\n",
    "import time\n",
    "import torch\n",
    "import psutil\n",
    "import logging\n",
    "from transformers import M2M100Tokenizer, M2M100ForConditionalGeneration\n",
    "import evaluate\n",
    "\n",
    "logging.getLogger(\"transformers\").setLevel(logging.ERROR)\n",
    "device = torch.device(\"cuda\" if torch.cuda.is_available() else \"cpu\")\n",
    "print(f\"Using device: {device}\")\n",
    "\n",
    "\n",
    "paragraph_data = [\n",
    "    {\"lang\": \"ar\", \"name\": \"Arabic\", \"src\": \"أنا أتقدم للحصول على تأشيرة سياحية لزيارة الولايات المتحدة. أنوي البقاء لمدة أسبوعين وزيارة معالم مشهورة مثل تمثال الحرية وساحة التايمز. سأعود إلى بلدي بعد انتهاء عطلتي.\", \"ref\": \"I am applying for a tourist visa to visit the United States. I intend to stay for two weeks and visit popular landmarks like the Statue of Liberty and Times Square. I will return to my home country after my vacation.\"},\n",
    "    {\"lang\": \"es\", \"name\": \"Spanish\", \"src\": \"Estoy solicitando una visa de turista para visitar los Estados Unidos. Tengo la intención de quedarme dos semanas y visitar lugares famosos como la Estatua de la Libertad y Times Square. Regresaré a mi país después de mis vacaciones.\", \"ref\": \"I am applying for a tourist visa to visit the United States. I intend to stay for two weeks and visit popular landmarks like the Statue of Liberty and Times Square. I will return to my home country after my vacation.\"},\n",
    "    {\"lang\": \"fr\", \"name\": \"French\", \"src\": \"Je demande un visa de touriste pour visiter les États-Unis. J’ai l’intention de rester deux semaines et de visiter des sites célèbres comme la Statue de la Liberté et Times Square. Je retournerai dans mon pays après mes vacances.\", \"ref\": \"I am applying for a tourist visa to visit the United States. I intend to stay for two weeks and visit popular landmarks like the Statue of Liberty and Times Square. I will return to my home country after my vacation.\"},\n",
    "    {\"lang\": \"ru\", \"name\": \"Russian\", \"src\": \"Я подаю заявку на туристическую визу для поездки в Соединенные Штаты. Я собираюсь остаться на две недели и посетить известные достопримечательности, такие как Статуя Свободы и Таймс-сквер. Я вернусь в свою страну после отпуска.\", \"ref\": \"I am applying for a tourist visa to visit the United States. I intend to stay for two weeks and visit popular landmarks like the Statue of Liberty and Times Square. I will return to my home country after my vacation.\"},\n",
    "    {\"lang\": \"ro\", \"name\": \"Romanian\", \"src\": \"Solicit o viză turistică pentru a vizita Statele Unite. Intenționez să stau două săptămâni și să vizitez repere populare precum Statuia Libertății și Times Square. Mă voi întoarce în țara mea după vacanță.\", \"ref\": \"I am applying for a tourist visa to visit the United States. I intend to stay for two weeks and visit popular landmarks like the Statue of Liberty and Times Square. I will return to my home country after my vacation.\"},\n",
    "    {\"lang\": \"bg\", \"name\": \"Bulgarian\", \"src\": \"Кандидатствам за туристическа виза за посещение на Съединените щати. Възнамерявам да остана две седмици и да посетя популярни забележителности като Статуята на свободата и Таймс Скуеър. Ще се върна в родината си след ваканцията.\", \"ref\": \"I am applying for a tourist visa to visit the United States. I intend to stay for two weeks and visit popular landmarks like the Statue of Liberty and Times Square. I will return to my home country after my vacation.\"},\n",
    "    {\"lang\": \"cs\", \"name\": \"Czech\", \"src\": \"Žádám o turistické vízum pro návštěvu Spojených států. Mám v úmyslu zůstat dva týdny a navštívit známá místa jako Sochu svobody a Times Square. Po dovolené se vrátím do své domovské země.\", \"ref\": \"I am applying for a tourist visa to visit the United States. I intend to stay for two weeks and visit popular landmarks like the Statue of Liberty and Times Square. I will return to my home country after my vacation.\"},\n",
    "    {\"lang\": \"da\", \"name\": \"Danish\", \"src\": \"Jeg ansøger om et turistvisum for at besøge USA. Jeg har til hensigt at blive i to uger og besøge kendte vartegn som Frihedsgudinden og Times Square. Jeg vender tilbage til mit hjemland efter ferien.\", \"ref\": \"I am applying for a tourist visa to visit the United States. I intend to stay for two weeks and visit popular landmarks like the Statue of Liberty and Times Square. I will return to my home country after my vacation.\"},\n",
    "    {\"lang\": \"de\", \"name\": \"German\", \"src\": \"Ich beantrage ein Touristenvisum, um die Vereinigten Staaten zu besuchen. Ich beabsichtige, zwei Wochen zu bleiben und bekannte Sehenswürdigkeiten wie die Freiheitsstatue und den Times Square zu besuchen. Nach meinem Urlaub kehre ich in mein Heimatland zurück.\", \"ref\": \"I am applying for a tourist visa to visit the United States. I intend to stay for two weeks and visit popular landmarks like the Statue of Liberty and Times Square. I will return to my home country after my vacation.\"},\n",
    "    {\"lang\": \"et\", \"name\": \"Estonian\", \"src\": \"Taotlen turismiviisat Ameerika Ühendriikide külastamiseks. Kavatsen jääda kaheks nädalaks ja külastada kuulsaid vaatamisväärsusi nagu Vabadussammas ja Times Square. Pärast puhkust naasen oma koduriiki.\", \"ref\": \"I am applying for a tourist visa to visit the United States. I intend to stay for two weeks and visit popular landmarks like the Statue of Liberty and Times Square. I will return to my home country after my vacation.\"},\n",
    "]\n",
    "\n",
    "# Load the 418M model and tokenizer\n",
    "model_name = \"facebook/m2m100_418M\"\n",
    "tokenizer = M2M100Tokenizer.from_pretrained(model_name)\n",
    "model = M2M100ForConditionalGeneration.from_pretrained(model_name).to(device)\n",
    "model.eval()\n",
    "\n",
    "# Load metrics\n",
    "bleu_mod      = evaluate.load(\"bleu\")\n",
    "bertscore_mod = evaluate.load(\"bertscore\")\n",
    "meteor_mod    = evaluate.load(\"meteor\")\n",
    "rouge_mod     = evaluate.load(\"rouge\")\n",
    "ter_mod       = evaluate.load(\"ter\")\n",
    "comet_mod     = evaluate.load(\"comet\")\n",
    "\n",
    "# System monitoring\n",
    "def measure_system():\n",
    "    proc = psutil.Process()\n",
    "    return proc.memory_info().rss / 1024**2, psutil.cpu_percent(interval=None)\n",
    "\n",
    "# Translation function\n",
    "def translate_m2m100(text: str, src_lang: str, tgt_lang: str = \"en\"):\n",
    "    tokenizer.src_lang = src_lang\n",
    "    encoded = tokenizer(text, return_tensors=\"pt\").to(device)\n",
    "    start = time.perf_counter()\n",
    "    generated_tokens = model.generate(**encoded, forced_bos_token_id=tokenizer.get_lang_id(tgt_lang))\n",
    "    mid = time.perf_counter()\n",
    "    pred = tokenizer.batch_decode(generated_tokens, skip_special_tokens=True)[0]\n",
    "    end = time.perf_counter()\n",
    "    return pred, mid - start, end - start, len(tokenizer.tokenize(text))\n",
    "\n",
    "# Run evaluation\n",
    "for item in paragraph_data:\n",
    "    src_lang, name, src, ref = item[\"lang\"], item[\"name\"], item[\"src\"], item[\"ref\"]\n",
    "    print(f\"\\n=== {name} → English ===\")\n",
    "    ram_before, cpu_before = measure_system()\n",
    "    pred, t_first, t_total, token_count = translate_m2m100(src, src_lang)\n",
    "    ram_after, cpu_after = measure_system()\n",
    "\n",
    "    # Accuracy metrics\n",
    "    bleu_score   = bleu_mod.compute(predictions=[pred], references=[[ref]])[\"bleu\"]\n",
    "    bert_res     = bertscore_mod.compute(predictions=[pred], references=[ref], lang=\"en\")\n",
    "    meteor_score = meteor_mod.compute(predictions=[pred], references=[[ref]])[\"meteor\"]\n",
    "    rouge_score  = rouge_mod.compute(predictions=[pred], references=[ref])[\"rougeL\"]\n",
    "    ter_score    = ter_mod.compute(predictions=[pred], references=[[ref]])[\"score\"]\n",
    "    comet_res    = comet_mod.compute(sources=[src], predictions=[pred], references=[ref])\n",
    "    comet_score  = next(v for v in comet_res.values() if isinstance(v, (int, float)))\n",
    "\n",
    "    # Output\n",
    "    print(f\"Source    : {src}\")\n",
    "    print(f\"Reference : {ref}\")\n",
    "    print(f\"Predicted : {pred}\\n\")\n",
    "    print(f\"BLEU      : {bleu_score:.4f}\")\n",
    "    print(f\"BERTScore : {bertscore_mod.compute(predictions=[pred], references=[ref], lang='en')['f1'][0]:.4f}\")\n",
    "    print(f\"METEOR    : {meteor_score:.4f}\")\n",
    "    print(f\"ROUGE-L   : {rouge_score:.4f}\")\n",
    "    print(f\"TER       : {ter_score:.4f}\")\n",
    "    print(f\"COMET     : {comet_score:.4f}\\n\")\n",
    "    print(f\"Time to 1st tok : {t_first:.4f}s\")\n",
    "    print(f\"Total inf time  : {t_total:.4f}s\")\n",
    "    print(f\"Tokens/sec      : {token_count / t_total:.2f}\")\n",
    "    if device.type == \"cuda\":\n",
    "        print(f\"VRAM used       : {torch.cuda.max_memory_allocated() / 1024**2:.2f} MB\")\n",
    "    print(f\"RAM   : {ram_after - ram_before:.2f} MB\")\n",
    "    print(f\"CPU   : {cpu_after - cpu_before:.2f} %\")\n",
    "    print(f\"Model size : {sum(p.numel() for p in model.parameters()) * 4 / 1024 ** 2:.2f} MB\")\n",
    "    print(\"=\" * 60)\n"
   ]
  }
 ],
 "metadata": {
  "colab": {
   "provenance": []
  },
  "kernelspec": {
   "display_name": "Python 3",
   "name": "python3"
  },
  "language_info": {
   "name": "python"
  }
 },
 "nbformat": 4,
 "nbformat_minor": 0
}
