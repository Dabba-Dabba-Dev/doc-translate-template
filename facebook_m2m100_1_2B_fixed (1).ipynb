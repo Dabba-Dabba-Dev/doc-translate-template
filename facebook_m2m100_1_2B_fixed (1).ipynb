{
 "cells": [
  {
   "cell_type": "code",
   "execution_count": null,
   "metadata": {
    "colab": {
     "base_uri": "https://localhost:8080/",
     "height": 1000,
     "referenced_widgets": [
      "8b38f53c2bde45d49186ff07da9497b4",
      "4da52669776d4a13995167446324e203",
      "9822834765f54a7c9cc0721cbefc6fea",
      "7f77600ec1114b76a371d6d1399f46ce",
      "91e14d812bd7492689986692f61a8a8e",
      "537777e8e2104cb48dbdf2e47613b095",
      "153617dfe6cc4bb190a1112fd83bdb1c",
      "bb53e59de6324c20966ef79d7b2b2eb4",
      "5d568c73f2b544b8899cd8f11166cd49",
      "21baf2e413f942c1af04ec4442afd2e5",
      "f83855890919421fae946d660a2dc2aa",
      "b0d583ad10b74c6a82b9d2851820eaf5",
      "51383b8f6ff741c9ac8fe10c733d9c84",
      "65fa0d26ab4547e082710fa97627d8de",
      "bcbcbbf05cc740ec9c9c21dc55cb12a8",
      "08a01257bc5d40cea0d22035b1dc368c",
      "028bd9c65d434ae68f1c4b0e9980b96f",
      "b77efc8c19c14b3b8db3fc36ae592e77",
      "27f2b2e93e564b678fc9d3eed43a6ff1",
      "b1576e4feb2d454f8673b18224bfd912",
      "6f914a1322f64ca784980980fd43b69d",
      "8caac884e67c48b58d1eb564f731d3dd",
      "45ab23f9af0a4dbc92961c442cce1682",
      "7127febfdac0497d99687d584b1257ef",
      "79e397f9ca9d4a6fb8191918df4df6f1",
      "91f9ed92f4a546a5ab7e1d3c44a069d5",
      "2534067e0b8c42c49fd7980400b1a825",
      "8c2ff4083cd44f30a5540a1aed9d4a7b",
      "04ad7c55f9e84834b1bbe53e5d80e919",
      "3792b3f75f7b4081a989822325a98e50",
      "403fa1b10385476abf00e474c4e227b8",
      "9dd1c5bd64934d63a49dc68b3d21ea2e",
      "75ff1c2b88fb4eed8d93eb81796eecd5",
      "18ec0bdea57a402c906e00664b7f918b",
      "e3446202137940dbae619ee576eb4bb5",
      "385036434775450cbf12eda0bbd8dd7b",
      "a8dc41ea2d6e4731b8213493cc97c05e",
      "5ef93302fcd442b69cc1847102b998d4",
      "5dc4c84c061745e18225a8f23bead659",
      "988399871ef74f0c92fa072679a7e598",
      "81a41488352648578ff4f1811f88ca9c",
      "15c9259508b74d88adc29940fb7ae581",
      "566908faa0e04f12974fe8e3fabf02ca",
      "f1cd9ef405a84893850af1e4329a45c6",
      "8b9d3a1555b647ef98c4660ce9d1ee83",
      "f361354da2654b779220c6dbd6aa1d41",
      "8799910aca6e4a8cbaf7581db81125c9",
      "702c31809e5440e8a3b8685bb83870a1",
      "e5ecea73124e4783bff3c438e7ca6668",
      "91245b4cb37c4b63a9d344d67e1ea3c6",
      "ade73db4d3554e9dac0c0971a2175400",
      "3f6c869142ae4261b761e29272324005",
      "031c223588cd4801b2559f07a5eb2557",
      "b03fc071b9c64bfebb4423f6be8516d9",
      "720678cbd50b49e2bbada2990b59b441",
      "15c7e449ab6047faa8cd766bdcb38e73",
      "38638d296e9148fba639ee4a7af5544c",
      "0be9d6886dfc47aa82c9fee8b58ebc67",
      "a2340ee5445948308f1c9be7d0d8ef89",
      "6fc92b053284440bb49a892f0d987dfe",
      "9822587319144ec2af9e5bb2526afaa8",
      "d79a1181d7db4b34aea6ecc77dbc636c",
      "8062bfc849954e19b9629b9a176c390a",
      "5f2a298fa5a54c37a895a44a68d571ba",
      "0c789cfd05b245e8b8ee54325a8dcc56",
      "840bf41f5c494c5ebc7e4a157e4dbaba",
      "edc55a20e2454f7faa06d51e581bfda4",
      "afc41f8ae3cc4a9682d5df76d832fcfd",
      "90f5ca90d0894044954653e2b02a8235",
      "e9c00be0499d4f9898b7dabd2b39e197",
      "1a3e97e653b84aed84cd5d75c87cef27",
      "9feca244e58f4bb384a8595b8d39f3a0",
      "9685f797b13b4ce1b5d49b0b56b0a89a",
      "49b48ebb41d64038a500f61e9ccc5f7c",
      "d54c95177f984dde8ea89476d193a773",
      "6e0c2af625544e3d9548f87fc6935d92",
      "196ce0866d804cbea11e7ab4bfa23ff2",
      "1674291e27544f6681870af175d64bd1",
      "832b2d5eaca24ea5a0df364b2f39faed",
      "18071aeb2141439589e9f40cc0ea6d7d",
      "cfd3749364d44e20a9e54c3160b878a9",
      "37e96bb5c02542f3b29e094666dff441",
      "7a04cc8c659e435a9fd94e9611ecaf2c",
      "e5c3d14079ac4f6db60896b9aa1976f1",
      "f0f03114943646c085b852b50d62a90b",
      "db7dde893d7e478b96153430d2f69f36",
      "b75fff436c32450ba84880a966c4fb2b",
      "f74f28838d884821ad7dbcaeba491b63",
      "a22df937bc214281820b6e29c7d256d4",
      "6e177a0973154eed8d4a54eaa7eca550",
      "3821fb319776465a9c48f8c840896478",
      "c9a19447cb664b74a0e693887f83927c",
      "cbf17f05bbb6434091796fa0f4aaeb8c",
      "8ad78c5394d941379994d9f0d6e85b1d",
      "1042613f3b354300be255f6781a3a49a",
      "fac09cdf0a9d4216b7249892257c4597",
      "61daea718c5948ab81efe9b8063abdd4",
      "a7faa7fdf3b44849b4457d15a281b1bb",
      "971b359a4fa94240970f068c6b8865e3",
      "ea7ce1388f1a4b948f588364680ab21c",
      "d575ef68bd7b4721829813016ad020ed",
      "053a549934ba42c8913a3fb77e008449",
      "6421e3cb0f3843d38cac56e6d92f2f98",
      "e1f5a9a5f4a04539bb0fecb312bf838e",
      "63b2b2bbb41a48c1ae719cded36218b5",
      "b75016dacf524419acf25ad5bf438ae5",
      "aed07eab6cec465aac82ea580e49f0f1",
      "3e0c5994be444613add09b8d39d21c43",
      "cd74897d5e2b4cd6b1f63e56be91a1bd",
      "2f5fbb336ab446d089d870f30d2e4a72",
      "19e59a6e061643eeb16278a91f2e4a1d",
      "b36c329297aa4e26b94a711d3bf71343",
      "62adb4c2cbb34ee0a2617008919ae1d0",
      "273582a208214b509b75e9e0b7691890",
      "94413d5b52bc41c2bfa075c858ce5615",
      "a8ed39fa6d4249e79f866e5834f4e9cb",
      "ec8a94d7d3124d62ab15838490b9c39d",
      "ad768f95acb1425d8a9bf2fc638b85fb",
      "31df9556687f4d79ae67f495380ba885",
      "e43d607a27b9409ca5994e6fea4ede22",
      "b6e5815bf8da4ace8b736fe1e3b6e4b5",
      "7d9e667969234f42a16f0aa691b4dfdc",
      "82f1e49081494ce5aee5ffd2d06a1eea",
      "600dd02019d8480e8dd9dcae44c65579",
      "df46530f0e7b429b8ccaf1fa29e15c86",
      "c73e5e63e4964223b83296160b371c2f",
      "564db47c63cc4e6a83b2957450c7f104",
      "f67905ba83b94a11a7f4bd20768e66ab",
      "f7f10cf0ef2f48b5ad29e8f3ee089b4b",
      "197b1c032b104f128ac11ee88b6e2a4a",
      "12e59334031e4c3c9a3d16782a085d8c",
      "b55052aa21d344c1a5bc9b538ddde782",
      "4296ea311aec46dcbf68fdd894d61f2e",
      "3761586effd14f089a77cec3a2739fd6",
      "fddbc066a2a74572887d04e464ea172c",
      "9aeebcc8e2de465ea8398d9f0fa81b81",
      "6ca53d584d9e4178b44585964efd44e0",
      "9f75b7710a974b35969bc345c9ecaa5e",
      "27c0078263cc43caaf7f594c397b35fb",
      "da3586da69a5463d9cf0e43327219a13",
      "58869512de2d486a9fc9705343886119",
      "676221ef46dd4a74b0190e157c227eb5",
      "85afaa838ccc4a16bfdcfb03b8dc5ab2",
      "4dd2692aff574ca7856e2c066e658017",
      "371be43712424fe9b3bac7db1fa8ec77",
      "2c15c03864054a15b84203945d30a113",
      "0e600f8ef0ba45cdaa09326c6aafbd91",
      "7c76a2f731994319a0153f46b44fb0f2",
      "13821c27332d4481b706fa052710b42c",
      "20b12778d9ff4975af7f0fda1277c8e1",
      "3936d7f394964b80b7f0fe9f259fb44d",
      "3913d3fe613c4fa0894cf81c0fb33173",
      "2b40b8b7b7f643e8b5d98b2d9f4bf6b9",
      "afbf2638884b45988526771a4d5a5d94",
      "a7012aaea25b4a3f87cdc3ca5d67e01f",
      "87625db00bdd4df9894a6111666204f5",
      "ece2f477683040728ff29d43a37242c4",
      "b0658d78e7474d0184dd1b1cf407599a",
      "1ed71aa24944469992442fe5fd40b843",
      "ff4a3d81cf0b4e849e25dce79ca80c82",
      "247ad4a1fd9b43049d9a7af0904f521f",
      "30dc07168b334a07983a5ce550cdc0b1",
      "807b5addbb494849b8676d852f1be1eb",
      "05f1c61eefc642f7a2967e5ed9568da1",
      "d7f14fa2fa1a4aa39462b4e0c86d8e96",
      "30593b98d4294b34bccea7f23f73c306",
      "2f51209f213c428f85773edd607a6489",
      "cbd5979bde6b4d74b64befb5c1dabbc0",
      "e82dbaaa21664e62812fdad7865534be",
      "976dd65c72ff4ee8b4bcef995b092638",
      "d164444687b54d8dbd44eb73d35f74b3",
      "caf8d9c2bbee4976b02ea5f6439e233a",
      "b8a829b52cc34b96b254ef424fa4cc9a",
      "b541fb503bbf43ce9074c16040be3d52",
      "da2551a9d3b24478ab32ae1893c2737c",
      "eae6a46683934609b0a62502fef6257f",
      "25cbbeb67b43402daeaacf68726b445c",
      "407c4a7a9d2846aaa9047730611671d0",
      "44a7eb9fd34a47c39f9d278b99484e8c",
      "73d4e4a57e234b65994e4b27b09d0464",
      "46e71764f5ad4957a12601e26b3293a0",
      "417371d6c9764c6294bafef1a4ec9fc9",
      "0ea7ce51e2b04c17ba2df4b042cf483b",
      "4d9f781997b545baaffa1a7a0908f662",
      "0feb0f55576546b4b53a54be96576d03",
      "98206325ec7b44d6ba7c44ad56298e4e",
      "45ac9e64d44c4c3da9c6d37e783dd7c4",
      "31c9686796f9461b98569e5920b93981",
      "7c1df164c3da45e285a62e2980f7d4af",
      "2e3f4f9905f140c18195386efd3369c9",
      "f98d3738173e489db4acd6ded406e56e",
      "4bd94232e6c2419c940ec47ea8c6953b",
      "bb84526e90844530ad1ddbfba81d7880",
      "b792b4ff9ca14c90b8448d42514c167f",
      "fb04b536c07a497da29fc9ad554d37c0",
      "6581070c88834b1da31b0cafe3547e2c",
      "6bc0682e1d4f4e69be249652db8c59cb",
      "722e58e68f744970b159080cba1acee8",
      "4e5589e157fd436c80a60e7d03ce449a",
      "4773997203d44dc1a72a5049380bf684",
      "9fb9238b04a9464d983cbdbb48d2d8b5",
      "3ece114d22fb443fa1aeb5859a8589bc",
      "83993064e343494796d0b60fda3aa574",
      "60fa0e55346140e8ba0bf396fa7b3526",
      "3eb6d9bb042641b8ab963c59bb50c733",
      "da69ebbde2ec4d068254c28ad07ef6c1",
      "a90800e44f764e32b3b2022f4c67ea94",
      "b2e69e8dd1ba4e5abb0db2a24f3ffdeb",
      "59a8b3f25714419aa498c0bb476e70ed",
      "213814f1da874bb1a27a2995989e4cab",
      "c81b9f75a0d14d9a8b265541ddb9e6f1",
      "8c401e40056d47e9852386059ac839b7",
      "d3939b3623ed4ec393d1f8302d85ffb2",
      "9f8e83ec94654a23848990bf7d8767db",
      "34c482f3dbb14d94950d2d062b6bde5e",
      "eb46d98455fd44d68c124d88f2abcf87",
      "c73b5093f56b4736aaaa946e01989e10",
      "03499b35f415414893bfc28358b02f19",
      "e3ac42c610834328b13a16b39f3dea8a",
      "d825a7851373467b991a2cadbcff97d6",
      "cfcf23387e924be9af798d35f1485dcf",
      "6347f291b3fb45b7b5e6e5efcb69e17f",
      "3693c38922c84a0db35c7437566f668f",
      "77224e8afa3e4671afd6028eb46185eb",
      "d0a2707add3d44c48fb1a2a3bb1c4393",
      "3cd9cb2b3ee9456c917f0789b44a1907",
      "49898f849f06428ca9a32298227e1121",
      "40a191670fc043869806b50013249023",
      "8b8077c47e964e59b497b84f552b517f",
      "a0824cc69a814110bc442f2d1aca89ee",
      "037eb7b91c2f480db73ca8a28210d778",
      "026e4697f0f548fda7c765ee47569d2a",
      "45d44680ab524863996960e793473f8d",
      "5f6bbe72c4ac4e2bbe2f584fee1a1535",
      "5e9b2d9802ba41c888224e9f7288aaa8",
      "3f585aa95ce14fabb803feab9e303657",
      "fc24090ec5b745a9b0d8761237fe3073",
      "cbd42a895f9c4cd99a78b826b2b9e306",
      "359b61b96dda40bbae501994e7616b5a",
      "cc0d0f8a53254a2bbcccfa123e4c0887",
      "d3efb380a75c4ad1b8f812bf0e244a87",
      "ba4a3cdf37c54f249f01b5277be2cadb",
      "23fb974c81e54b89b0c1456ac63fb376",
      "fd9fee707911497aa4b7b354705b6d3e",
      "45d09d8fe655439fa2e481a2ae6c7d4a",
      "243844ec16d945de98f461fdff1f4cdb",
      "a04f92afa8d44e468c6912d4d9a7cc34",
      "f298815bc75c4096910595c4f7af30ad",
      "a34e74b337714b8a9d518c9add78dd18",
      "5d27f986156f4aeb9b0f862b605c0796",
      "21fe2e3f5fd04af08953eae2906f89ed",
      "8602522d02054a359b35633253b05e22",
      "07943d57508c4cbab7693d09ae7484a7",
      "fb07eecc8b534e2783d2ebe18e972115",
      "b1f13a7747db4d1dbaffca5f232d9726",
      "5120aa8f6b3342a2bdecc400d9985f64",
      "d747c28ec7fe4803abc706f5532e46fe",
      "b54c1bd10eb543d3a153a57d519857b9",
      "066b662900794babaeb2d4700bc064b3",
      "0db4413703f5409baf559fe6d9d77cb3",
      "d22cf8ee750b4fc5b718b59690087942",
      "d754f0aaa9824530ba37f2e32eb09e35",
      "8bc8f766d36a400c814a1271adcee08d",
      "9b2e4e4444494eba96f55fc4c038852d",
      "c9abf24bbc874816bb9b69f05925732d",
      "e6ee7da3b22844928a063a9af409801e",
      "8f37cc6750404d67b4afb461d5b5f200",
      "30d8fd5c80174b9680d8bbbd153b5bde",
      "c34a81d1a42c483aa6185f031c835f3e",
      "ead6b4f184bd49e8b5fc045cd8cf7658",
      "d477d15d3f3d4f90b1c69a6f24451f07",
      "a0133aa972a24e9fa489fece317d91fb",
      "e9c68c725f6e4082b176600da4992f40",
      "837bd3f55f124c4eb4100f5d32c38fd5",
      "a9f48d7987aa4850b3e027d045e80b7d",
      "3f5df8fda541432cb8ef3e663406dafa",
      "12670e0970ba4a30b901eaf74bd12719",
      "b2dd836d69ee4242a1efa89c26da94c9",
      "e131772efd2a43059783639604dba0c3",
      "d8d982d489174718a466c98604c4ea4f",
      "528e2e27e72143adb647ee4cc08eadc7",
      "763a217d315b44b7b755cbb24201c768",
      "923b476e919c4e51b9d57c1cfc025d77",
      "1f5369e3aee14c4fbee71280ad4132a4",
      "268957fcbe064cf990e8ce3e8281636c",
      "9f4d16a5f1e5452190f6925663cb1d40",
      "fd6495ecf88644eaa5bd916bd697b651",
      "7b5b1d24dc94419e9444677855215aad",
      "52aef956ab104a47ac980bc6363d233e",
      "425de7fd4f4049c5a41f2f39b94a4172",
      "39ccc9b56f374058bd85a18446919bc6",
      "3c2fc34549f34bb2b78c545ee2a362b0",
      "6f9139a72b3945b3a40756765f4a8f6f",
      "2d7d70cb1bd94fe29283de0421206be6",
      "336d1b41ac404008988deac318d8cc7b",
      "804da90b7ca64ff2910e6ec88fab5cc1",
      "0cdd489173354cadab6ea382722d4e57",
      "e670b9bc34ae490b8715cdca2fa4d222",
      "947150025c95471094c93fe2349417fc",
      "1012f7aec7d244b0967345dabd1a4f56",
      "66fbb5042b0448bc9c6f603aee65af58",
      "f41f7d00e04e4d029c83fc4e4367a871",
      "9ab01839cb5f4471b9b1b9f10d0ff70d",
      "f042c200c01344ac84637d59558daac8",
      "f1b1d4e652bc440989c1a980da1a7e1c",
      "841062ff82bb40aaa5b085fad2e54065",
      "4ad922a2fc1043ee92f9355843331a7d",
      "46c42bb3eb914f4e877fc9c9bad058dd",
      "6d7eef2a365f4b61bb9397ed5cdc1497",
      "72b7a5f07de34711b0a8bc4f8f255619",
      "4ae352ea424a4896b8f6b4d0cb6b37af",
      "4414f3c14d0f4ecb98453a34968596aa",
      "1c6ae18b1d524574bcd8105777138be7",
      "6a64fa33a194497eaf5e30432c1b19f8",
      "7f93b4bd4ce9412ca8a3f7294094c28c",
      "a3c6ecdff2fe442f8f90ccc5ef27cfc5",
      "8a7afbb804c448f0b10e9437f90bf18e",
      "361e42fe21df4a188b7744da5834dba3",
      "bab8520e5eae43dd95f0d0b4ea2c2d34",
      "1650f1b93a334d689fc740c22d20866d",
      "26ec9bbe5b94428b8b48829699483aa2",
      "8f97c50c0abd4e34bc00f845347d86e6",
      "62c7a97c1d7648539cea64e9aa8e70c5",
      "0dad999d45c84b2ab9445c4f010e873f",
      "1fc0e7935969461a932e45dd81f865c9",
      "b323d04c29fa4f3e8ab063693792e7fa",
      "b689b6b4429e4362875e3d7c57358e13",
      "39f2af442a1043d8845a53ae3e2c9a9b",
      "ffe43a6b27ca4bb4ad01f2f00021c58c",
      "8864aa92976c4319be633d55c84108e7",
      "44f8d2e450c941ea8b4c5261693c0e3b",
      "a3d0d8cc5ce445b7a3cb20b6c36c4667",
      "fc20adbc516c434ea032d8f24ebfc71b",
      "773a066cb71546158e068237a46072d0",
      "ab38cd42bfee48feaf56a8f7335e0cdf",
      "462f80e1d9484a1a906941470956d789",
      "7e204cdaa245448d8bef6930570657a7",
      "c1bc4ac259bb429b8957a6dd8be27f0d",
      "bad818762c684045be0e2c3030d514cd",
      "0b3830bd746445cf8a15d57048cbfd1c",
      "fcf593bff43d419e8e57aa120fc58dba",
      "c8336f26f6b24018a28befa14d334dde",
      "0019459d27be490ca2f18d1d55637caa",
      "7b3baff42fd44dd0aa8fdb664d002144",
      "ef1c3cc41ed744618e4d794ad805a9b5",
      "872853d21c4148ca9e3309b282b96afb",
      "087149480ad642eabf873d7deb1c5aed",
      "ee3e7c72c492440a9fd37b2e38fad786",
      "2c90d3c09f6446348c24ab27f3757bbc",
      "70a4c3bbd6cd4e009b72731620877dcf",
      "c29297c6a3d546c2bc8a489aeccba9ca",
      "099735adf4c54a219fb98d2a25c0f511"
     ]
    },
    "id": "zfd31znZLmNZ",
    "outputId": "e0b820c8-c172-4a5a-96b9-e0e85a54f225"
   },
   "outputs": [
    {
     "name": "stdout",
     "output_type": "stream",
     "text": [
      "Requirement already satisfied: unbabel-comet in /usr/local/lib/python3.11/dist-packages (2.2.6)\n",
      "Requirement already satisfied: entmax<2.0,>=1.1 in /usr/local/lib/python3.11/dist-packages (from unbabel-comet) (1.3)\n",
      "Requirement already satisfied: huggingface-hub<1.0,>=0.19.3 in /usr/local/lib/python3.11/dist-packages (from unbabel-comet) (0.33.0)\n",
      "Requirement already satisfied: jsonargparse==3.13.1 in /usr/local/lib/python3.11/dist-packages (from unbabel-comet) (3.13.1)\n",
      "Requirement already satisfied: numpy<2.0.0,>=1.20.0 in /usr/local/lib/python3.11/dist-packages (from unbabel-comet) (1.26.4)\n",
      "Requirement already satisfied: pandas>=1.4.1 in /usr/local/lib/python3.11/dist-packages (from unbabel-comet) (2.2.2)\n",
      "Requirement already satisfied: protobuf<5.0.0,>=4.24.4 in /usr/local/lib/python3.11/dist-packages (from unbabel-comet) (4.25.8)\n",
      "Requirement already satisfied: pytorch-lightning<3.0.0,>=2.0.0 in /usr/local/lib/python3.11/dist-packages (from unbabel-comet) (2.5.2)\n",
      "Requirement already satisfied: sacrebleu<3.0.0,>=2.0.0 in /usr/local/lib/python3.11/dist-packages (from unbabel-comet) (2.5.1)\n",
      "Requirement already satisfied: scipy<2.0.0,>=1.5.4 in /usr/local/lib/python3.11/dist-packages (from unbabel-comet) (1.15.3)\n",
      "Requirement already satisfied: sentencepiece<0.3.0,>=0.2.0 in /usr/local/lib/python3.11/dist-packages (from unbabel-comet) (0.2.0)\n",
      "Requirement already satisfied: torch>=1.6.0 in /usr/local/lib/python3.11/dist-packages (from unbabel-comet) (2.6.0+cu124)\n",
      "Requirement already satisfied: torchmetrics<0.11.0,>=0.10.2 in /usr/local/lib/python3.11/dist-packages (from unbabel-comet) (0.10.3)\n",
      "Requirement already satisfied: transformers<5.0,>=4.17 in /usr/local/lib/python3.11/dist-packages (from unbabel-comet) (4.52.4)\n",
      "Requirement already satisfied: PyYAML>=3.13 in /usr/local/lib/python3.11/dist-packages (from jsonargparse==3.13.1->unbabel-comet) (6.0.2)\n",
      "Requirement already satisfied: filelock in /usr/local/lib/python3.11/dist-packages (from huggingface-hub<1.0,>=0.19.3->unbabel-comet) (3.18.0)\n",
      "Requirement already satisfied: fsspec>=2023.5.0 in /usr/local/lib/python3.11/dist-packages (from huggingface-hub<1.0,>=0.19.3->unbabel-comet) (2025.3.2)\n",
      "Requirement already satisfied: packaging>=20.9 in /usr/local/lib/python3.11/dist-packages (from huggingface-hub<1.0,>=0.19.3->unbabel-comet) (24.2)\n",
      "Requirement already satisfied: requests in /usr/local/lib/python3.11/dist-packages (from huggingface-hub<1.0,>=0.19.3->unbabel-comet) (2.32.3)\n",
      "Requirement already satisfied: tqdm>=4.42.1 in /usr/local/lib/python3.11/dist-packages (from huggingface-hub<1.0,>=0.19.3->unbabel-comet) (4.67.1)\n",
      "Requirement already satisfied: typing-extensions>=3.7.4.3 in /usr/local/lib/python3.11/dist-packages (from huggingface-hub<1.0,>=0.19.3->unbabel-comet) (4.14.0)\n",
      "Requirement already satisfied: hf-xet<2.0.0,>=1.1.2 in /usr/local/lib/python3.11/dist-packages (from huggingface-hub<1.0,>=0.19.3->unbabel-comet) (1.1.5)\n",
      "Requirement already satisfied: python-dateutil>=2.8.2 in /usr/local/lib/python3.11/dist-packages (from pandas>=1.4.1->unbabel-comet) (2.9.0.post0)\n",
      "Requirement already satisfied: pytz>=2020.1 in /usr/local/lib/python3.11/dist-packages (from pandas>=1.4.1->unbabel-comet) (2025.2)\n",
      "Requirement already satisfied: tzdata>=2022.7 in /usr/local/lib/python3.11/dist-packages (from pandas>=1.4.1->unbabel-comet) (2025.2)\n",
      "Requirement already satisfied: lightning-utilities>=0.10.0 in /usr/local/lib/python3.11/dist-packages (from pytorch-lightning<3.0.0,>=2.0.0->unbabel-comet) (0.14.3)\n",
      "Requirement already satisfied: portalocker in /usr/local/lib/python3.11/dist-packages (from sacrebleu<3.0.0,>=2.0.0->unbabel-comet) (3.2.0)\n",
      "Requirement already satisfied: regex in /usr/local/lib/python3.11/dist-packages (from sacrebleu<3.0.0,>=2.0.0->unbabel-comet) (2024.11.6)\n",
      "Requirement already satisfied: tabulate>=0.8.9 in /usr/local/lib/python3.11/dist-packages (from sacrebleu<3.0.0,>=2.0.0->unbabel-comet) (0.9.0)\n",
      "Requirement already satisfied: colorama in /usr/local/lib/python3.11/dist-packages (from sacrebleu<3.0.0,>=2.0.0->unbabel-comet) (0.4.6)\n",
      "Requirement already satisfied: lxml in /usr/local/lib/python3.11/dist-packages (from sacrebleu<3.0.0,>=2.0.0->unbabel-comet) (5.4.0)\n",
      "Requirement already satisfied: networkx in /usr/local/lib/python3.11/dist-packages (from torch>=1.6.0->unbabel-comet) (3.5)\n",
      "Requirement already satisfied: jinja2 in /usr/local/lib/python3.11/dist-packages (from torch>=1.6.0->unbabel-comet) (3.1.6)\n",
      "Requirement already satisfied: nvidia-cuda-nvrtc-cu12==12.4.127 in /usr/local/lib/python3.11/dist-packages (from torch>=1.6.0->unbabel-comet) (12.4.127)\n",
      "Requirement already satisfied: nvidia-cuda-runtime-cu12==12.4.127 in /usr/local/lib/python3.11/dist-packages (from torch>=1.6.0->unbabel-comet) (12.4.127)\n",
      "Requirement already satisfied: nvidia-cuda-cupti-cu12==12.4.127 in /usr/local/lib/python3.11/dist-packages (from torch>=1.6.0->unbabel-comet) (12.4.127)\n",
      "Requirement already satisfied: nvidia-cudnn-cu12==9.1.0.70 in /usr/local/lib/python3.11/dist-packages (from torch>=1.6.0->unbabel-comet) (9.1.0.70)\n",
      "Requirement already satisfied: nvidia-cublas-cu12==12.4.5.8 in /usr/local/lib/python3.11/dist-packages (from torch>=1.6.0->unbabel-comet) (12.4.5.8)\n",
      "Requirement already satisfied: nvidia-cufft-cu12==11.2.1.3 in /usr/local/lib/python3.11/dist-packages (from torch>=1.6.0->unbabel-comet) (11.2.1.3)\n",
      "Requirement already satisfied: nvidia-curand-cu12==10.3.5.147 in /usr/local/lib/python3.11/dist-packages (from torch>=1.6.0->unbabel-comet) (10.3.5.147)\n",
      "Requirement already satisfied: nvidia-cusolver-cu12==11.6.1.9 in /usr/local/lib/python3.11/dist-packages (from torch>=1.6.0->unbabel-comet) (11.6.1.9)\n",
      "Requirement already satisfied: nvidia-cusparse-cu12==12.3.1.170 in /usr/local/lib/python3.11/dist-packages (from torch>=1.6.0->unbabel-comet) (12.3.1.170)\n",
      "Requirement already satisfied: nvidia-cusparselt-cu12==0.6.2 in /usr/local/lib/python3.11/dist-packages (from torch>=1.6.0->unbabel-comet) (0.6.2)\n",
      "Requirement already satisfied: nvidia-nccl-cu12==2.21.5 in /usr/local/lib/python3.11/dist-packages (from torch>=1.6.0->unbabel-comet) (2.21.5)\n",
      "Requirement already satisfied: nvidia-nvtx-cu12==12.4.127 in /usr/local/lib/python3.11/dist-packages (from torch>=1.6.0->unbabel-comet) (12.4.127)\n",
      "Requirement already satisfied: nvidia-nvjitlink-cu12==12.4.127 in /usr/local/lib/python3.11/dist-packages (from torch>=1.6.0->unbabel-comet) (12.4.127)\n",
      "Requirement already satisfied: triton==3.2.0 in /usr/local/lib/python3.11/dist-packages (from torch>=1.6.0->unbabel-comet) (3.2.0)\n",
      "Requirement already satisfied: sympy==1.13.1 in /usr/local/lib/python3.11/dist-packages (from torch>=1.6.0->unbabel-comet) (1.13.1)\n",
      "Requirement already satisfied: mpmath<1.4,>=1.1.0 in /usr/local/lib/python3.11/dist-packages (from sympy==1.13.1->torch>=1.6.0->unbabel-comet) (1.3.0)\n",
      "Requirement already satisfied: tokenizers<0.22,>=0.21 in /usr/local/lib/python3.11/dist-packages (from transformers<5.0,>=4.17->unbabel-comet) (0.21.2)\n",
      "Requirement already satisfied: safetensors>=0.4.3 in /usr/local/lib/python3.11/dist-packages (from transformers<5.0,>=4.17->unbabel-comet) (0.5.3)\n",
      "Requirement already satisfied: aiohttp!=4.0.0a0,!=4.0.0a1 in /usr/local/lib/python3.11/dist-packages (from fsspec[http]>=2022.5.0->pytorch-lightning<3.0.0,>=2.0.0->unbabel-comet) (3.11.15)\n",
      "Requirement already satisfied: setuptools in /usr/local/lib/python3.11/dist-packages (from lightning-utilities>=0.10.0->pytorch-lightning<3.0.0,>=2.0.0->unbabel-comet) (75.2.0)\n",
      "Requirement already satisfied: six>=1.5 in /usr/local/lib/python3.11/dist-packages (from python-dateutil>=2.8.2->pandas>=1.4.1->unbabel-comet) (1.17.0)\n",
      "Requirement already satisfied: MarkupSafe>=2.0 in /usr/local/lib/python3.11/dist-packages (from jinja2->torch>=1.6.0->unbabel-comet) (3.0.2)\n",
      "Requirement already satisfied: charset-normalizer<4,>=2 in /usr/local/lib/python3.11/dist-packages (from requests->huggingface-hub<1.0,>=0.19.3->unbabel-comet) (3.4.2)\n",
      "Requirement already satisfied: idna<4,>=2.5 in /usr/local/lib/python3.11/dist-packages (from requests->huggingface-hub<1.0,>=0.19.3->unbabel-comet) (3.10)\n",
      "Requirement already satisfied: urllib3<3,>=1.21.1 in /usr/local/lib/python3.11/dist-packages (from requests->huggingface-hub<1.0,>=0.19.3->unbabel-comet) (2.4.0)\n",
      "Requirement already satisfied: certifi>=2017.4.17 in /usr/local/lib/python3.11/dist-packages (from requests->huggingface-hub<1.0,>=0.19.3->unbabel-comet) (2025.6.15)\n",
      "Requirement already satisfied: aiohappyeyeballs>=2.3.0 in /usr/local/lib/python3.11/dist-packages (from aiohttp!=4.0.0a0,!=4.0.0a1->fsspec[http]>=2022.5.0->pytorch-lightning<3.0.0,>=2.0.0->unbabel-comet) (2.6.1)\n",
      "Requirement already satisfied: aiosignal>=1.1.2 in /usr/local/lib/python3.11/dist-packages (from aiohttp!=4.0.0a0,!=4.0.0a1->fsspec[http]>=2022.5.0->pytorch-lightning<3.0.0,>=2.0.0->unbabel-comet) (1.3.2)\n",
      "Requirement already satisfied: attrs>=17.3.0 in /usr/local/lib/python3.11/dist-packages (from aiohttp!=4.0.0a0,!=4.0.0a1->fsspec[http]>=2022.5.0->pytorch-lightning<3.0.0,>=2.0.0->unbabel-comet) (25.3.0)\n",
      "Requirement already satisfied: frozenlist>=1.1.1 in /usr/local/lib/python3.11/dist-packages (from aiohttp!=4.0.0a0,!=4.0.0a1->fsspec[http]>=2022.5.0->pytorch-lightning<3.0.0,>=2.0.0->unbabel-comet) (1.7.0)\n",
      "Requirement already satisfied: multidict<7.0,>=4.5 in /usr/local/lib/python3.11/dist-packages (from aiohttp!=4.0.0a0,!=4.0.0a1->fsspec[http]>=2022.5.0->pytorch-lightning<3.0.0,>=2.0.0->unbabel-comet) (6.4.4)\n",
      "Requirement already satisfied: propcache>=0.2.0 in /usr/local/lib/python3.11/dist-packages (from aiohttp!=4.0.0a0,!=4.0.0a1->fsspec[http]>=2022.5.0->pytorch-lightning<3.0.0,>=2.0.0->unbabel-comet) (0.3.2)\n",
      "Requirement already satisfied: yarl<2.0,>=1.17.0 in /usr/local/lib/python3.11/dist-packages (from aiohttp!=4.0.0a0,!=4.0.0a1->fsspec[http]>=2022.5.0->pytorch-lightning<3.0.0,>=2.0.0->unbabel-comet) (1.20.1)\n"
     ]
    },
    {
     "name": "stderr",
     "output_type": "stream",
     "text": [
      "[nltk_data] Downloading package punkt to /root/nltk_data...\n",
      "[nltk_data]   Unzipping tokenizers/punkt.zip.\n"
     ]
    },
    {
     "name": "stdout",
     "output_type": "stream",
     "text": [
      "Using device: cpu\n"
     ]
    },
    {
     "name": "stderr",
     "output_type": "stream",
     "text": [
      "/usr/local/lib/python3.11/dist-packages/huggingface_hub/utils/_auth.py:94: UserWarning: \n",
      "The secret `HF_TOKEN` does not exist in your Colab secrets.\n",
      "To authenticate with the Hugging Face Hub, create a token in your settings tab (https://huggingface.co/settings/tokens), set it as secret in your Google Colab and restart your session.\n",
      "You will be able to reuse this secret in all of your notebooks.\n",
      "Please note that authentication is recommended but still optional to access public models or datasets.\n",
      "  warnings.warn(\n"
     ]
    },
    {
     "data": {
      "application/vnd.jupyter.widget-view+json": {
       "model_id": "8b38f53c2bde45d49186ff07da9497b4",
       "version_major": 2,
       "version_minor": 0
      },
      "text/plain": [
       "tokenizer_config.json:   0%|          | 0.00/271 [00:00<?, ?B/s]"
      ]
     },
     "metadata": {},
     "output_type": "display_data"
    },
    {
     "data": {
      "application/vnd.jupyter.widget-view+json": {
       "model_id": "b0d583ad10b74c6a82b9d2851820eaf5",
       "version_major": 2,
       "version_minor": 0
      },
      "text/plain": [
       "vocab.json: 0.00B [00:00, ?B/s]"
      ]
     },
     "metadata": {},
     "output_type": "display_data"
    },
    {
     "data": {
      "application/vnd.jupyter.widget-view+json": {
       "model_id": "45ab23f9af0a4dbc92961c442cce1682",
       "version_major": 2,
       "version_minor": 0
      },
      "text/plain": [
       "sentencepiece.bpe.model:   0%|          | 0.00/2.42M [00:00<?, ?B/s]"
      ]
     },
     "metadata": {},
     "output_type": "display_data"
    },
    {
     "data": {
      "application/vnd.jupyter.widget-view+json": {
       "model_id": "18ec0bdea57a402c906e00664b7f918b",
       "version_major": 2,
       "version_minor": 0
      },
      "text/plain": [
       "special_tokens_map.json: 0.00B [00:00, ?B/s]"
      ]
     },
     "metadata": {},
     "output_type": "display_data"
    },
    {
     "data": {
      "application/vnd.jupyter.widget-view+json": {
       "model_id": "8b9d3a1555b647ef98c4660ce9d1ee83",
       "version_major": 2,
       "version_minor": 0
      },
      "text/plain": [
       "config.json:   0%|          | 0.00/909 [00:00<?, ?B/s]"
      ]
     },
     "metadata": {},
     "output_type": "display_data"
    },
    {
     "data": {
      "application/vnd.jupyter.widget-view+json": {
       "model_id": "15c7e449ab6047faa8cd766bdcb38e73",
       "version_major": 2,
       "version_minor": 0
      },
      "text/plain": [
       "pytorch_model.bin:   0%|          | 0.00/4.96G [00:00<?, ?B/s]"
      ]
     },
     "metadata": {},
     "output_type": "display_data"
    },
    {
     "data": {
      "application/vnd.jupyter.widget-view+json": {
       "model_id": "edc55a20e2454f7faa06d51e581bfda4",
       "version_major": 2,
       "version_minor": 0
      },
      "text/plain": [
       "model.safetensors:   0%|          | 0.00/4.96G [00:00<?, ?B/s]"
      ]
     },
     "metadata": {},
     "output_type": "display_data"
    },
    {
     "data": {
      "application/vnd.jupyter.widget-view+json": {
       "model_id": "1674291e27544f6681870af175d64bd1",
       "version_major": 2,
       "version_minor": 0
      },
      "text/plain": [
       "generation_config.json:   0%|          | 0.00/233 [00:00<?, ?B/s]"
      ]
     },
     "metadata": {},
     "output_type": "display_data"
    },
    {
     "data": {
      "application/vnd.jupyter.widget-view+json": {
       "model_id": "a22df937bc214281820b6e29c7d256d4",
       "version_major": 2,
       "version_minor": 0
      },
      "text/plain": [
       "Downloading builder script: 0.00B [00:00, ?B/s]"
      ]
     },
     "metadata": {},
     "output_type": "display_data"
    },
    {
     "data": {
      "application/vnd.jupyter.widget-view+json": {
       "model_id": "ea7ce1388f1a4b948f588364680ab21c",
       "version_major": 2,
       "version_minor": 0
      },
      "text/plain": [
       "Downloading extra modules:   0%|          | 0.00/1.55k [00:00<?, ?B/s]"
      ]
     },
     "metadata": {},
     "output_type": "display_data"
    },
    {
     "data": {
      "application/vnd.jupyter.widget-view+json": {
       "model_id": "19e59a6e061643eeb16278a91f2e4a1d",
       "version_major": 2,
       "version_minor": 0
      },
      "text/plain": [
       "Downloading extra modules: 0.00B [00:00, ?B/s]"
      ]
     },
     "metadata": {},
     "output_type": "display_data"
    },
    {
     "data": {
      "application/vnd.jupyter.widget-view+json": {
       "model_id": "7d9e667969234f42a16f0aa691b4dfdc",
       "version_major": 2,
       "version_minor": 0
      },
      "text/plain": [
       "Downloading builder script: 0.00B [00:00, ?B/s]"
      ]
     },
     "metadata": {},
     "output_type": "display_data"
    },
    {
     "data": {
      "application/vnd.jupyter.widget-view+json": {
       "model_id": "4296ea311aec46dcbf68fdd894d61f2e",
       "version_major": 2,
       "version_minor": 0
      },
      "text/plain": [
       "Downloading builder script: 0.00B [00:00, ?B/s]"
      ]
     },
     "metadata": {},
     "output_type": "display_data"
    },
    {
     "name": "stderr",
     "output_type": "stream",
     "text": [
      "[nltk_data] Downloading package wordnet to /root/nltk_data...\n",
      "[nltk_data] Downloading package punkt_tab to /root/nltk_data...\n",
      "[nltk_data]   Unzipping tokenizers/punkt_tab.zip.\n",
      "[nltk_data] Downloading package omw-1.4 to /root/nltk_data...\n"
     ]
    },
    {
     "data": {
      "application/vnd.jupyter.widget-view+json": {
       "model_id": "4dd2692aff574ca7856e2c066e658017",
       "version_major": 2,
       "version_minor": 0
      },
      "text/plain": [
       "Downloading builder script: 0.00B [00:00, ?B/s]"
      ]
     },
     "metadata": {},
     "output_type": "display_data"
    },
    {
     "data": {
      "application/vnd.jupyter.widget-view+json": {
       "model_id": "a7012aaea25b4a3f87cdc3ca5d67e01f",
       "version_major": 2,
       "version_minor": 0
      },
      "text/plain": [
       "Downloading builder script: 0.00B [00:00, ?B/s]"
      ]
     },
     "metadata": {},
     "output_type": "display_data"
    },
    {
     "data": {
      "application/vnd.jupyter.widget-view+json": {
       "model_id": "30593b98d4294b34bccea7f23f73c306",
       "version_major": 2,
       "version_minor": 0
      },
      "text/plain": [
       "Downloading builder script: 0.00B [00:00, ?B/s]"
      ]
     },
     "metadata": {},
     "output_type": "display_data"
    },
    {
     "data": {
      "application/vnd.jupyter.widget-view+json": {
       "model_id": "25cbbeb67b43402daeaacf68726b445c",
       "version_major": 2,
       "version_minor": 0
      },
      "text/plain": [
       "Fetching 5 files:   0%|          | 0/5 [00:00<?, ?it/s]"
      ]
     },
     "metadata": {},
     "output_type": "display_data"
    },
    {
     "data": {
      "application/vnd.jupyter.widget-view+json": {
       "model_id": "31c9686796f9461b98569e5920b93981",
       "version_major": 2,
       "version_minor": 0
      },
      "text/plain": [
       ".gitattributes: 0.00B [00:00, ?B/s]"
      ]
     },
     "metadata": {},
     "output_type": "display_data"
    },
    {
     "data": {
      "application/vnd.jupyter.widget-view+json": {
       "model_id": "4e5589e157fd436c80a60e7d03ce449a",
       "version_major": 2,
       "version_minor": 0
      },
      "text/plain": [
       "hparams.yaml:   0%|          | 0.00/567 [00:00<?, ?B/s]"
      ]
     },
     "metadata": {},
     "output_type": "display_data"
    },
    {
     "data": {
      "application/vnd.jupyter.widget-view+json": {
       "model_id": "213814f1da874bb1a27a2995989e4cab",
       "version_major": 2,
       "version_minor": 0
      },
      "text/plain": [
       "README.md: 0.00B [00:00, ?B/s]"
      ]
     },
     "metadata": {},
     "output_type": "display_data"
    },
    {
     "data": {
      "application/vnd.jupyter.widget-view+json": {
       "model_id": "cfcf23387e924be9af798d35f1485dcf",
       "version_major": 2,
       "version_minor": 0
      },
      "text/plain": [
       "LICENSE: 0.00B [00:00, ?B/s]"
      ]
     },
     "metadata": {},
     "output_type": "display_data"
    },
    {
     "data": {
      "application/vnd.jupyter.widget-view+json": {
       "model_id": "026e4697f0f548fda7c765ee47569d2a",
       "version_major": 2,
       "version_minor": 0
      },
      "text/plain": [
       "checkpoints/model.ckpt:   0%|          | 0.00/2.32G [00:00<?, ?B/s]"
      ]
     },
     "metadata": {},
     "output_type": "display_data"
    },
    {
     "name": "stderr",
     "output_type": "stream",
     "text": [
      "INFO:pytorch_lightning.utilities.migration.utils:Lightning automatically upgraded your loaded checkpoint from v1.8.3.post1 to v2.5.2. To apply the upgrade to your files permanently, run `python -m pytorch_lightning.utilities.upgrade_checkpoint ../root/.cache/huggingface/hub/models--Unbabel--wmt22-comet-da/snapshots/2760a223ac957f30acfb18c8aa649b01cf1d75f2/checkpoints/model.ckpt`\n"
     ]
    },
    {
     "data": {
      "application/vnd.jupyter.widget-view+json": {
       "model_id": "23fb974c81e54b89b0c1456ac63fb376",
       "version_major": 2,
       "version_minor": 0
      },
      "text/plain": [
       "tokenizer_config.json:   0%|          | 0.00/25.0 [00:00<?, ?B/s]"
      ]
     },
     "metadata": {},
     "output_type": "display_data"
    },
    {
     "data": {
      "application/vnd.jupyter.widget-view+json": {
       "model_id": "fb07eecc8b534e2783d2ebe18e972115",
       "version_major": 2,
       "version_minor": 0
      },
      "text/plain": [
       "sentencepiece.bpe.model:   0%|          | 0.00/5.07M [00:00<?, ?B/s]"
      ]
     },
     "metadata": {},
     "output_type": "display_data"
    },
    {
     "data": {
      "application/vnd.jupyter.widget-view+json": {
       "model_id": "c9abf24bbc874816bb9b69f05925732d",
       "version_major": 2,
       "version_minor": 0
      },
      "text/plain": [
       "tokenizer.json:   0%|          | 0.00/9.10M [00:00<?, ?B/s]"
      ]
     },
     "metadata": {},
     "output_type": "display_data"
    },
    {
     "data": {
      "application/vnd.jupyter.widget-view+json": {
       "model_id": "3f5df8fda541432cb8ef3e663406dafa",
       "version_major": 2,
       "version_minor": 0
      },
      "text/plain": [
       "config.json:   0%|          | 0.00/616 [00:00<?, ?B/s]"
      ]
     },
     "metadata": {},
     "output_type": "display_data"
    },
    {
     "name": "stderr",
     "output_type": "stream",
     "text": [
      "/usr/local/lib/python3.11/dist-packages/pytorch_lightning/core/saving.py:195: Found keys that are not in the model state dict but in the checkpoint: ['encoder.model.embeddings.position_ids']\n"
     ]
    },
    {
     "name": "stdout",
     "output_type": "stream",
     "text": [
      "\n",
      "=== Arabic → English ===\n"
     ]
    },
    {
     "data": {
      "application/vnd.jupyter.widget-view+json": {
       "model_id": "fd6495ecf88644eaa5bd916bd697b651",
       "version_major": 2,
       "version_minor": 0
      },
      "text/plain": [
       "tokenizer_config.json:   0%|          | 0.00/25.0 [00:00<?, ?B/s]"
      ]
     },
     "metadata": {},
     "output_type": "display_data"
    },
    {
     "data": {
      "application/vnd.jupyter.widget-view+json": {
       "model_id": "e670b9bc34ae490b8715cdca2fa4d222",
       "version_major": 2,
       "version_minor": 0
      },
      "text/plain": [
       "config.json:   0%|          | 0.00/482 [00:00<?, ?B/s]"
      ]
     },
     "metadata": {},
     "output_type": "display_data"
    },
    {
     "data": {
      "application/vnd.jupyter.widget-view+json": {
       "model_id": "6d7eef2a365f4b61bb9397ed5cdc1497",
       "version_major": 2,
       "version_minor": 0
      },
      "text/plain": [
       "vocab.json:   0%|          | 0.00/899k [00:00<?, ?B/s]"
      ]
     },
     "metadata": {},
     "output_type": "display_data"
    },
    {
     "data": {
      "application/vnd.jupyter.widget-view+json": {
       "model_id": "1650f1b93a334d689fc740c22d20866d",
       "version_major": 2,
       "version_minor": 0
      },
      "text/plain": [
       "merges.txt:   0%|          | 0.00/456k [00:00<?, ?B/s]"
      ]
     },
     "metadata": {},
     "output_type": "display_data"
    },
    {
     "data": {
      "application/vnd.jupyter.widget-view+json": {
       "model_id": "44f8d2e450c941ea8b4c5261693c0e3b",
       "version_major": 2,
       "version_minor": 0
      },
      "text/plain": [
       "tokenizer.json:   0%|          | 0.00/1.36M [00:00<?, ?B/s]"
      ]
     },
     "metadata": {},
     "output_type": "display_data"
    },
    {
     "data": {
      "application/vnd.jupyter.widget-view+json": {
       "model_id": "c8336f26f6b24018a28befa14d334dde",
       "version_major": 2,
       "version_minor": 0
      },
      "text/plain": [
       "model.safetensors:   0%|          | 0.00/1.42G [00:00<?, ?B/s]"
      ]
     },
     "metadata": {},
     "output_type": "display_data"
    },
    {
     "name": "stderr",
     "output_type": "stream",
     "text": [
      "INFO:pytorch_lightning.utilities.rank_zero:💡 Tip: For seamless cloud uploads and versioning, try installing [litmodels](https://pypi.org/project/litmodels/) to enable LitModelCheckpoint, which syncs automatically with the Lightning model registry.\n",
      "INFO:pytorch_lightning.utilities.rank_zero:GPU available: False, used: False\n",
      "INFO:pytorch_lightning.utilities.rank_zero:TPU available: False, using: 0 TPU cores\n",
      "INFO:pytorch_lightning.utilities.rank_zero:HPU available: False, using: 0 HPUs\n"
     ]
    },
    {
     "name": "stdout",
     "output_type": "stream",
     "text": [
      "Source    : أنا أتقدم للحصول على تأشيرة سياحية لزيارة الولايات المتحدة. أنوي البقاء لمدة أسبوعين وزيارة معالم مشهورة مثل تمثال الحرية وساحة التايمز. سأعود إلى بلدي بعد انتهاء عطلتي.\n",
      "Reference : I am applying for a tourist visa to visit the United States. I intend to stay for two weeks and visit popular landmarks like the Statue of Liberty and Times Square. I will return to my home country after my vacation.\n",
      "Predicted : I am applying for a tourist visa to visit the United States. I intend to stay for two weeks and visit famous landmarks such as the Statue of Liberty and Times Square.\n",
      "\n",
      "BLEU      : 0.6224\n",
      "BERTScore : 0.9774\n",
      "METEOR    : 0.7048\n",
      "ROUGE-L   : 0.7945\n",
      "TER       : 31.7073\n",
      "COMET     : 0.8781\n",
      "\n",
      "Time to 1st tok : 99.6635s\n",
      "Total inf time  : 99.6909s\n",
      "Tokens/sec      : 0.59\n",
      "RAM   : 1965.04 MB\n",
      "CPU   : -5.30 %\n",
      "Model size : 4728.20 MB\n",
      "============================================================\n",
      "\n",
      "=== Spanish → English ===\n"
     ]
    },
    {
     "name": "stderr",
     "output_type": "stream",
     "text": [
      "INFO:pytorch_lightning.utilities.rank_zero:💡 Tip: For seamless cloud uploads and versioning, try installing [litmodels](https://pypi.org/project/litmodels/) to enable LitModelCheckpoint, which syncs automatically with the Lightning model registry.\n",
      "INFO:pytorch_lightning.utilities.rank_zero:GPU available: False, used: False\n",
      "INFO:pytorch_lightning.utilities.rank_zero:TPU available: False, using: 0 TPU cores\n",
      "INFO:pytorch_lightning.utilities.rank_zero:HPU available: False, using: 0 HPUs\n"
     ]
    },
    {
     "name": "stdout",
     "output_type": "stream",
     "text": [
      "Source    : Estoy solicitando una visa de turista para visitar los Estados Unidos. Tengo la intención de quedarme dos semanas y visitar lugares famosos como la Estatua de la Libertad y Times Square. Regresaré a mi país después de mis vacaciones.\n",
      "Reference : I am applying for a tourist visa to visit the United States. I intend to stay for two weeks and visit popular landmarks like the Statue of Liberty and Times Square. I will return to my home country after my vacation.\n",
      "Predicted : I am applying for a tourist visa to visit the United States. I intend to stay two weeks and visit famous places like the Statue of Liberty and Times Square.\n",
      "\n",
      "BLEU      : 0.5700\n",
      "BERTScore : 0.9750\n",
      "METEOR    : 0.6909\n",
      "ROUGE-L   : 0.7887\n",
      "TER       : 31.7073\n",
      "COMET     : 0.8799\n",
      "\n",
      "Time to 1st tok : 341.6061s\n",
      "Total inf time  : 341.6347s\n",
      "Tokens/sec      : 0.16\n",
      "RAM   : -500.08 MB\n",
      "CPU   : 14.40 %\n",
      "Model size : 4728.20 MB\n",
      "============================================================\n",
      "\n",
      "=== French → English ===\n"
     ]
    },
    {
     "name": "stderr",
     "output_type": "stream",
     "text": [
      "INFO:pytorch_lightning.utilities.rank_zero:💡 Tip: For seamless cloud uploads and versioning, try installing [litmodels](https://pypi.org/project/litmodels/) to enable LitModelCheckpoint, which syncs automatically with the Lightning model registry.\n",
      "INFO:pytorch_lightning.utilities.rank_zero:GPU available: False, used: False\n",
      "INFO:pytorch_lightning.utilities.rank_zero:TPU available: False, using: 0 TPU cores\n",
      "INFO:pytorch_lightning.utilities.rank_zero:HPU available: False, using: 0 HPUs\n"
     ]
    },
    {
     "name": "stdout",
     "output_type": "stream",
     "text": [
      "Source    : Je demande un visa de touriste pour visiter les États-Unis. J’ai l’intention de rester deux semaines et de visiter des sites célèbres comme la Statue de la Liberté et Times Square. Je retournerai dans mon pays après mes vacances.\n",
      "Reference : I am applying for a tourist visa to visit the United States. I intend to stay for two weeks and visit popular landmarks like the Statue of Liberty and Times Square. I will return to my home country after my vacation.\n",
      "Predicted : I am applying for a tourist visa to visit the United States. I intend to stay for two weeks and visit famous sites such as the Statue of Liberty and Times Square.\n",
      "\n",
      "BLEU      : 0.6173\n",
      "BERTScore : 0.9763\n",
      "METEOR    : 0.6848\n",
      "ROUGE-L   : 0.7671\n",
      "TER       : 34.1463\n",
      "COMET     : 0.8791\n",
      "\n",
      "Time to 1st tok : 342.6946s\n",
      "Total inf time  : 342.7235s\n",
      "Tokens/sec      : 0.18\n",
      "RAM   : 221.16 MB\n",
      "CPU   : -3.30 %\n",
      "Model size : 4728.20 MB\n",
      "============================================================\n",
      "\n",
      "=== Russian → English ===\n"
     ]
    },
    {
     "name": "stderr",
     "output_type": "stream",
     "text": [
      "INFO:pytorch_lightning.utilities.rank_zero:💡 Tip: For seamless cloud uploads and versioning, try installing [litmodels](https://pypi.org/project/litmodels/) to enable LitModelCheckpoint, which syncs automatically with the Lightning model registry.\n",
      "INFO:pytorch_lightning.utilities.rank_zero:GPU available: False, used: False\n",
      "INFO:pytorch_lightning.utilities.rank_zero:TPU available: False, using: 0 TPU cores\n",
      "INFO:pytorch_lightning.utilities.rank_zero:HPU available: False, using: 0 HPUs\n"
     ]
    },
    {
     "name": "stdout",
     "output_type": "stream",
     "text": [
      "Source    : Я подаю заявку на туристическую визу для поездки в Соединенные Штаты. Я собираюсь остаться на две недели и посетить известные достопримечательности, такие как Статуя Свободы и Таймс-сквер. Я вернусь в свою страну после отпуска.\n",
      "Reference : I am applying for a tourist visa to visit the United States. I intend to stay for two weeks and visit popular landmarks like the Statue of Liberty and Times Square. I will return to my home country after my vacation.\n",
      "Predicted : I am applying for a tourist visa to travel to the United States. I am going to stay for two weeks and visit famous attractions such as the Statue of Liberty and Times Square.\n",
      "\n",
      "BLEU      : 0.5045\n",
      "BERTScore : 0.9682\n",
      "METEOR    : 0.6575\n",
      "ROUGE-L   : 0.6933\n",
      "TER       : 41.4634\n",
      "COMET     : 0.8712\n",
      "\n",
      "Time to 1st tok : 344.9406s\n",
      "Total inf time  : 344.9660s\n",
      "Tokens/sec      : 0.19\n",
      "RAM   : -469.31 MB\n",
      "CPU   : -6.30 %\n",
      "Model size : 4728.20 MB\n",
      "============================================================\n",
      "\n",
      "=== Romanian → English ===\n"
     ]
    },
    {
     "name": "stderr",
     "output_type": "stream",
     "text": [
      "INFO:pytorch_lightning.utilities.rank_zero:💡 Tip: For seamless cloud uploads and versioning, try installing [litmodels](https://pypi.org/project/litmodels/) to enable LitModelCheckpoint, which syncs automatically with the Lightning model registry.\n",
      "INFO:pytorch_lightning.utilities.rank_zero:GPU available: False, used: False\n",
      "INFO:pytorch_lightning.utilities.rank_zero:TPU available: False, using: 0 TPU cores\n",
      "INFO:pytorch_lightning.utilities.rank_zero:HPU available: False, using: 0 HPUs\n"
     ]
    },
    {
     "name": "stdout",
     "output_type": "stream",
     "text": [
      "Source    : Solicit o viză turistică pentru a vizita Statele Unite. Intenționez să stau două săptămâni și să vizitez repere populare precum Statuia Libertății și Times Square. Mă voi întoarce în țara mea după vacanță.\n",
      "Reference : I am applying for a tourist visa to visit the United States. I intend to stay for two weeks and visit popular landmarks like the Statue of Liberty and Times Square. I will return to my home country after my vacation.\n",
      "Predicted : I am applying for a tourist visa to visit the United States. I intend to stay for two weeks and visit popular landmarks such as the Statue of Liberty and Times Square. I will return to my country after the holiday.\n",
      "\n",
      "BLEU      : 0.8200\n",
      "BERTScore : 0.9902\n",
      "METEOR    : 0.9055\n",
      "ROUGE-L   : 0.9024\n",
      "TER       : 12.1951\n",
      "COMET     : 0.9271\n",
      "\n",
      "Time to 1st tok : 445.2330s\n",
      "Total inf time  : 445.2626s\n",
      "Tokens/sec      : 0.13\n",
      "RAM   : 350.53 MB\n",
      "CPU   : -10.00 %\n",
      "Model size : 4728.20 MB\n",
      "============================================================\n"
     ]
    }
   ],
   "source": [
    "# Install all required libraries\n",
    "!pip install unbabel-comet\n",
    "!pip install -q transformers accelerate evaluate bert_score rouge_score sacremoses nltk psutil pandas sacrebleu sentencepiece\n",
    "\n",
    "from huggingface_hub import login\n",
    "\n",
    "# Paste your token here\n",
    "login(token='hugging face token goes here')\n",
    "\n",
    "# Download NLTK data needed for BLEU and ROUGE\n",
    "import nltk\n",
    "nltk.download('punkt')\n",
    "\n",
    "# Step 4: Imports\n",
    "import time\n",
    "import torch\n",
    "import psutil\n",
    "import logging\n",
    "from transformers import M2M100Tokenizer, M2M100ForConditionalGeneration\n",
    "import evaluate\n",
    "\n",
    "logging.getLogger(\"transformers\").setLevel(logging.ERROR)\n",
    "device = torch.device(\"cuda\" if torch.cuda.is_available() else \"cpu\")\n",
    "print(f\"Using device: {device}\")\n",
    "\n",
    "# Step 5: Paragraph dataset\n",
    "paragraph_data = [\n",
    "    {\"lang\": \"ar\", \"name\": \"Arabic\", \"src\": \"أنا أتقدم للحصول على تأشيرة سياحية لزيارة الولايات المتحدة. أنوي البقاء لمدة أسبوعين وزيارة معالم مشهورة مثل تمثال الحرية وساحة التايمز. سأعود إلى بلدي بعد انتهاء عطلتي.\", \"ref\": \"I am applying for a tourist visa to visit the United States. I intend to stay for two weeks and visit popular landmarks like the Statue of Liberty and Times Square. I will return to my home country after my vacation.\"},\n",
    "    {\"lang\": \"es\", \"name\": \"Spanish\", \"src\": \"Estoy solicitando una visa de turista para visitar los Estados Unidos. Tengo la intención de quedarme dos semanas y visitar lugares famosos como la Estatua de la Libertad y Times Square. Regresaré a mi país después de mis vacaciones.\", \"ref\": \"I am applying for a tourist visa to visit the United States. I intend to stay for two weeks and visit popular landmarks like the Statue of Liberty and Times Square. I will return to my home country after my vacation.\"},\n",
    "    {\"lang\": \"fr\", \"name\": \"French\", \"src\": \"Je demande un visa de touriste pour visiter les États-Unis. J’ai l’intention de rester deux semaines et de visiter des sites célèbres comme la Statue de la Liberté et Times Square. Je retournerai dans mon pays après mes vacances.\", \"ref\": \"I am applying for a tourist visa to visit the United States. I intend to stay for two weeks and visit popular landmarks like the Statue of Liberty and Times Square. I will return to my home country after my vacation.\"},\n",
    "    {\"lang\": \"ru\", \"name\": \"Russian\", \"src\": \"Я подаю заявку на туристическую визу для поездки в Соединенные Штаты. Я собираюсь остаться на две недели и посетить известные достопримечательности, такие как Статуя Свободы и Таймс-сквер. Я вернусь в свою страну после отпуска.\", \"ref\": \"I am applying for a tourist visa to visit the United States. I intend to stay for two weeks and visit popular landmarks like the Statue of Liberty and Times Square. I will return to my home country after my vacation.\"},\n",
    "    {\"lang\": \"ro\", \"name\": \"Romanian\", \"src\": \"Solicit o viză turistică pentru a vizita Statele Unite. Intenționez să stau două săptămâni și să vizitez repere populare precum Statuia Libertății și Times Square. Mă voi întoarce în țara mea după vacanță.\", \"ref\": \"I am applying for a tourist visa to visit the United States. I intend to stay for two weeks and visit popular landmarks like the Statue of Liberty and Times Square. I will return to my home country after my vacation.\"},\n",
    "]\n",
    "\n",
    "# Step 6: Load model and tokenizer\n",
    "model_name = \"facebook/m2m100_1.2B\"\n",
    "tokenizer = M2M100Tokenizer.from_pretrained(model_name)\n",
    "model = M2M100ForConditionalGeneration.from_pretrained(model_name).to(device)\n",
    "model.eval()\n",
    "\n",
    "# Step 7: Load evaluation modules\n",
    "bleu_mod      = evaluate.load(\"bleu\")\n",
    "bertscore_mod = evaluate.load(\"bertscore\")\n",
    "meteor_mod    = evaluate.load(\"meteor\")\n",
    "rouge_mod     = evaluate.load(\"rouge\")\n",
    "ter_mod       = evaluate.load(\"ter\")\n",
    "comet_mod     = evaluate.load(\"comet\")\n",
    "\n",
    "# Step 8: System monitor helper\n",
    "def measure_system():\n",
    "    proc = psutil.Process()\n",
    "    return proc.memory_info().rss / 1024**2, psutil.cpu_percent(interval=None)\n",
    "\n",
    "# Step 9: Translate with M2M100\n",
    "def translate_m2m100(text: str, src_lang: str, tgt_lang: str = \"en\"):\n",
    "    tokenizer.src_lang = src_lang\n",
    "    encoded = tokenizer(text, return_tensors=\"pt\").to(device)\n",
    "    start = time.perf_counter()\n",
    "    generated_tokens = model.generate(\n",
    "        **encoded,\n",
    "        forced_bos_token_id=tokenizer.get_lang_id(tgt_lang)\n",
    "    )\n",
    "    mid = time.perf_counter()\n",
    "    pred = tokenizer.batch_decode(generated_tokens, skip_special_tokens=True)[0]\n",
    "    end = time.perf_counter()\n",
    "    return pred, mid - start, end - start, len(tokenizer.tokenize(text))\n",
    "\n",
    "# Step 10: Evaluate all\n",
    "for item in paragraph_data:\n",
    "    src_lang, name, src, ref = item[\"lang\"], item[\"name\"], item[\"src\"], item[\"ref\"]\n",
    "    print(f\"\\n=== {name} → English ===\")\n",
    "\n",
    "    ram_before, cpu_before = measure_system()\n",
    "    pred, t_first, t_total, token_count = translate_m2m100(src, src_lang)\n",
    "    ram_after, cpu_after = measure_system()\n",
    "\n",
    "    # Accuracy metrics\n",
    "    bleu_score   = bleu_mod.compute(predictions=[pred], references=[[ref]])[\"bleu\"]\n",
    "    bert_res     = bertscore_mod.compute(predictions=[pred], references=[ref], lang=\"en\")\n",
    "    meteor_score = meteor_mod.compute(predictions=[pred], references=[[ref]])[\"meteor\"]\n",
    "    rouge_score  = rouge_mod.compute(predictions=[pred], references=[ref])[\"rougeL\"]\n",
    "    ter_score    = ter_mod.compute(predictions=[pred], references=[[ref]])[\"score\"]\n",
    "    comet_res    = comet_mod.compute(sources=[src], predictions=[pred], references=[ref])\n",
    "    comet_score  = next(v for v in comet_res.values() if isinstance(v, (int, float)))\n",
    "\n",
    "    # Output\n",
    "    print(f\"Source    : {src}\")\n",
    "    print(f\"Reference : {ref}\")\n",
    "    print(f\"Predicted : {pred}\\n\")\n",
    "    print(f\"BLEU      : {bleu_score:.4f}\")\n",
    "    print(f\"BERTScore : {bert_res['f1'][0]:.4f}\")\n",
    "    print(f\"METEOR    : {meteor_score:.4f}\")\n",
    "    print(f\"ROUGE-L   : {rouge_score:.4f}\")\n",
    "    print(f\"TER       : {ter_score:.4f}\")\n",
    "    print(f\"COMET     : {comet_score:.4f}\\n\")\n",
    "    print(f\"Time to 1st tok : {t_first:.4f}s\")\n",
    "    print(f\"Total inf time  : {t_total:.4f}s\")\n",
    "    print(f\"Tokens/sec      : {token_count / t_total:.2f}\")\n",
    "    if device.type == \"cuda\":\n",
    "        print(f\"VRAM used       : {torch.cuda.max_memory_allocated() / 1024**2:.2f} MB\")\n",
    "    print(f\"RAM   : {ram_after - ram_before:.2f} MB\")\n",
    "    print(f\"CPU   : {cpu_after - cpu_before:.2f} %\")\n",
    "    print(f\"Model size : {sum(p.numel() for p in model.parameters()) * 4 / 1024 ** 2:.2f} MB\")\n",
    "    print(\"=\" * 60)\n"
   ]
  }
 ],
 "metadata": {
  "colab": {
   "provenance": []
  },
  "kernelspec": {
   "display_name": "Python 3",
   "name": "python3"
  },
  "language_info": {
   "name": "python"
  }
 },
 "nbformat": 4,
 "nbformat_minor": 0
}
