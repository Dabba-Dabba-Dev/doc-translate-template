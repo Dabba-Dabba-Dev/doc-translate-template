{
 "cells": [
  {
   "cell_type": "code",
   "execution_count": null,
   "metadata": {
    "colab": {
     "base_uri": "https://localhost:8080/",
     "height": 1000,
     "referenced_widgets": [
      "8cd522959a0c43eda4b38fb14aa52d5d",
      "96b0de16f9934f9ea4b6798ea51ca4ea",
      "3492a6e723c34730bb1934140e25bb90",
      "7a201bb8bc9245a9be70718409482950",
      "32fcd514754b4cb6a786016dac93e285",
      "d3ddb787bde44fc9a9a4322a30f534d8",
      "fa3b61b7cde04a3da029d3f57f46df68",
      "738ce1497ce84e56bf2c0c6afa82d929",
      "c38360e491774fb3a458a8a6e253c231",
      "96d6c4d4834446bc9c6da10254f9df0d",
      "28ef22766e7e4605af344129f748632a"
     ]
    },
    "id": "zfd31znZLmNZ",
    "outputId": "fd7afbd4-3d53-4d8c-e55a-963186e81748"
   },
   "outputs": [
    {
     "name": "stdout",
     "output_type": "stream",
     "text": [
      "Requirement already satisfied: unbabel-comet in /usr/local/lib/python3.11/dist-packages (2.2.6)\n",
      "Requirement already satisfied: entmax<2.0,>=1.1 in /usr/local/lib/python3.11/dist-packages (from unbabel-comet) (1.3)\n",
      "Requirement already satisfied: huggingface-hub<1.0,>=0.19.3 in /usr/local/lib/python3.11/dist-packages (from unbabel-comet) (0.33.0)\n",
      "Requirement already satisfied: jsonargparse==3.13.1 in /usr/local/lib/python3.11/dist-packages (from unbabel-comet) (3.13.1)\n",
      "Requirement already satisfied: numpy<2.0.0,>=1.20.0 in /usr/local/lib/python3.11/dist-packages (from unbabel-comet) (1.26.4)\n",
      "Requirement already satisfied: pandas>=1.4.1 in /usr/local/lib/python3.11/dist-packages (from unbabel-comet) (2.2.2)\n",
      "Requirement already satisfied: protobuf<5.0.0,>=4.24.4 in /usr/local/lib/python3.11/dist-packages (from unbabel-comet) (4.25.8)\n",
      "Requirement already satisfied: pytorch-lightning<3.0.0,>=2.0.0 in /usr/local/lib/python3.11/dist-packages (from unbabel-comet) (2.5.2)\n",
      "Requirement already satisfied: sacrebleu<3.0.0,>=2.0.0 in /usr/local/lib/python3.11/dist-packages (from unbabel-comet) (2.5.1)\n",
      "Requirement already satisfied: scipy<2.0.0,>=1.5.4 in /usr/local/lib/python3.11/dist-packages (from unbabel-comet) (1.15.3)\n",
      "Requirement already satisfied: sentencepiece<0.3.0,>=0.2.0 in /usr/local/lib/python3.11/dist-packages (from unbabel-comet) (0.2.0)\n",
      "Requirement already satisfied: torch>=1.6.0 in /usr/local/lib/python3.11/dist-packages (from unbabel-comet) (2.6.0+cu124)\n",
      "Requirement already satisfied: torchmetrics<0.11.0,>=0.10.2 in /usr/local/lib/python3.11/dist-packages (from unbabel-comet) (0.10.3)\n",
      "Requirement already satisfied: transformers<5.0,>=4.17 in /usr/local/lib/python3.11/dist-packages (from unbabel-comet) (4.52.4)\n",
      "Requirement already satisfied: PyYAML>=3.13 in /usr/local/lib/python3.11/dist-packages (from jsonargparse==3.13.1->unbabel-comet) (6.0.2)\n",
      "Requirement already satisfied: filelock in /usr/local/lib/python3.11/dist-packages (from huggingface-hub<1.0,>=0.19.3->unbabel-comet) (3.18.0)\n",
      "Requirement already satisfied: fsspec>=2023.5.0 in /usr/local/lib/python3.11/dist-packages (from huggingface-hub<1.0,>=0.19.3->unbabel-comet) (2025.3.2)\n",
      "Requirement already satisfied: packaging>=20.9 in /usr/local/lib/python3.11/dist-packages (from huggingface-hub<1.0,>=0.19.3->unbabel-comet) (24.2)\n",
      "Requirement already satisfied: requests in /usr/local/lib/python3.11/dist-packages (from huggingface-hub<1.0,>=0.19.3->unbabel-comet) (2.32.3)\n",
      "Requirement already satisfied: tqdm>=4.42.1 in /usr/local/lib/python3.11/dist-packages (from huggingface-hub<1.0,>=0.19.3->unbabel-comet) (4.67.1)\n",
      "Requirement already satisfied: typing-extensions>=3.7.4.3 in /usr/local/lib/python3.11/dist-packages (from huggingface-hub<1.0,>=0.19.3->unbabel-comet) (4.14.0)\n",
      "Requirement already satisfied: hf-xet<2.0.0,>=1.1.2 in /usr/local/lib/python3.11/dist-packages (from huggingface-hub<1.0,>=0.19.3->unbabel-comet) (1.1.5)\n",
      "Requirement already satisfied: python-dateutil>=2.8.2 in /usr/local/lib/python3.11/dist-packages (from pandas>=1.4.1->unbabel-comet) (2.9.0.post0)\n",
      "Requirement already satisfied: pytz>=2020.1 in /usr/local/lib/python3.11/dist-packages (from pandas>=1.4.1->unbabel-comet) (2025.2)\n",
      "Requirement already satisfied: tzdata>=2022.7 in /usr/local/lib/python3.11/dist-packages (from pandas>=1.4.1->unbabel-comet) (2025.2)\n",
      "Requirement already satisfied: lightning-utilities>=0.10.0 in /usr/local/lib/python3.11/dist-packages (from pytorch-lightning<3.0.0,>=2.0.0->unbabel-comet) (0.14.3)\n",
      "Requirement already satisfied: portalocker in /usr/local/lib/python3.11/dist-packages (from sacrebleu<3.0.0,>=2.0.0->unbabel-comet) (3.2.0)\n",
      "Requirement already satisfied: regex in /usr/local/lib/python3.11/dist-packages (from sacrebleu<3.0.0,>=2.0.0->unbabel-comet) (2024.11.6)\n",
      "Requirement already satisfied: tabulate>=0.8.9 in /usr/local/lib/python3.11/dist-packages (from sacrebleu<3.0.0,>=2.0.0->unbabel-comet) (0.9.0)\n",
      "Requirement already satisfied: colorama in /usr/local/lib/python3.11/dist-packages (from sacrebleu<3.0.0,>=2.0.0->unbabel-comet) (0.4.6)\n",
      "Requirement already satisfied: lxml in /usr/local/lib/python3.11/dist-packages (from sacrebleu<3.0.0,>=2.0.0->unbabel-comet) (5.4.0)\n",
      "Requirement already satisfied: networkx in /usr/local/lib/python3.11/dist-packages (from torch>=1.6.0->unbabel-comet) (3.5)\n",
      "Requirement already satisfied: jinja2 in /usr/local/lib/python3.11/dist-packages (from torch>=1.6.0->unbabel-comet) (3.1.6)\n",
      "Requirement already satisfied: nvidia-cuda-nvrtc-cu12==12.4.127 in /usr/local/lib/python3.11/dist-packages (from torch>=1.6.0->unbabel-comet) (12.4.127)\n",
      "Requirement already satisfied: nvidia-cuda-runtime-cu12==12.4.127 in /usr/local/lib/python3.11/dist-packages (from torch>=1.6.0->unbabel-comet) (12.4.127)\n",
      "Requirement already satisfied: nvidia-cuda-cupti-cu12==12.4.127 in /usr/local/lib/python3.11/dist-packages (from torch>=1.6.0->unbabel-comet) (12.4.127)\n",
      "Requirement already satisfied: nvidia-cudnn-cu12==9.1.0.70 in /usr/local/lib/python3.11/dist-packages (from torch>=1.6.0->unbabel-comet) (9.1.0.70)\n",
      "Requirement already satisfied: nvidia-cublas-cu12==12.4.5.8 in /usr/local/lib/python3.11/dist-packages (from torch>=1.6.0->unbabel-comet) (12.4.5.8)\n",
      "Requirement already satisfied: nvidia-cufft-cu12==11.2.1.3 in /usr/local/lib/python3.11/dist-packages (from torch>=1.6.0->unbabel-comet) (11.2.1.3)\n",
      "Requirement already satisfied: nvidia-curand-cu12==10.3.5.147 in /usr/local/lib/python3.11/dist-packages (from torch>=1.6.0->unbabel-comet) (10.3.5.147)\n",
      "Requirement already satisfied: nvidia-cusolver-cu12==11.6.1.9 in /usr/local/lib/python3.11/dist-packages (from torch>=1.6.0->unbabel-comet) (11.6.1.9)\n",
      "Requirement already satisfied: nvidia-cusparse-cu12==12.3.1.170 in /usr/local/lib/python3.11/dist-packages (from torch>=1.6.0->unbabel-comet) (12.3.1.170)\n",
      "Requirement already satisfied: nvidia-cusparselt-cu12==0.6.2 in /usr/local/lib/python3.11/dist-packages (from torch>=1.6.0->unbabel-comet) (0.6.2)\n",
      "Requirement already satisfied: nvidia-nccl-cu12==2.21.5 in /usr/local/lib/python3.11/dist-packages (from torch>=1.6.0->unbabel-comet) (2.21.5)\n",
      "Requirement already satisfied: nvidia-nvtx-cu12==12.4.127 in /usr/local/lib/python3.11/dist-packages (from torch>=1.6.0->unbabel-comet) (12.4.127)\n",
      "Requirement already satisfied: nvidia-nvjitlink-cu12==12.4.127 in /usr/local/lib/python3.11/dist-packages (from torch>=1.6.0->unbabel-comet) (12.4.127)\n",
      "Requirement already satisfied: triton==3.2.0 in /usr/local/lib/python3.11/dist-packages (from torch>=1.6.0->unbabel-comet) (3.2.0)\n",
      "Requirement already satisfied: sympy==1.13.1 in /usr/local/lib/python3.11/dist-packages (from torch>=1.6.0->unbabel-comet) (1.13.1)\n",
      "Requirement already satisfied: mpmath<1.4,>=1.1.0 in /usr/local/lib/python3.11/dist-packages (from sympy==1.13.1->torch>=1.6.0->unbabel-comet) (1.3.0)\n",
      "Requirement already satisfied: tokenizers<0.22,>=0.21 in /usr/local/lib/python3.11/dist-packages (from transformers<5.0,>=4.17->unbabel-comet) (0.21.2)\n",
      "Requirement already satisfied: safetensors>=0.4.3 in /usr/local/lib/python3.11/dist-packages (from transformers<5.0,>=4.17->unbabel-comet) (0.5.3)\n",
      "Requirement already satisfied: aiohttp!=4.0.0a0,!=4.0.0a1 in /usr/local/lib/python3.11/dist-packages (from fsspec[http]>=2022.5.0->pytorch-lightning<3.0.0,>=2.0.0->unbabel-comet) (3.11.15)\n",
      "Requirement already satisfied: setuptools in /usr/local/lib/python3.11/dist-packages (from lightning-utilities>=0.10.0->pytorch-lightning<3.0.0,>=2.0.0->unbabel-comet) (75.2.0)\n",
      "Requirement already satisfied: six>=1.5 in /usr/local/lib/python3.11/dist-packages (from python-dateutil>=2.8.2->pandas>=1.4.1->unbabel-comet) (1.17.0)\n",
      "Requirement already satisfied: MarkupSafe>=2.0 in /usr/local/lib/python3.11/dist-packages (from jinja2->torch>=1.6.0->unbabel-comet) (3.0.2)\n",
      "Requirement already satisfied: charset-normalizer<4,>=2 in /usr/local/lib/python3.11/dist-packages (from requests->huggingface-hub<1.0,>=0.19.3->unbabel-comet) (3.4.2)\n",
      "Requirement already satisfied: idna<4,>=2.5 in /usr/local/lib/python3.11/dist-packages (from requests->huggingface-hub<1.0,>=0.19.3->unbabel-comet) (3.10)\n",
      "Requirement already satisfied: urllib3<3,>=1.21.1 in /usr/local/lib/python3.11/dist-packages (from requests->huggingface-hub<1.0,>=0.19.3->unbabel-comet) (2.4.0)\n",
      "Requirement already satisfied: certifi>=2017.4.17 in /usr/local/lib/python3.11/dist-packages (from requests->huggingface-hub<1.0,>=0.19.3->unbabel-comet) (2025.6.15)\n",
      "Requirement already satisfied: aiohappyeyeballs>=2.3.0 in /usr/local/lib/python3.11/dist-packages (from aiohttp!=4.0.0a0,!=4.0.0a1->fsspec[http]>=2022.5.0->pytorch-lightning<3.0.0,>=2.0.0->unbabel-comet) (2.6.1)\n",
      "Requirement already satisfied: aiosignal>=1.1.2 in /usr/local/lib/python3.11/dist-packages (from aiohttp!=4.0.0a0,!=4.0.0a1->fsspec[http]>=2022.5.0->pytorch-lightning<3.0.0,>=2.0.0->unbabel-comet) (1.3.2)\n",
      "Requirement already satisfied: attrs>=17.3.0 in /usr/local/lib/python3.11/dist-packages (from aiohttp!=4.0.0a0,!=4.0.0a1->fsspec[http]>=2022.5.0->pytorch-lightning<3.0.0,>=2.0.0->unbabel-comet) (25.3.0)\n",
      "Requirement already satisfied: frozenlist>=1.1.1 in /usr/local/lib/python3.11/dist-packages (from aiohttp!=4.0.0a0,!=4.0.0a1->fsspec[http]>=2022.5.0->pytorch-lightning<3.0.0,>=2.0.0->unbabel-comet) (1.7.0)\n",
      "Requirement already satisfied: multidict<7.0,>=4.5 in /usr/local/lib/python3.11/dist-packages (from aiohttp!=4.0.0a0,!=4.0.0a1->fsspec[http]>=2022.5.0->pytorch-lightning<3.0.0,>=2.0.0->unbabel-comet) (6.4.4)\n",
      "Requirement already satisfied: propcache>=0.2.0 in /usr/local/lib/python3.11/dist-packages (from aiohttp!=4.0.0a0,!=4.0.0a1->fsspec[http]>=2022.5.0->pytorch-lightning<3.0.0,>=2.0.0->unbabel-comet) (0.3.2)\n",
      "Requirement already satisfied: yarl<2.0,>=1.17.0 in /usr/local/lib/python3.11/dist-packages (from aiohttp!=4.0.0a0,!=4.0.0a1->fsspec[http]>=2022.5.0->pytorch-lightning<3.0.0,>=2.0.0->unbabel-comet) (1.20.1)\n"
     ]
    },
    {
     "name": "stderr",
     "output_type": "stream",
     "text": [
      "[nltk_data] Downloading package punkt to /root/nltk_data...\n",
      "[nltk_data]   Package punkt is already up-to-date!\n"
     ]
    },
    {
     "name": "stdout",
     "output_type": "stream",
     "text": [
      "Using device: cpu\n"
     ]
    },
    {
     "name": "stderr",
     "output_type": "stream",
     "text": [
      "[nltk_data] Downloading package wordnet to /root/nltk_data...\n",
      "[nltk_data]   Package wordnet is already up-to-date!\n",
      "[nltk_data] Downloading package punkt_tab to /root/nltk_data...\n",
      "[nltk_data]   Package punkt_tab is already up-to-date!\n",
      "[nltk_data] Downloading package omw-1.4 to /root/nltk_data...\n",
      "[nltk_data]   Package omw-1.4 is already up-to-date!\n"
     ]
    },
    {
     "data": {
      "application/vnd.jupyter.widget-view+json": {
       "model_id": "8cd522959a0c43eda4b38fb14aa52d5d",
       "version_major": 2,
       "version_minor": 0
      },
      "text/plain": [
       "Fetching 5 files:   0%|          | 0/5 [00:00<?, ?it/s]"
      ]
     },
     "metadata": {},
     "output_type": "display_data"
    },
    {
     "name": "stderr",
     "output_type": "stream",
     "text": [
      "INFO:pytorch_lightning.utilities.migration.utils:Lightning automatically upgraded your loaded checkpoint from v1.8.3.post1 to v2.5.2. To apply the upgrade to your files permanently, run `python -m pytorch_lightning.utilities.upgrade_checkpoint ../root/.cache/huggingface/hub/models--Unbabel--wmt22-comet-da/snapshots/2760a223ac957f30acfb18c8aa649b01cf1d75f2/checkpoints/model.ckpt`\n"
     ]
    },
    {
     "name": "stdout",
     "output_type": "stream",
     "text": [
      "\n",
      "=== Arabic → English ===\n"
     ]
    },
    {
     "name": "stderr",
     "output_type": "stream",
     "text": [
      "INFO:pytorch_lightning.utilities.rank_zero:💡 Tip: For seamless cloud uploads and versioning, try installing [litmodels](https://pypi.org/project/litmodels/) to enable LitModelCheckpoint, which syncs automatically with the Lightning model registry.\n",
      "INFO:pytorch_lightning.utilities.rank_zero:GPU available: False, used: False\n",
      "INFO:pytorch_lightning.utilities.rank_zero:TPU available: False, using: 0 TPU cores\n",
      "INFO:pytorch_lightning.utilities.rank_zero:HPU available: False, using: 0 HPUs\n"
     ]
    },
    {
     "name": "stdout",
     "output_type": "stream",
     "text": [
      "Source    : أنا أتقدم للحصول على تأشيرة سياحية لزيارة الولايات المتحدة. أنوي البقاء لمدة أسبوعين وزيارة معالم مشهورة مثل تمثال الحرية وساحة التايمز. سأعود إلى بلدي بعد انتهاء عطلتي.\n",
      "Reference : I am applying for a tourist visa to visit the United States. I intend to stay for two weeks and visit popular landmarks like the Statue of Liberty and Times Square. I will return to my home country after my vacation.\n",
      "Predicted : I am applying for a tourist visa to visit the United States. I intend to stay for two weeks and visit famous landmarks such as the Statue of Liberty and Times Square.\n",
      "\n",
      "BLEU      : 0.6224\n",
      "BERTScore : 0.9774\n",
      "METEOR    : 0.7048\n",
      "ROUGE-L   : 0.7945\n",
      "TER       : 31.7073\n",
      "COMET     : 0.8781\n",
      "\n",
      "Time to 1st tok : 554.8450s\n",
      "Total inf time  : 554.8573s\n",
      "Tokens/sec      : 0.11\n",
      "RAM   : 2111.93 MB\n",
      "CPU   : 20.00 %\n",
      "Model size : 4728.20 MB\n",
      "============================================================\n",
      "\n",
      "=== Spanish → English ===\n"
     ]
    },
    {
     "name": "stderr",
     "output_type": "stream",
     "text": [
      "INFO:pytorch_lightning.utilities.rank_zero:💡 Tip: For seamless cloud uploads and versioning, try installing [litmodels](https://pypi.org/project/litmodels/) to enable LitModelCheckpoint, which syncs automatically with the Lightning model registry.\n",
      "INFO:pytorch_lightning.utilities.rank_zero:GPU available: False, used: False\n",
      "INFO:pytorch_lightning.utilities.rank_zero:TPU available: False, using: 0 TPU cores\n",
      "INFO:pytorch_lightning.utilities.rank_zero:HPU available: False, using: 0 HPUs\n"
     ]
    },
    {
     "name": "stdout",
     "output_type": "stream",
     "text": [
      "Source    : Estoy solicitando una visa de turista para visitar los Estados Unidos. Tengo la intención de quedarme dos semanas y visitar lugares famosos como la Estatua de la Libertad y Times Square. Regresaré a mi país después de mis vacaciones.\n",
      "Reference : I am applying for a tourist visa to visit the United States. I intend to stay for two weeks and visit popular landmarks like the Statue of Liberty and Times Square. I will return to my home country after my vacation.\n",
      "Predicted : I am applying for a tourist visa to visit the United States. I intend to stay two weeks and visit famous places like the Statue of Liberty and Times Square.\n",
      "\n",
      "BLEU      : 0.5700\n",
      "BERTScore : 0.9750\n",
      "METEOR    : 0.6909\n",
      "ROUGE-L   : 0.7887\n",
      "TER       : 31.7073\n",
      "COMET     : 0.8799\n",
      "\n",
      "Time to 1st tok : 515.8053s\n",
      "Total inf time  : 515.8144s\n",
      "Tokens/sec      : 0.10\n",
      "RAM   : 33.98 MB\n",
      "CPU   : -6.60 %\n",
      "Model size : 4728.20 MB\n",
      "============================================================\n",
      "\n",
      "=== French → English ===\n"
     ]
    },
    {
     "name": "stderr",
     "output_type": "stream",
     "text": [
      "INFO:pytorch_lightning.utilities.rank_zero:💡 Tip: For seamless cloud uploads and versioning, try installing [litmodels](https://pypi.org/project/litmodels/) to enable LitModelCheckpoint, which syncs automatically with the Lightning model registry.\n",
      "INFO:pytorch_lightning.utilities.rank_zero:GPU available: False, used: False\n",
      "INFO:pytorch_lightning.utilities.rank_zero:TPU available: False, using: 0 TPU cores\n",
      "INFO:pytorch_lightning.utilities.rank_zero:HPU available: False, using: 0 HPUs\n"
     ]
    },
    {
     "name": "stdout",
     "output_type": "stream",
     "text": [
      "Source    : Je demande un visa de touriste pour visiter les États-Unis. J’ai l’intention de rester deux semaines et de visiter des sites célèbres comme la Statue de la Liberté et Times Square. Je retournerai dans mon pays après mes vacances.\n",
      "Reference : I am applying for a tourist visa to visit the United States. I intend to stay for two weeks and visit popular landmarks like the Statue of Liberty and Times Square. I will return to my home country after my vacation.\n",
      "Predicted : I am applying for a tourist visa to visit the United States. I intend to stay for two weeks and visit famous sites such as the Statue of Liberty and Times Square.\n",
      "\n",
      "BLEU      : 0.6173\n",
      "BERTScore : 0.9763\n",
      "METEOR    : 0.6848\n",
      "ROUGE-L   : 0.7671\n",
      "TER       : 34.1463\n",
      "COMET     : 0.8791\n",
      "\n",
      "Time to 1st tok : 510.6969s\n",
      "Total inf time  : 510.7062s\n",
      "Tokens/sec      : 0.12\n",
      "RAM   : 18.25 MB\n",
      "CPU   : -11.10 %\n",
      "Model size : 4728.20 MB\n",
      "============================================================\n",
      "\n",
      "=== Russian → English ===\n"
     ]
    },
    {
     "name": "stderr",
     "output_type": "stream",
     "text": [
      "INFO:pytorch_lightning.utilities.rank_zero:💡 Tip: For seamless cloud uploads and versioning, try installing [litmodels](https://pypi.org/project/litmodels/) to enable LitModelCheckpoint, which syncs automatically with the Lightning model registry.\n",
      "INFO:pytorch_lightning.utilities.rank_zero:GPU available: False, used: False\n",
      "INFO:pytorch_lightning.utilities.rank_zero:TPU available: False, using: 0 TPU cores\n",
      "INFO:pytorch_lightning.utilities.rank_zero:HPU available: False, using: 0 HPUs\n"
     ]
    },
    {
     "name": "stdout",
     "output_type": "stream",
     "text": [
      "Source    : Я подаю заявку на туристическую визу для поездки в Соединенные Штаты. Я собираюсь остаться на две недели и посетить известные достопримечательности, такие как Статуя Свободы и Таймс-сквер. Я вернусь в свою страну после отпуска.\n",
      "Reference : I am applying for a tourist visa to visit the United States. I intend to stay for two weeks and visit popular landmarks like the Statue of Liberty and Times Square. I will return to my home country after my vacation.\n",
      "Predicted : I am applying for a tourist visa to travel to the United States. I am going to stay for two weeks and visit famous attractions such as the Statue of Liberty and Times Square.\n",
      "\n",
      "BLEU      : 0.5045\n",
      "BERTScore : 0.9682\n",
      "METEOR    : 0.6575\n",
      "ROUGE-L   : 0.6933\n",
      "TER       : 41.4634\n",
      "COMET     : 0.8712\n",
      "\n",
      "Time to 1st tok : 469.5246s\n",
      "Total inf time  : 469.5350s\n",
      "Tokens/sec      : 0.14\n",
      "RAM   : 18.95 MB\n",
      "CPU   : -12.70 %\n",
      "Model size : 4728.20 MB\n",
      "============================================================\n",
      "\n",
      "=== Romanian → English ===\n"
     ]
    },
    {
     "name": "stderr",
     "output_type": "stream",
     "text": [
      "INFO:pytorch_lightning.utilities.rank_zero:💡 Tip: For seamless cloud uploads and versioning, try installing [litmodels](https://pypi.org/project/litmodels/) to enable LitModelCheckpoint, which syncs automatically with the Lightning model registry.\n",
      "INFO:pytorch_lightning.utilities.rank_zero:GPU available: False, used: False\n",
      "INFO:pytorch_lightning.utilities.rank_zero:TPU available: False, using: 0 TPU cores\n",
      "INFO:pytorch_lightning.utilities.rank_zero:HPU available: False, using: 0 HPUs\n"
     ]
    },
    {
     "name": "stdout",
     "output_type": "stream",
     "text": [
      "Source    : Solicit o viză turistică pentru a vizita Statele Unite. Intenționez să stau două săptămâni și să vizitez repere populare precum Statuia Libertății și Times Square. Mă voi întoarce în țara mea după vacanță.\n",
      "Reference : I am applying for a tourist visa to visit the United States. I intend to stay for two weeks and visit popular landmarks like the Statue of Liberty and Times Square. I will return to my home country after my vacation.\n",
      "Predicted : I am applying for a tourist visa to visit the United States. I intend to stay for two weeks and visit popular landmarks such as the Statue of Liberty and Times Square. I will return to my country after the holiday.\n",
      "\n",
      "BLEU      : 0.8200\n",
      "BERTScore : 0.9902\n",
      "METEOR    : 0.9055\n",
      "ROUGE-L   : 0.9024\n",
      "TER       : 12.1951\n",
      "COMET     : 0.9271\n",
      "\n",
      "Time to 1st tok : 528.9788s\n",
      "Total inf time  : 528.9894s\n",
      "Tokens/sec      : 0.11\n",
      "RAM   : 18.32 MB\n",
      "CPU   : -11.30 %\n",
      "Model size : 4728.20 MB\n",
      "============================================================\n",
      "\n",
      "=== Bulgarian → English ===\n"
     ]
    },
    {
     "name": "stderr",
     "output_type": "stream",
     "text": [
      "INFO:pytorch_lightning.utilities.rank_zero:💡 Tip: For seamless cloud uploads and versioning, try installing [litmodels](https://pypi.org/project/litmodels/) to enable LitModelCheckpoint, which syncs automatically with the Lightning model registry.\n",
      "INFO:pytorch_lightning.utilities.rank_zero:GPU available: False, used: False\n",
      "INFO:pytorch_lightning.utilities.rank_zero:TPU available: False, using: 0 TPU cores\n",
      "INFO:pytorch_lightning.utilities.rank_zero:HPU available: False, using: 0 HPUs\n"
     ]
    },
    {
     "name": "stdout",
     "output_type": "stream",
     "text": [
      "Source    : Кандидатствам за туристическа виза за посещение на Съединените щати. Възнамерявам да остана две седмици и да посетя популярни забележителности като Статуята на свободата и Таймс Скуеър. Ще се върна в родината си след ваканцията.\n",
      "Reference : I am applying for a tourist visa to visit the United States. I intend to stay for two weeks and visit popular landmarks like the Statue of Liberty and Times Square. I will return to my home country after my vacation.\n",
      "Predicted : I am applying for a tourist visa to visit the United States. I intend to stay for two weeks and visit popular sights such as the Statue of Liberty and Times Square.\n",
      "\n",
      "BLEU      : 0.6403\n",
      "BERTScore : 0.9776\n",
      "METEOR    : 0.7088\n",
      "ROUGE-L   : 0.7945\n",
      "TER       : 31.7073\n",
      "COMET     : 0.8670\n",
      "\n",
      "Time to 1st tok : 552.0096s\n",
      "Total inf time  : 552.0238s\n",
      "Tokens/sec      : 0.12\n",
      "RAM   : 17.62 MB\n",
      "CPU   : -10.80 %\n",
      "Model size : 4728.20 MB\n",
      "============================================================\n",
      "\n",
      "=== Czech → English ===\n"
     ]
    },
    {
     "name": "stderr",
     "output_type": "stream",
     "text": [
      "INFO:pytorch_lightning.utilities.rank_zero:💡 Tip: For seamless cloud uploads and versioning, try installing [litmodels](https://pypi.org/project/litmodels/) to enable LitModelCheckpoint, which syncs automatically with the Lightning model registry.\n",
      "INFO:pytorch_lightning.utilities.rank_zero:GPU available: False, used: False\n",
      "INFO:pytorch_lightning.utilities.rank_zero:TPU available: False, using: 0 TPU cores\n",
      "INFO:pytorch_lightning.utilities.rank_zero:HPU available: False, using: 0 HPUs\n"
     ]
    },
    {
     "name": "stdout",
     "output_type": "stream",
     "text": [
      "Source    : Žádám o turistické vízum pro návštěvu Spojených států. Mám v úmyslu zůstat dva týdny a navštívit známá místa jako Sochu svobody a Times Square. Po dovolené se vrátím do své domovské země.\n",
      "Reference : I am applying for a tourist visa to visit the United States. I intend to stay for two weeks and visit popular landmarks like the Statue of Liberty and Times Square. I will return to my home country after my vacation.\n",
      "Predicted : I am applying for a tourist visa to visit the United States. I intend to stay for two weeks and visit famous places like the Statue of Liberty and Times Square.\n",
      "\n",
      "BLEU      : 0.6353\n",
      "BERTScore : 0.9769\n",
      "METEOR    : 0.7308\n",
      "ROUGE-L   : 0.8056\n",
      "TER       : 29.2683\n",
      "COMET     : 0.8814\n",
      "\n",
      "Time to 1st tok : 433.2050s\n",
      "Total inf time  : 433.2188s\n",
      "Tokens/sec      : 0.14\n",
      "RAM   : 18.80 MB\n",
      "CPU   : 1.00 %\n",
      "Model size : 4728.20 MB\n",
      "============================================================\n",
      "\n",
      "=== Danish → English ===\n"
     ]
    },
    {
     "name": "stderr",
     "output_type": "stream",
     "text": [
      "INFO:pytorch_lightning.utilities.rank_zero:💡 Tip: For seamless cloud uploads and versioning, try installing [litmodels](https://pypi.org/project/litmodels/) to enable LitModelCheckpoint, which syncs automatically with the Lightning model registry.\n",
      "INFO:pytorch_lightning.utilities.rank_zero:GPU available: False, used: False\n",
      "INFO:pytorch_lightning.utilities.rank_zero:TPU available: False, using: 0 TPU cores\n",
      "INFO:pytorch_lightning.utilities.rank_zero:HPU available: False, using: 0 HPUs\n"
     ]
    },
    {
     "name": "stdout",
     "output_type": "stream",
     "text": [
      "Source    : Jeg ansøger om et turistvisum for at besøge USA. Jeg har til hensigt at blive i to uger og besøge kendte vartegn som Frihedsgudinden og Times Square. Jeg vender tilbage til mit hjemland efter ferien.\n",
      "Reference : I am applying for a tourist visa to visit the United States. I intend to stay for two weeks and visit popular landmarks like the Statue of Liberty and Times Square. I will return to my home country after my vacation.\n",
      "Predicted : I apply for a tourist visa to visit the United States. I intend to stay for two weeks and visit famous landmarks such as the Statue of Liberty and Times Square.\n",
      "\n",
      "BLEU      : 0.5537\n",
      "BERTScore : 0.9679\n",
      "METEOR    : 0.6821\n",
      "ROUGE-L   : 0.7500\n",
      "TER       : 36.5854\n",
      "COMET     : 0.8824\n",
      "\n",
      "Time to 1st tok : 512.2086s\n",
      "Total inf time  : 512.2230s\n",
      "Tokens/sec      : 0.10\n",
      "RAM   : 17.07 MB\n",
      "CPU   : -3.30 %\n",
      "Model size : 4728.20 MB\n",
      "============================================================\n",
      "\n",
      "=== German → English ===\n"
     ]
    },
    {
     "name": "stderr",
     "output_type": "stream",
     "text": [
      "INFO:pytorch_lightning.utilities.rank_zero:💡 Tip: For seamless cloud uploads and versioning, try installing [litmodels](https://pypi.org/project/litmodels/) to enable LitModelCheckpoint, which syncs automatically with the Lightning model registry.\n",
      "INFO:pytorch_lightning.utilities.rank_zero:GPU available: False, used: False\n",
      "INFO:pytorch_lightning.utilities.rank_zero:TPU available: False, using: 0 TPU cores\n",
      "INFO:pytorch_lightning.utilities.rank_zero:HPU available: False, using: 0 HPUs\n"
     ]
    },
    {
     "name": "stdout",
     "output_type": "stream",
     "text": [
      "Source    : Ich beantrage ein Touristenvisum, um die Vereinigten Staaten zu besuchen. Ich beabsichtige, zwei Wochen zu bleiben und bekannte Sehenswürdigkeiten wie die Freiheitsstatue und den Times Square zu besuchen. Nach meinem Urlaub kehre ich in mein Heimatland zurück.\n",
      "Reference : I am applying for a tourist visa to visit the United States. I intend to stay for two weeks and visit popular landmarks like the Statue of Liberty and Times Square. I will return to my home country after my vacation.\n",
      "Predicted : I apply for a tourist visa to visit the United States. I intend to stay for two weeks and visit well-known sights such as the Statue of Liberty and Times Square.\n",
      "\n",
      "BLEU      : 0.5489\n",
      "BERTScore : 0.9663\n",
      "METEOR    : 0.6621\n",
      "ROUGE-L   : 0.7123\n",
      "TER       : 39.0244\n",
      "COMET     : 0.8675\n",
      "\n",
      "Time to 1st tok : 469.0941s\n",
      "Total inf time  : 469.1039s\n",
      "Tokens/sec      : 0.14\n",
      "RAM   : 18.19 MB\n",
      "CPU   : 0.90 %\n",
      "Model size : 4728.20 MB\n",
      "============================================================\n",
      "\n",
      "=== Estonian → English ===\n"
     ]
    },
    {
     "name": "stderr",
     "output_type": "stream",
     "text": [
      "INFO:pytorch_lightning.utilities.rank_zero:💡 Tip: For seamless cloud uploads and versioning, try installing [litmodels](https://pypi.org/project/litmodels/) to enable LitModelCheckpoint, which syncs automatically with the Lightning model registry.\n",
      "INFO:pytorch_lightning.utilities.rank_zero:GPU available: False, used: False\n",
      "INFO:pytorch_lightning.utilities.rank_zero:TPU available: False, using: 0 TPU cores\n",
      "INFO:pytorch_lightning.utilities.rank_zero:HPU available: False, using: 0 HPUs\n"
     ]
    },
    {
     "name": "stdout",
     "output_type": "stream",
     "text": [
      "Source    : Taotlen turismiviisat Ameerika Ühendriikide külastamiseks. Kavatsen jääda kaheks nädalaks ja külastada kuulsaid vaatamisväärsusi nagu Vabadussammas ja Times Square. Pärast puhkust naasen oma koduriiki.\n",
      "Reference : I am applying for a tourist visa to visit the United States. I intend to stay for two weeks and visit popular landmarks like the Statue of Liberty and Times Square. I will return to my home country after my vacation.\n",
      "Predicted : I apply for a tourist visa to visit the United States. I plan to stay for two weeks and visit famous sights such as the Statue of Liberty and Times Square. After the holiday I will return to my home country.\n",
      "\n",
      "BLEU      : 0.6359\n",
      "BERTScore : 0.9786\n",
      "METEOR    : 0.8266\n",
      "ROUGE-L   : 0.7805\n",
      "TER       : 31.7073\n",
      "COMET     : 0.9179\n",
      "\n",
      "Time to 1st tok : 562.8894s\n",
      "Total inf time  : 562.9028s\n",
      "Tokens/sec      : 0.11\n",
      "RAM   : 17.24 MB\n",
      "CPU   : 1.80 %\n",
      "Model size : 4728.20 MB\n",
      "============================================================\n"
     ]
    }
   ],
   "source": [
    "# Install all required libraries\n",
    "!pip install unbabel-comet\n",
    "!pip install -q transformers accelerate evaluate bert_score rouge_score sacremoses nltk psutil pandas sacrebleu sentencepiece\n",
    "\n",
    "from huggingface_hub import login\n",
    "\n",
    "# Paste your token here\n",
    "login(token='hugging face token')\n",
    "\n",
    "# Download NLTK data needed for BLEU and ROUGE\n",
    "import nltk\n",
    "nltk.download('punkt')\n",
    "\n",
    "# Step 4: Imports\n",
    "import time\n",
    "import torch\n",
    "import psutil\n",
    "import logging\n",
    "from transformers import M2M100Tokenizer, M2M100ForConditionalGeneration\n",
    "import evaluate\n",
    "\n",
    "logging.getLogger(\"transformers\").setLevel(logging.ERROR)\n",
    "device = torch.device(\"cuda\" if torch.cuda.is_available() else \"cpu\")\n",
    "print(f\"Using device: {device}\")\n",
    "\n",
    "# Step 5: Paragraph dataset\n",
    "paragraph_data = [\n",
    "    {\"lang\": \"ar\", \"name\": \"Arabic\", \"src\": \"أنا أتقدم للحصول على تأشيرة سياحية لزيارة الولايات المتحدة. أنوي البقاء لمدة أسبوعين وزيارة معالم مشهورة مثل تمثال الحرية وساحة التايمز. سأعود إلى بلدي بعد انتهاء عطلتي.\", \"ref\": \"I am applying for a tourist visa to visit the United States. I intend to stay for two weeks and visit popular landmarks like the Statue of Liberty and Times Square. I will return to my home country after my vacation.\"},\n",
    "    {\"lang\": \"es\", \"name\": \"Spanish\", \"src\": \"Estoy solicitando una visa de turista para visitar los Estados Unidos. Tengo la intención de quedarme dos semanas y visitar lugares famosos como la Estatua de la Libertad y Times Square. Regresaré a mi país después de mis vacaciones.\", \"ref\": \"I am applying for a tourist visa to visit the United States. I intend to stay for two weeks and visit popular landmarks like the Statue of Liberty and Times Square. I will return to my home country after my vacation.\"},\n",
    "    {\"lang\": \"fr\", \"name\": \"French\", \"src\": \"Je demande un visa de touriste pour visiter les États-Unis. J’ai l’intention de rester deux semaines et de visiter des sites célèbres comme la Statue de la Liberté et Times Square. Je retournerai dans mon pays après mes vacances.\", \"ref\": \"I am applying for a tourist visa to visit the United States. I intend to stay for two weeks and visit popular landmarks like the Statue of Liberty and Times Square. I will return to my home country after my vacation.\"},\n",
    "    {\"lang\": \"ru\", \"name\": \"Russian\", \"src\": \"Я подаю заявку на туристическую визу для поездки в Соединенные Штаты. Я собираюсь остаться на две недели и посетить известные достопримечательности, такие как Статуя Свободы и Таймс-сквер. Я вернусь в свою страну после отпуска.\", \"ref\": \"I am applying for a tourist visa to visit the United States. I intend to stay for two weeks and visit popular landmarks like the Statue of Liberty and Times Square. I will return to my home country after my vacation.\"},\n",
    "    {\"lang\": \"ro\", \"name\": \"Romanian\", \"src\": \"Solicit o viză turistică pentru a vizita Statele Unite. Intenționez să stau două săptămâni și să vizitez repere populare precum Statuia Libertății și Times Square. Mă voi întoarce în țara mea după vacanță.\", \"ref\": \"I am applying for a tourist visa to visit the United States. I intend to stay for two weeks and visit popular landmarks like the Statue of Liberty and Times Square. I will return to my home country after my vacation.\"},\n",
    "    {\"lang\": \"bg\", \"name\": \"Bulgarian\", \"src\": \"Кандидатствам за туристическа виза за посещение на Съединените щати. Възнамерявам да остана две седмици и да посетя популярни забележителности като Статуята на свободата и Таймс Скуеър. Ще се върна в родината си след ваканцията.\", \"ref\": \"I am applying for a tourist visa to visit the United States. I intend to stay for two weeks and visit popular landmarks like the Statue of Liberty and Times Square. I will return to my home country after my vacation.\"},\n",
    "    {\"lang\": \"cs\", \"name\": \"Czech\", \"src\": \"Žádám o turistické vízum pro návštěvu Spojených států. Mám v úmyslu zůstat dva týdny a navštívit známá místa jako Sochu svobody a Times Square. Po dovolené se vrátím do své domovské země.\", \"ref\": \"I am applying for a tourist visa to visit the United States. I intend to stay for two weeks and visit popular landmarks like the Statue of Liberty and Times Square. I will return to my home country after my vacation.\"},\n",
    "    {\"lang\": \"da\", \"name\": \"Danish\", \"src\": \"Jeg ansøger om et turistvisum for at besøge USA. Jeg har til hensigt at blive i to uger og besøge kendte vartegn som Frihedsgudinden og Times Square. Jeg vender tilbage til mit hjemland efter ferien.\", \"ref\": \"I am applying for a tourist visa to visit the United States. I intend to stay for two weeks and visit popular landmarks like the Statue of Liberty and Times Square. I will return to my home country after my vacation.\"},\n",
    "    {\"lang\": \"de\", \"name\": \"German\", \"src\": \"Ich beantrage ein Touristenvisum, um die Vereinigten Staaten zu besuchen. Ich beabsichtige, zwei Wochen zu bleiben und bekannte Sehenswürdigkeiten wie die Freiheitsstatue und den Times Square zu besuchen. Nach meinem Urlaub kehre ich in mein Heimatland zurück.\", \"ref\": \"I am applying for a tourist visa to visit the United States. I intend to stay for two weeks and visit popular landmarks like the Statue of Liberty and Times Square. I will return to my home country after my vacation.\"},\n",
    "    {\"lang\": \"et\", \"name\": \"Estonian\", \"src\": \"Taotlen turismiviisat Ameerika Ühendriikide külastamiseks. Kavatsen jääda kaheks nädalaks ja külastada kuulsaid vaatamisväärsusi nagu Vabadussammas ja Times Square. Pärast puhkust naasen oma koduriiki.\", \"ref\": \"I am applying for a tourist visa to visit the United States. I intend to stay for two weeks and visit popular landmarks like the Statue of Liberty and Times Square. I will return to my home country after my vacation.\"},\n",
    "]\n",
    "\n",
    "\n",
    "# Step 6: Load model and tokenizer\n",
    "model_name = \"facebook/m2m100_1.2B\"\n",
    "tokenizer = M2M100Tokenizer.from_pretrained(model_name)\n",
    "model = M2M100ForConditionalGeneration.from_pretrained(model_name).to(device)\n",
    "model.eval()\n",
    "\n",
    "# Step 7: Load evaluation modules\n",
    "bleu_mod      = evaluate.load(\"bleu\")\n",
    "bertscore_mod = evaluate.load(\"bertscore\")\n",
    "meteor_mod    = evaluate.load(\"meteor\")\n",
    "rouge_mod     = evaluate.load(\"rouge\")\n",
    "ter_mod       = evaluate.load(\"ter\")\n",
    "comet_mod     = evaluate.load(\"comet\")\n",
    "\n",
    "# Step 8: System monitor helper\n",
    "def measure_system():\n",
    "    proc = psutil.Process()\n",
    "    return proc.memory_info().rss / 1024**2, psutil.cpu_percent(interval=None)\n",
    "\n",
    "# Step 9: Translate with M2M100\n",
    "def translate_m2m100(text: str, src_lang: str, tgt_lang: str = \"en\"):\n",
    "    tokenizer.src_lang = src_lang\n",
    "    encoded = tokenizer(text, return_tensors=\"pt\").to(device)\n",
    "    start = time.perf_counter()\n",
    "    generated_tokens = model.generate(\n",
    "        **encoded,\n",
    "        forced_bos_token_id=tokenizer.get_lang_id(tgt_lang)\n",
    "    )\n",
    "    mid = time.perf_counter()\n",
    "    pred = tokenizer.batch_decode(generated_tokens, skip_special_tokens=True)[0]\n",
    "    end = time.perf_counter()\n",
    "    return pred, mid - start, end - start, len(tokenizer.tokenize(text))\n",
    "\n",
    "# Step 10: Evaluate all\n",
    "for item in paragraph_data:\n",
    "    src_lang, name, src, ref = item[\"lang\"], item[\"name\"], item[\"src\"], item[\"ref\"]\n",
    "    print(f\"\\n=== {name} → English ===\")\n",
    "\n",
    "    ram_before, cpu_before = measure_system()\n",
    "    pred, t_first, t_total, token_count = translate_m2m100(src, src_lang)\n",
    "    ram_after, cpu_after = measure_system()\n",
    "\n",
    "    # Accuracy metrics\n",
    "    bleu_score   = bleu_mod.compute(predictions=[pred], references=[[ref]])[\"bleu\"]\n",
    "    bert_res     = bertscore_mod.compute(predictions=[pred], references=[ref], lang=\"en\")\n",
    "    meteor_score = meteor_mod.compute(predictions=[pred], references=[[ref]])[\"meteor\"]\n",
    "    rouge_score  = rouge_mod.compute(predictions=[pred], references=[ref])[\"rougeL\"]\n",
    "    ter_score    = ter_mod.compute(predictions=[pred], references=[[ref]])[\"score\"]\n",
    "    comet_res    = comet_mod.compute(sources=[src], predictions=[pred], references=[ref])\n",
    "    comet_score  = next(v for v in comet_res.values() if isinstance(v, (int, float)))\n",
    "\n",
    "    # Output\n",
    "    print(f\"Source    : {src}\")\n",
    "    print(f\"Reference : {ref}\")\n",
    "    print(f\"Predicted : {pred}\\n\")\n",
    "    print(f\"BLEU      : {bleu_score:.4f}\")\n",
    "    print(f\"BERTScore : {bert_res['f1'][0]:.4f}\")\n",
    "    print(f\"METEOR    : {meteor_score:.4f}\")\n",
    "    print(f\"ROUGE-L   : {rouge_score:.4f}\")\n",
    "    print(f\"TER       : {ter_score:.4f}\")\n",
    "    print(f\"COMET     : {comet_score:.4f}\\n\")\n",
    "    print(f\"Time to 1st tok : {t_first:.4f}s\")\n",
    "    print(f\"Total inf time  : {t_total:.4f}s\")\n",
    "    print(f\"Tokens/sec      : {token_count / t_total:.2f}\")\n",
    "    if device.type == \"cuda\":\n",
    "        print(f\"VRAM used       : {torch.cuda.max_memory_allocated() / 1024**2:.2f} MB\")\n",
    "    print(f\"RAM   : {ram_after - ram_before:.2f} MB\")\n",
    "    print(f\"CPU   : {cpu_after - cpu_before:.2f} %\")\n",
    "    print(f\"Model size : {sum(p.numel() for p in model.parameters()) * 4 / 1024 ** 2:.2f} MB\")\n",
    "    print(\"=\" * 60)\n"
   ]
  }
 ],
 "metadata": {
  "colab": {
   "provenance": []
  },
  "kernelspec": {
   "display_name": "Python 3",
   "name": "python3"
  },
  "language_info": {
   "name": "python"
  }
 },
 "nbformat": 4,
 "nbformat_minor": 0
}
