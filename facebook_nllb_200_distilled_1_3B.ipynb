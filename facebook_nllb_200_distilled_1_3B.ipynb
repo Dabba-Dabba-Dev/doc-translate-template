{
  "cells": [
    {
      "cell_type": "markdown",
      "metadata": {
        "id": "view-in-github",
        "colab_type": "text"
      },
      "source": [
        "<a href=\"https://colab.research.google.com/github/eya2105/doc-translate-template/blob/eya/facebook_nllb_200_distilled_1_3B.ipynb\" target=\"_parent\"><img src=\"https://colab.research.google.com/assets/colab-badge.svg\" alt=\"Open In Colab\"/></a>"
      ]
    },
    {
      "cell_type": "code",
      "execution_count": 3,
      "metadata": {
        "colab": {
          "base_uri": "https://localhost:8080/",
          "height": 1000,
          "referenced_widgets": [
            "9470ae9b360341fa84f1a28e755d72c9",
            "dfe2a9b4fa9243a39bf0c31af4a8a300",
            "f38835a9205b46bd8d984f985eba1081",
            "73c34992f160480eaec066b65d4484e0",
            "82e6de86dd024c99b1f60ea8032b2095",
            "4624fc3616a44b90bb1ef1db72efb411",
            "347eddf37c85481481aa6b5dce6ebc39",
            "d26c0d50c42a4d8fbe80f2fd62797bec",
            "f1fc4ed8fe1140349094831596a37665",
            "a4a69bd919fb4a848c7645dfc6f1974f",
            "9d0d60c0b20343698079cb0bf26d98cb",
            "8668356e516c4a22a8de88ade6602554",
            "c2c147c114f94d45b8360709c149340b",
            "b8d86a0e786b45059386d9a55ccede93",
            "cb30dadaaa874853ad205e28ec03f0a8",
            "f1b9343255a540d7a49cec2bee809a66",
            "9ab8d00de098432f9d2854edd542d6b5",
            "799f10b42ddf4b4c83dd22d219adcc5e",
            "504a8ab1c75d4f0391de6dab3b2c8f10",
            "cbb6053b5ed048d4b874757fb14368a3",
            "7fdf4552256f4a1bb99f90ef76a425d1",
            "8b385d6f14b8493fa54bc0551fab2ecd",
            "45e073f1a8ad493d8418317ff62bc996",
            "e84a95b1fd484a88b3ec2beaa6be6518",
            "3a6a263e9c5841fabe76e9af7e12dc63",
            "a7d56fddffc14d15beb9f5e922aabd86",
            "95b4a234af4d4888bb00b745066e03bc",
            "624788c2872a40c9845bc88dcd7669dd",
            "dc3758170c554dcfbaed000c0cc9f860",
            "66844a74bf004bfdbe2d6f212abb8d70",
            "0874a13670ca4f64b798dc89f427ebcd",
            "e6207396f58e42d3a5ea47fce32c08bd",
            "1be1e034d79045169875828718971284",
            "3ade689f4c9f47cda08d8e4982ba4eaf",
            "8301cacb45664a1694eb5e9397c87be7",
            "23e98e7ce6fc47c29eea767f18d021d8",
            "642df57c5c4744ad8a412c6b58352141",
            "cda23adbdcee46e391d846664883631a",
            "69f198ae1ff54aa7a9f0430fe315246c",
            "94764165ae414732a5dc6616d9b02bc7",
            "c0f2c356af174bafa6d5e00f056d1d4d",
            "3ff7d5102ce24bd7a11b5f7038ab3d69",
            "0e9e913784b2422aaf534bafcb5010cc",
            "a4d6f9a3f54c4498a4024c8a84384ecc",
            "150ad8d221d04bf094bb538fa6ff1da3",
            "2f99beeb7b124f8f98d727d039a7fa23",
            "d54c6ebfddd5480ea23c256d829c682c",
            "20461ee48c8f43afb5282cb80a30fe2f",
            "4e84a48312c84286bbf8791ea1bf3f8a",
            "1a7f899836b74477815a584e526faf0b",
            "fb2834167dd746e08557d1630b23f1db",
            "a7df6ed470b14505948d0cf6fe073dd2",
            "424b36d00981488dbfa8c22334200c25",
            "f3fdb53a731240f0af20d2605f58dac3",
            "76bcad917a8346e6a17926d59ecd643f",
            "1f31bee8ded84b6b854382172d94baaa",
            "641652cccb3b442ea17dabdab7a92e00",
            "b74e56c246e447d18fd7b6b161d2f496",
            "8e4f0af2cf094ce28e6c75065d280dfd",
            "b2dbc08f026e42a99c482cfdf8509496",
            "eed611da969840e69abfb0b7674fad64",
            "0165ecaaadb340a8ad5c257ceb30385f",
            "d899cfb8d83849bcb1bf30be75fb5b04",
            "35b07a56680d403ea4427ee3b606da2f",
            "b5935fe24f45438ba32b37dbd9db9fdf",
            "1c56e4ec1b1245929e13017d0c94b0ab",
            "a88678b3726f4b90be12a1a1bd3b4eb0",
            "62987096f76f493da3a92f2eb08e5059",
            "4577303d97a44d7c8bcab806dab3fb48",
            "5dfbc65747fe4ce28862c6a69a470c33",
            "43cc274b9e0d4bf0b4d3db034b848087",
            "5bd0c403051343c7a37aa4c6c8cd6ebd",
            "27bafe9f7bdf4c8aa6e33f85403bebbe",
            "76a33809b8264644ac2831639f41aa5e",
            "ed0c96ae1e394329abf1e69fd7c13f2a",
            "2c6993b5e7a64abb80c09d884497b089",
            "a2736b9966fe4f339b440b661717d118"
          ]
        },
        "id": "o3QLr0G3qU7A",
        "outputId": "549caf8e-8108-4fce-8b98-05ffa8999708"
      },
      "outputs": [
        {
          "metadata": {
            "tags": null
          },
          "name": "stderr",
          "output_type": "stream",
          "text": [
            "[nltk_data] Downloading package punkt to /root/nltk_data...\n",
            "[nltk_data]   Package punkt is already up-to-date!\n"
          ]
        },
        {
          "metadata": {
            "tags": null
          },
          "name": "stdout",
          "output_type": "stream",
          "text": [
            "Using device: cpu\n"
          ]
        },
        {
          "metadata": {
            "tags": null
          },
          "name": "stderr",
          "output_type": "stream",
          "text": [
            "[nltk_data] Downloading package wordnet to /root/nltk_data...\n",
            "[nltk_data]   Package wordnet is already up-to-date!\n",
            "[nltk_data] Downloading package punkt_tab to /root/nltk_data...\n",
            "[nltk_data]   Package punkt_tab is already up-to-date!\n",
            "[nltk_data] Downloading package omw-1.4 to /root/nltk_data...\n",
            "[nltk_data]   Package omw-1.4 is already up-to-date!\n"
          ]
        },
        {
          "data": {
            "application/vnd.jupyter.widget-view+json": {
              "model_id": "9470ae9b360341fa84f1a28e755d72c9",
              "version_major": 2,
              "version_minor": 0
            },
            "text/plain": [
              "Fetching 5 files:   0%|          | 0/5 [00:00<?, ?it/s]"
            ]
          },
          "metadata": {},
          "output_type": "display_data"
        },
        {
          "metadata": {
            "tags": null
          },
          "name": "stderr",
          "output_type": "stream",
          "text": [
            "INFO:pytorch_lightning.utilities.migration.utils:Lightning automatically upgraded your loaded checkpoint from v1.8.3.post1 to v2.5.2. To apply the upgrade to your files permanently, run `python -m pytorch_lightning.utilities.upgrade_checkpoint ../root/.cache/huggingface/hub/models--Unbabel--wmt22-comet-da/snapshots/2760a223ac957f30acfb18c8aa649b01cf1d75f2/checkpoints/model.ckpt`\n"
          ]
        },
        {
          "metadata": {
            "tags": null
          },
          "name": "stdout",
          "output_type": "stream",
          "text": [
            "\n",
            "=== Arabic → English ===\n"
          ]
        },
        {
          "data": {
            "application/vnd.jupyter.widget-view+json": {
              "model_id": "8668356e516c4a22a8de88ade6602554",
              "version_major": 2,
              "version_minor": 0
            },
            "text/plain": [
              "tokenizer_config.json:   0%|          | 0.00/25.0 [00:00<?, ?B/s]"
            ]
          },
          "metadata": {},
          "output_type": "display_data"
        },
        {
          "data": {
            "application/vnd.jupyter.widget-view+json": {
              "model_id": "45e073f1a8ad493d8418317ff62bc996",
              "version_major": 2,
              "version_minor": 0
            },
            "text/plain": [
              "config.json:   0%|          | 0.00/482 [00:00<?, ?B/s]"
            ]
          },
          "metadata": {},
          "output_type": "display_data"
        },
        {
          "data": {
            "application/vnd.jupyter.widget-view+json": {
              "model_id": "3ade689f4c9f47cda08d8e4982ba4eaf",
              "version_major": 2,
              "version_minor": 0
            },
            "text/plain": [
              "vocab.json:   0%|          | 0.00/899k [00:00<?, ?B/s]"
            ]
          },
          "metadata": {},
          "output_type": "display_data"
        },
        {
          "data": {
            "application/vnd.jupyter.widget-view+json": {
              "model_id": "150ad8d221d04bf094bb538fa6ff1da3",
              "version_major": 2,
              "version_minor": 0
            },
            "text/plain": [
              "merges.txt:   0%|          | 0.00/456k [00:00<?, ?B/s]"
            ]
          },
          "metadata": {},
          "output_type": "display_data"
        },
        {
          "data": {
            "application/vnd.jupyter.widget-view+json": {
              "model_id": "1f31bee8ded84b6b854382172d94baaa",
              "version_major": 2,
              "version_minor": 0
            },
            "text/plain": [
              "tokenizer.json:   0%|          | 0.00/1.36M [00:00<?, ?B/s]"
            ]
          },
          "metadata": {},
          "output_type": "display_data"
        },
        {
          "data": {
            "application/vnd.jupyter.widget-view+json": {
              "model_id": "a88678b3726f4b90be12a1a1bd3b4eb0",
              "version_major": 2,
              "version_minor": 0
            },
            "text/plain": [
              "model.safetensors:   0%|          | 0.00/1.42G [00:00<?, ?B/s]"
            ]
          },
          "metadata": {},
          "output_type": "display_data"
        },
        {
          "metadata": {
            "tags": null
          },
          "name": "stderr",
          "output_type": "stream",
          "text": [
            "INFO:pytorch_lightning.utilities.rank_zero:💡 Tip: For seamless cloud uploads and versioning, try installing [litmodels](https://pypi.org/project/litmodels/) to enable LitModelCheckpoint, which syncs automatically with the Lightning model registry.\n",
            "INFO:pytorch_lightning.utilities.rank_zero:GPU available: False, used: False\n",
            "INFO:pytorch_lightning.utilities.rank_zero:TPU available: False, using: 0 TPU cores\n",
            "INFO:pytorch_lightning.utilities.rank_zero:HPU available: False, using: 0 HPUs\n"
          ]
        },
        {
          "metadata": {
            "tags": null
          },
          "name": "stdout",
          "output_type": "stream",
          "text": [
            "Source    : أنا أتقدم للحصول على تأشيرة سياحية لزيارة الولايات المتحدة. أنوي البقاء لمدة أسبوعين وزيارة معالم مشهورة مثل تمثال الحرية وساحة التايمز. سأعود إلى بلدي بعد انتهاء عطلتي.\n",
            "Reference : I am applying for a tourist visa to visit the United States. I intend to stay for two weeks and visit popular landmarks like the Statue of Liberty and Times Square. I will return to my home country after my vacation.\n",
            "Predicted : I am applying for a tourist visa to visit the United States. I intend to stay for two weeks and visit famous landmarks such as the Statue of Liberty and Times Square. I will return to my home country after my vacation is over.\n",
            "\n",
            "BLEU      : 0.8219\n",
            "BERTScore : 0.9925\n",
            "METEOR    : 0.9477\n",
            "ROUGE-L   : 0.9176\n",
            "TER       : 14.6341\n",
            "COMET     : 0.9246\n",
            "\n",
            "Time to 1st tok : 944.9522s\n",
            "Total inf time  : 944.9783s\n",
            "Tokens/sec      : 0.06\n",
            "RAM   : 1922.51 MB\n",
            "CPU   : 9.10 %\n",
            "Model size : 5228.57 MB\n",
            "============================================================\n",
            "\n",
            "=== Spanish → English ===\n"
          ]
        },
        {
          "metadata": {
            "tags": null
          },
          "name": "stderr",
          "output_type": "stream",
          "text": [
            "INFO:pytorch_lightning.utilities.rank_zero:💡 Tip: For seamless cloud uploads and versioning, try installing [litmodels](https://pypi.org/project/litmodels/) to enable LitModelCheckpoint, which syncs automatically with the Lightning model registry.\n",
            "INFO:pytorch_lightning.utilities.rank_zero:GPU available: False, used: False\n",
            "INFO:pytorch_lightning.utilities.rank_zero:TPU available: False, using: 0 TPU cores\n",
            "INFO:pytorch_lightning.utilities.rank_zero:HPU available: False, using: 0 HPUs\n"
          ]
        },
        {
          "metadata": {
            "tags": null
          },
          "name": "stdout",
          "output_type": "stream",
          "text": [
            "Source    : Estoy solicitando una visa de turista para visitar los Estados Unidos. Tengo la intención de quedarme dos semanas y visitar lugares famosos como la Estatua de la Libertad y Times Square. Regresaré a mi país después de mis vacaciones.\n",
            "Reference : I am applying for a tourist visa to visit the United States. I intend to stay for two weeks and visit popular landmarks like the Statue of Liberty and Times Square. I will return to my home country after my vacation.\n",
            "Predicted : I am applying for a tourist visa to visit the United States. I intend to stay two weeks and visit famous places like the Statue of Liberty and Times Square. I will return to my country after my vacation.\n",
            "\n",
            "BLEU      : 0.7938\n",
            "BERTScore : 0.9926\n",
            "METEOR    : 0.9337\n",
            "ROUGE-L   : 0.9250\n",
            "TER       : 9.7561\n",
            "COMET     : 0.9285\n",
            "\n",
            "Time to 1st tok : 1013.2527s\n",
            "Total inf time  : 1013.2578s\n",
            "Tokens/sec      : 0.05\n",
            "RAM   : 1593.25 MB\n",
            "CPU   : 9.80 %\n",
            "Model size : 5228.57 MB\n",
            "============================================================\n",
            "\n",
            "=== French → English ===\n"
          ]
        },
        {
          "metadata": {
            "tags": null
          },
          "name": "stderr",
          "output_type": "stream",
          "text": [
            "INFO:pytorch_lightning.utilities.rank_zero:💡 Tip: For seamless cloud uploads and versioning, try installing [litmodels](https://pypi.org/project/litmodels/) to enable LitModelCheckpoint, which syncs automatically with the Lightning model registry.\n",
            "INFO:pytorch_lightning.utilities.rank_zero:GPU available: False, used: False\n",
            "INFO:pytorch_lightning.utilities.rank_zero:TPU available: False, using: 0 TPU cores\n",
            "INFO:pytorch_lightning.utilities.rank_zero:HPU available: False, using: 0 HPUs\n"
          ]
        },
        {
          "metadata": {
            "tags": null
          },
          "name": "stdout",
          "output_type": "stream",
          "text": [
            "Source    : Je demande un visa de touriste pour visiter les États-Unis. J’ai l’intention de rester deux semaines et de visiter des sites célèbres comme la Statue de la Liberté et Times Square. Je retournerai dans mon pays après mes vacances.\n",
            "Reference : I am applying for a tourist visa to visit the United States. I intend to stay for two weeks and visit popular landmarks like the Statue of Liberty and Times Square. I will return to my home country after my vacation.\n",
            "Predicted : I'm applying for a tourist visa to visit the United States. I intend to stay two weeks and visit famous sites like the Statue of Liberty and Times Square. I'll return to my country after my vacation.\n",
            "\n",
            "BLEU      : 0.6569\n",
            "BERTScore : 0.9912\n",
            "METEOR    : 0.8635\n",
            "ROUGE-L   : 0.8750\n",
            "TER       : 19.5122\n",
            "COMET     : 0.9208\n",
            "\n",
            "Time to 1st tok : 1051.9009s\n",
            "Total inf time  : 1051.9055s\n",
            "Tokens/sec      : 0.06\n",
            "RAM   : 33.17 MB\n",
            "CPU   : -19.80 %\n",
            "Model size : 5228.57 MB\n",
            "============================================================\n",
            "\n",
            "=== Russian → English ===\n"
          ]
        },
        {
          "metadata": {
            "tags": null
          },
          "name": "stderr",
          "output_type": "stream",
          "text": [
            "INFO:pytorch_lightning.utilities.rank_zero:💡 Tip: For seamless cloud uploads and versioning, try installing [litmodels](https://pypi.org/project/litmodels/) to enable LitModelCheckpoint, which syncs automatically with the Lightning model registry.\n",
            "INFO:pytorch_lightning.utilities.rank_zero:GPU available: False, used: False\n",
            "INFO:pytorch_lightning.utilities.rank_zero:TPU available: False, using: 0 TPU cores\n",
            "INFO:pytorch_lightning.utilities.rank_zero:HPU available: False, using: 0 HPUs\n"
          ]
        },
        {
          "metadata": {
            "tags": null
          },
          "name": "stdout",
          "output_type": "stream",
          "text": [
            "Source    : Я подаю заявку на туристическую визу для поездки в Соединенные Штаты. Я собираюсь остаться на две недели и посетить известные достопримечательности, такие как Статуя Свободы и Таймс-сквер. Я вернусь в свою страну после отпуска.\n",
            "Reference : I am applying for a tourist visa to visit the United States. I intend to stay for two weeks and visit popular landmarks like the Statue of Liberty and Times Square. I will return to my home country after my vacation.\n",
            "Predicted : I'm applying for a tourist visa to travel to the United States. I'm going to stay for two weeks and visit famous sights like the Statue of Liberty and Times Square. I'll return to my country after my vacation.\n",
            "\n",
            "BLEU      : 0.5667\n",
            "BERTScore : 0.9846\n",
            "METEOR    : 0.8348\n",
            "ROUGE-L   : 0.8193\n",
            "TER       : 26.8293\n",
            "COMET     : 0.8987\n",
            "\n",
            "Time to 1st tok : 1176.3661s\n",
            "Total inf time  : 1176.3700s\n",
            "Tokens/sec      : 0.06\n",
            "RAM   : 34.95 MB\n",
            "CPU   : -5.40 %\n",
            "Model size : 5228.57 MB\n",
            "============================================================\n",
            "\n",
            "=== Romanian → English ===\n"
          ]
        },
        {
          "metadata": {
            "tags": null
          },
          "name": "stderr",
          "output_type": "stream",
          "text": [
            "INFO:pytorch_lightning.utilities.rank_zero:💡 Tip: For seamless cloud uploads and versioning, try installing [litmodels](https://pypi.org/project/litmodels/) to enable LitModelCheckpoint, which syncs automatically with the Lightning model registry.\n",
            "INFO:pytorch_lightning.utilities.rank_zero:GPU available: False, used: False\n",
            "INFO:pytorch_lightning.utilities.rank_zero:TPU available: False, using: 0 TPU cores\n",
            "INFO:pytorch_lightning.utilities.rank_zero:HPU available: False, using: 0 HPUs\n"
          ]
        },
        {
          "metadata": {
            "tags": null
          },
          "name": "stdout",
          "output_type": "stream",
          "text": [
            "Source    : Solicit o viză turistică pentru a vizita Statele Unite. Intenționez să stau două săptămâni și să vizitez repere populare precum Statuia Libertății și Times Square. Mă voi întoarce în țara mea după vacanță.\n",
            "Reference : I am applying for a tourist visa to visit the United States. I intend to stay for two weeks and visit popular landmarks like the Statue of Liberty and Times Square. I will return to my home country after my vacation.\n",
            "Predicted : I'm applying for a tourist visa to visit the United States. I plan to stay for two weeks and visit popular landmarks like the Statue of Liberty and Times Square. I'll return to my country after my vacation.\n",
            "\n",
            "BLEU      : 0.7458\n",
            "BERTScore : 0.9948\n",
            "METEOR    : 0.9103\n",
            "ROUGE-L   : 0.9136\n",
            "TER       : 14.6341\n",
            "COMET     : 0.9283\n",
            "\n",
            "Time to 1st tok : 1099.0626s\n",
            "Total inf time  : 1099.0672s\n",
            "Tokens/sec      : 0.05\n",
            "RAM   : 33.75 MB\n",
            "CPU   : -10.10 %\n",
            "Model size : 5228.57 MB\n",
            "============================================================\n",
            "\n",
            "=== Bulgarian → English ===\n"
          ]
        },
        {
          "metadata": {
            "tags": null
          },
          "name": "stderr",
          "output_type": "stream",
          "text": [
            "INFO:pytorch_lightning.utilities.rank_zero:💡 Tip: For seamless cloud uploads and versioning, try installing [litmodels](https://pypi.org/project/litmodels/) to enable LitModelCheckpoint, which syncs automatically with the Lightning model registry.\n",
            "INFO:pytorch_lightning.utilities.rank_zero:GPU available: False, used: False\n",
            "INFO:pytorch_lightning.utilities.rank_zero:TPU available: False, using: 0 TPU cores\n",
            "INFO:pytorch_lightning.utilities.rank_zero:HPU available: False, using: 0 HPUs\n"
          ]
        },
        {
          "metadata": {
            "tags": null
          },
          "name": "stdout",
          "output_type": "stream",
          "text": [
            "Source    : Кандидатствам за туристическа виза за посещение на Съединените щати. Възнамерявам да остана две седмици и да посетя популярни забележителности като Статуята на свободата и Таймс Скуеър. Ще се върна в родината си след ваканцията.\n",
            "Reference : I am applying for a tourist visa to visit the United States. I intend to stay for two weeks and visit popular landmarks like the Statue of Liberty and Times Square. I will return to my home country after my vacation.\n",
            "Predicted : I'm applying for a tourist visa to visit the United States, and I intend to stay for two weeks and visit popular landmarks like the Statue of Liberty and Times Square, returning to my homeland after my vacation.\n",
            "\n",
            "BLEU      : 0.6816\n",
            "BERTScore : 0.9853\n",
            "METEOR    : 0.8429\n",
            "ROUGE-L   : 0.8750\n",
            "TER       : 24.3902\n",
            "COMET     : 0.9003\n",
            "\n",
            "Time to 1st tok : 1101.2682s\n",
            "Total inf time  : 1101.2721s\n",
            "Tokens/sec      : 0.06\n",
            "RAM   : 33.94 MB\n",
            "CPU   : -14.00 %\n",
            "Model size : 5228.57 MB\n",
            "============================================================\n",
            "\n",
            "=== Czech → English ===\n"
          ]
        },
        {
          "metadata": {
            "tags": null
          },
          "name": "stderr",
          "output_type": "stream",
          "text": [
            "INFO:pytorch_lightning.utilities.rank_zero:💡 Tip: For seamless cloud uploads and versioning, try installing [litmodels](https://pypi.org/project/litmodels/) to enable LitModelCheckpoint, which syncs automatically with the Lightning model registry.\n",
            "INFO:pytorch_lightning.utilities.rank_zero:GPU available: False, used: False\n",
            "INFO:pytorch_lightning.utilities.rank_zero:TPU available: False, using: 0 TPU cores\n",
            "INFO:pytorch_lightning.utilities.rank_zero:HPU available: False, using: 0 HPUs\n"
          ]
        },
        {
          "metadata": {
            "tags": null
          },
          "name": "stdout",
          "output_type": "stream",
          "text": [
            "Source    : Žádám o turistické vízum pro návštěvu Spojených států. Mám v úmyslu zůstat dva týdny a navštívit známá místa jako Sochu svobody a Times Square. Po dovolené se vrátím do své domovské země.\n",
            "Reference : I am applying for a tourist visa to visit the United States. I intend to stay for two weeks and visit popular landmarks like the Statue of Liberty and Times Square. I will return to my home country after my vacation.\n",
            "Predicted : I'm applying for a tourist visa to visit the United States, and I intend to stay for two weeks and visit famous sites like the Statue of Liberty and Times Square, and then I'll return to my home country after my vacation.\n",
            "\n",
            "BLEU      : 0.6821\n",
            "BERTScore : 0.9840\n",
            "METEOR    : 0.8500\n",
            "ROUGE-L   : 0.8706\n",
            "TER       : 24.3902\n",
            "COMET     : 0.9082\n",
            "\n",
            "Time to 1st tok : 1158.1486s\n",
            "Total inf time  : 1158.1536s\n",
            "Tokens/sec      : 0.04\n",
            "RAM   : 33.78 MB\n",
            "CPU   : -14.00 %\n",
            "Model size : 5228.57 MB\n",
            "============================================================\n",
            "\n",
            "=== Danish → English ===\n"
          ]
        },
        {
          "metadata": {
            "tags": null
          },
          "name": "stderr",
          "output_type": "stream",
          "text": [
            "INFO:pytorch_lightning.utilities.rank_zero:💡 Tip: For seamless cloud uploads and versioning, try installing [litmodels](https://pypi.org/project/litmodels/) to enable LitModelCheckpoint, which syncs automatically with the Lightning model registry.\n",
            "INFO:pytorch_lightning.utilities.rank_zero:GPU available: False, used: False\n",
            "INFO:pytorch_lightning.utilities.rank_zero:TPU available: False, using: 0 TPU cores\n",
            "INFO:pytorch_lightning.utilities.rank_zero:HPU available: False, using: 0 HPUs\n"
          ]
        },
        {
          "metadata": {
            "tags": null
          },
          "name": "stdout",
          "output_type": "stream",
          "text": [
            "Source    : Jeg ansøger om et turistvisum for at besøge USA. Jeg har til hensigt at blive i to uger og besøge kendte vartegn som Frihedsgudinden og Times Square. Jeg vender tilbage til mit hjemland efter ferien.\n",
            "Reference : I am applying for a tourist visa to visit the United States. I intend to stay for two weeks and visit popular landmarks like the Statue of Liberty and Times Square. I will return to my home country after my vacation.\n",
            "Predicted : I'm applying for a tourist visa to visit the United States. I intend to stay for two weeks and visit famous landmarks like the Statue of Liberty and Times Square. I'm returning to my home country after the holidays.\n",
            "\n",
            "BLEU      : 0.7190\n",
            "BERTScore : 0.9861\n",
            "METEOR    : 0.8764\n",
            "ROUGE-L   : 0.8537\n",
            "TER       : 19.5122\n",
            "COMET     : 0.9112\n",
            "\n",
            "Time to 1st tok : 1174.9369s\n",
            "Total inf time  : 1174.9425s\n",
            "Tokens/sec      : 0.04\n",
            "RAM   : 33.23 MB\n",
            "CPU   : -14.60 %\n",
            "Model size : 5228.57 MB\n",
            "============================================================\n",
            "\n",
            "=== German → English ===\n"
          ]
        },
        {
          "metadata": {
            "tags": null
          },
          "name": "stderr",
          "output_type": "stream",
          "text": [
            "INFO:pytorch_lightning.utilities.rank_zero:💡 Tip: For seamless cloud uploads and versioning, try installing [litmodels](https://pypi.org/project/litmodels/) to enable LitModelCheckpoint, which syncs automatically with the Lightning model registry.\n",
            "INFO:pytorch_lightning.utilities.rank_zero:GPU available: False, used: False\n",
            "INFO:pytorch_lightning.utilities.rank_zero:TPU available: False, using: 0 TPU cores\n",
            "INFO:pytorch_lightning.utilities.rank_zero:HPU available: False, using: 0 HPUs\n"
          ]
        },
        {
          "metadata": {
            "tags": null
          },
          "name": "stdout",
          "output_type": "stream",
          "text": [
            "Source    : Ich beantrage ein Touristenvisum, um die Vereinigten Staaten zu besuchen. Ich beabsichtige, zwei Wochen zu bleiben und bekannte Sehenswürdigkeiten wie die Freiheitsstatue und den Times Square zu besuchen. Nach meinem Urlaub kehre ich in mein Heimatland zurück.\n",
            "Reference : I am applying for a tourist visa to visit the United States. I intend to stay for two weeks and visit popular landmarks like the Statue of Liberty and Times Square. I will return to my home country after my vacation.\n",
            "Predicted : I am applying for a tourist visa to visit the United States. I intend to stay for two weeks and visit famous sights such as the Statue of Liberty and Times Square. After my vacation, I will return to my homeland.\n",
            "\n",
            "BLEU      : 0.7171\n",
            "BERTScore : 0.9893\n",
            "METEOR    : 0.8805\n",
            "ROUGE-L   : 0.8049\n",
            "TER       : 21.9512\n",
            "COMET     : 0.9228\n",
            "\n",
            "Time to 1st tok : 1115.3437s\n",
            "Total inf time  : 1115.3477s\n",
            "Tokens/sec      : 0.06\n",
            "RAM   : 33.28 MB\n",
            "CPU   : -13.80 %\n",
            "Model size : 5228.57 MB\n",
            "============================================================\n",
            "\n",
            "=== Estonian → English ===\n"
          ]
        },
        {
          "output_type": "stream",
          "name": "stderr",
          "text": [
            "INFO:pytorch_lightning.utilities.rank_zero:💡 Tip: For seamless cloud uploads and versioning, try installing [litmodels](https://pypi.org/project/litmodels/) to enable LitModelCheckpoint, which syncs automatically with the Lightning model registry.\n",
            "INFO:pytorch_lightning.utilities.rank_zero:GPU available: False, used: False\n",
            "INFO:pytorch_lightning.utilities.rank_zero:TPU available: False, using: 0 TPU cores\n",
            "INFO:pytorch_lightning.utilities.rank_zero:HPU available: False, using: 0 HPUs\n"
          ]
        },
        {
          "output_type": "stream",
          "name": "stdout",
          "text": [
            "Source    : Taotlen turismiviisat Ameerika Ühendriikide külastamiseks. Kavatsen jääda kaheks nädalaks ja külastada kuulsaid vaatamisväärsusi nagu Vabadussammas ja Times Square. Pärast puhkust naasen oma koduriiki.\n",
            "Reference : I am applying for a tourist visa to visit the United States. I intend to stay for two weeks and visit popular landmarks like the Statue of Liberty and Times Square. I will return to my home country after my vacation.\n",
            "Predicted : I'm applying for a tourist visa to visit the United States, and I plan to stay for two weeks and visit famous landmarks like the Statue of Liberty and Times Square, and then I'll return to my home country after my vacation.\n",
            "\n",
            "BLEU      : 0.6635\n",
            "BERTScore : 0.9842\n",
            "METEOR    : 0.8474\n",
            "ROUGE-L   : 0.8706\n",
            "TER       : 24.3902\n",
            "COMET     : 0.9160\n",
            "\n",
            "Time to 1st tok : 1156.3678s\n",
            "Total inf time  : 1156.3722s\n",
            "Tokens/sec      : 0.05\n",
            "RAM   : 33.07 MB\n",
            "CPU   : -4.40 %\n",
            "Model size : 5228.57 MB\n",
            "============================================================\n"
          ]
        }
      ],
      "source": [
        "# Install necessary libraries\n",
        "!pip install -q transformers accelerate evaluate bert_score rouge_score sacremoses nltk psutil pandas sacrebleu sentencepiece unbabel-comet\n",
        "\n",
        "from huggingface_hub import login\n",
        "login(token='')  # Replace with your Hugging Face token\n",
        "\n",
        "# Download NLTK data\n",
        "import nltk\n",
        "nltk.download('punkt')\n",
        "\n",
        "\n",
        "# Imports\n",
        "import time\n",
        "import torch\n",
        "import psutil\n",
        "import logging\n",
        "from transformers import AutoTokenizer, AutoModelForSeq2SeqLM\n",
        "import evaluate\n",
        "\n",
        "logging.getLogger(\"transformers\").setLevel(logging.ERROR)\n",
        "device = torch.device(\"cuda\" if torch.cuda.is_available() else \"cpu\")\n",
        "print(f\"Using device: {device}\")\n",
        "\n",
        "# Paragraph data\n",
        "paragraph_data = [\n",
        "    {\"lang\": \"ar\", \"name\": \"Arabic\", \"src\": \"أنا أتقدم للحصول على تأشيرة سياحية لزيارة الولايات المتحدة. أنوي البقاء لمدة أسبوعين وزيارة معالم مشهورة مثل تمثال الحرية وساحة التايمز. سأعود إلى بلدي بعد انتهاء عطلتي.\", \"ref\": \"I am applying for a tourist visa to visit the United States. I intend to stay for two weeks and visit popular landmarks like the Statue of Liberty and Times Square. I will return to my home country after my vacation.\"},\n",
        "    {\"lang\": \"es\", \"name\": \"Spanish\", \"src\": \"Estoy solicitando una visa de turista para visitar los Estados Unidos. Tengo la intención de quedarme dos semanas y visitar lugares famosos como la Estatua de la Libertad y Times Square. Regresaré a mi país después de mis vacaciones.\", \"ref\": \"I am applying for a tourist visa to visit the United States. I intend to stay for two weeks and visit popular landmarks like the Statue of Liberty and Times Square. I will return to my home country after my vacation.\"},\n",
        "    {\"lang\": \"fr\", \"name\": \"French\", \"src\": \"Je demande un visa de touriste pour visiter les États-Unis. J’ai l’intention de rester deux semaines et de visiter des sites célèbres comme la Statue de la Liberté et Times Square. Je retournerai dans mon pays après mes vacances.\", \"ref\": \"I am applying for a tourist visa to visit the United States. I intend to stay for two weeks and visit popular landmarks like the Statue of Liberty and Times Square. I will return to my home country after my vacation.\"},\n",
        "    {\"lang\": \"ru\", \"name\": \"Russian\", \"src\": \"Я подаю заявку на туристическую визу для поездки в Соединенные Штаты. Я собираюсь остаться на две недели и посетить известные достопримечательности, такие как Статуя Свободы и Таймс-сквер. Я вернусь в свою страну после отпуска.\", \"ref\": \"I am applying for a tourist visa to visit the United States. I intend to stay for two weeks and visit popular landmarks like the Statue of Liberty and Times Square. I will return to my home country after my vacation.\"},\n",
        "    {\"lang\": \"ro\", \"name\": \"Romanian\", \"src\": \"Solicit o viză turistică pentru a vizita Statele Unite. Intenționez să stau două săptămâni și să vizitez repere populare precum Statuia Libertății și Times Square. Mă voi întoarce în țara mea după vacanță.\", \"ref\": \"I am applying for a tourist visa to visit the United States. I intend to stay for two weeks and visit popular landmarks like the Statue of Liberty and Times Square. I will return to my home country after my vacation.\"},\n",
        "    {\"lang\": \"bg\", \"name\": \"Bulgarian\", \"src\": \"Кандидатствам за туристическа виза за посещение на Съединените щати. Възнамерявам да остана две седмици и да посетя популярни забележителности като Статуята на свободата и Таймс Скуеър. Ще се върна в родината си след ваканцията.\", \"ref\": \"I am applying for a tourist visa to visit the United States. I intend to stay for two weeks and visit popular landmarks like the Statue of Liberty and Times Square. I will return to my home country after my vacation.\"},\n",
        "    {\"lang\": \"cs\", \"name\": \"Czech\", \"src\": \"Žádám o turistické vízum pro návštěvu Spojených států. Mám v úmyslu zůstat dva týdny a navštívit známá místa jako Sochu svobody a Times Square. Po dovolené se vrátím do své domovské země.\", \"ref\": \"I am applying for a tourist visa to visit the United States. I intend to stay for two weeks and visit popular landmarks like the Statue of Liberty and Times Square. I will return to my home country after my vacation.\"},\n",
        "    {\"lang\": \"da\", \"name\": \"Danish\", \"src\": \"Jeg ansøger om et turistvisum for at besøge USA. Jeg har til hensigt at blive i to uger og besøge kendte vartegn som Frihedsgudinden og Times Square. Jeg vender tilbage til mit hjemland efter ferien.\", \"ref\": \"I am applying for a tourist visa to visit the United States. I intend to stay for two weeks and visit popular landmarks like the Statue of Liberty and Times Square. I will return to my home country after my vacation.\"},\n",
        "    {\"lang\": \"de\", \"name\": \"German\", \"src\": \"Ich beantrage ein Touristenvisum, um die Vereinigten Staaten zu besuchen. Ich beabsichtige, zwei Wochen zu bleiben und bekannte Sehenswürdigkeiten wie die Freiheitsstatue und den Times Square zu besuchen. Nach meinem Urlaub kehre ich in mein Heimatland zurück.\", \"ref\": \"I am applying for a tourist visa to visit the United States. I intend to stay for two weeks and visit popular landmarks like the Statue of Liberty and Times Square. I will return to my home country after my vacation.\"},\n",
        "    {\"lang\": \"et\", \"name\": \"Estonian\", \"src\": \"Taotlen turismiviisat Ameerika Ühendriikide külastamiseks. Kavatsen jääda kaheks nädalaks ja külastada kuulsaid vaatamisväärsusi nagu Vabadussammas ja Times Square. Pärast puhkust naasen oma koduriiki.\", \"ref\": \"I am applying for a tourist visa to visit the United States. I intend to stay for two weeks and visit popular landmarks like the Statue of Liberty and Times Square. I will return to my home country after my vacation.\"},\n",
        "]\n",
        "\n",
        "# Lang code mapping for NLLB\n",
        "LANG_CODE_TO_ID = {\n",
        "    \"ar\": \"arb_Arab\",\n",
        "    \"es\": \"spa_Latn\",\n",
        "    \"fr\": \"fra_Latn\",\n",
        "    \"ru\": \"rus_Cyrl\",\n",
        "    \"ro\": \"ron_Latn\",\n",
        "    \"bg\": \"bul_Cyrl\",\n",
        "    \"cs\": \"ces_Latn\",\n",
        "    \"da\": \"dan_Latn\",\n",
        "    \"de\": \"deu_Latn\",\n",
        "    \"et\": \"est_Latn\",\n",
        "    \"en\": \"eng_Latn\",\n",
        "}\n",
        "\n",
        "# Load model and tokenizer\n",
        "model_name = \"facebook/nllb-200-distilled-1.3B\"\n",
        "tokenizer = AutoTokenizer.from_pretrained(model_name)\n",
        "model = AutoModelForSeq2SeqLM.from_pretrained(model_name).to(device)\n",
        "model.eval()\n",
        "\n",
        "# Load evaluation modules\n",
        "bleu_mod = evaluate.load(\"bleu\")\n",
        "bertscore_mod = evaluate.load(\"bertscore\")\n",
        "meteor_mod = evaluate.load(\"meteor\")\n",
        "rouge_mod = evaluate.load(\"rouge\")\n",
        "ter_mod = evaluate.load(\"ter\")\n",
        "comet_mod = evaluate.load(\"comet\")\n",
        "\n",
        "# System monitor\n",
        "def measure_system():\n",
        "    proc = psutil.Process()\n",
        "    return proc.memory_info().rss / 1024**2, psutil.cpu_percent(interval=None)\n",
        "\n",
        "# Translation function\n",
        "def translate_nllb(text: str, src_lang: str, tgt_lang: str = \"en\"):\n",
        "    tokenizer.src_lang = LANG_CODE_TO_ID[src_lang]\n",
        "    encoded = tokenizer(text, return_tensors=\"pt\").to(device)\n",
        "    start = time.perf_counter()\n",
        "    generated_tokens = model.generate(\n",
        "        **encoded,\n",
        "        forced_bos_token_id=tokenizer.convert_tokens_to_ids(LANG_CODE_TO_ID[tgt_lang])\n",
        "    )\n",
        "    mid = time.perf_counter()\n",
        "    pred = tokenizer.batch_decode(generated_tokens, skip_special_tokens=True)[0]\n",
        "    end = time.perf_counter()\n",
        "    return pred, mid - start, end - start, len(tokenizer.tokenize(text))\n",
        "\n",
        "# Evaluation loop\n",
        "for item in paragraph_data:\n",
        "    src_lang, name, src, ref = item[\"lang\"], item[\"name\"], item[\"src\"], item[\"ref\"]\n",
        "    print(f\"\\n=== {name} → English ===\")\n",
        "\n",
        "    ram_before, cpu_before = measure_system()\n",
        "    pred, t_first, t_total, token_count = translate_nllb(src, src_lang)\n",
        "    ram_after, cpu_after = measure_system()\n",
        "\n",
        "    # Accuracy metrics\n",
        "    bleu_score = bleu_mod.compute(predictions=[pred], references=[[ref]])[\"bleu\"]\n",
        "    bert_res = bertscore_mod.compute(predictions=[pred], references=[ref], lang=\"en\")\n",
        "    meteor_score = meteor_mod.compute(predictions=[pred], references=[[ref]])[\"meteor\"]\n",
        "    rouge_score = rouge_mod.compute(predictions=[pred], references=[ref])[\"rougeL\"]\n",
        "    ter_score = ter_mod.compute(predictions=[pred], references=[[ref]])[\"score\"]\n",
        "    comet_res = comet_mod.compute(sources=[src], predictions=[pred], references=[ref])\n",
        "    comet_score = next(v for v in comet_res.values() if isinstance(v, (int, float)))\n",
        "\n",
        "    # Output\n",
        "    print(f\"Source    : {src}\")\n",
        "    print(f\"Reference : {ref}\")\n",
        "    print(f\"Predicted : {pred}\\n\")\n",
        "    print(f\"BLEU      : {bleu_score:.4f}\")\n",
        "    print(f\"BERTScore : {bert_res['f1'][0]:.4f}\")\n",
        "    print(f\"METEOR    : {meteor_score:.4f}\")\n",
        "    print(f\"ROUGE-L   : {rouge_score:.4f}\")\n",
        "    print(f\"TER       : {ter_score:.4f}\")\n",
        "    print(f\"COMET     : {comet_score:.4f}\\n\")\n",
        "    print(f\"Time to 1st tok : {t_first:.4f}s\")\n",
        "    print(f\"Total inf time  : {t_total:.4f}s\")\n",
        "    print(f\"Tokens/sec      : {token_count / t_total:.2f}\")\n",
        "    if device.type == \"cuda\":\n",
        "        print(f\"VRAM used       : {torch.cuda.max_memory_allocated() / 1024**2:.2f} MB\")\n",
        "    print(f\"RAM   : {ram_after - ram_before:.2f} MB\")\n",
        "    print(f\"CPU   : {cpu_after - cpu_before:.2f} %\")\n",
        "    print(f\"Model size : {sum(p.numel() for p in model.parameters()) * 4 / 1024 ** 2:.2f} MB\")\n",
        "    print(\"=\" * 60)\n"
      ]
    }
  ],
  "metadata": {
    "colab": {
      "provenance": [],
      "authorship_tag": "ABX9TyOiVEqPitw9rTKm7AXrUY34",
      "include_colab_link": true
    },
    "kernelspec": {
      "display_name": "Python 3",
      "name": "python3"
    },
    "language_info": {
      "name": "python"
    },
    "widgets": {}
