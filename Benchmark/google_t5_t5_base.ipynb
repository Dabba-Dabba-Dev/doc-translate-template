{
 "cells": [
  {
   "cell_type": "code",
   "execution_count": null,
   "metadata": {
    "colab": {
     "base_uri": "https://localhost:8080/",
     "height": 1000,
     "referenced_widgets": [
      "1eb12eabe15446c49f99ca1087da8e61",
      "7a8f1687ac904921847250cd79ef3853",
      "bf85c2ca998d47f4955bbe38b4edd615",
      "cb4501e280f54056a5b92bc1eab3876d",
      "007d7b4461854d268009714d4e913e88",
      "c8c07b032f1c4973b2b7887e7596df36",
      "c00260130b2e4d008ac55951b051d1ce",
      "69776bd8125d420fa1e2eae137edbeba",
      "2b7760d1f76d49d3aacc8fe252068625",
      "b4629dbd88bc462d9a0ff1ccb0e71115",
      "0387949eddd44bf2b50f52ab3e558abe",
      "3e918e20192d4b968446cd2e5123fb29",
      "5e5f078ebc8c4baebde6c7d5679ce76f",
      "8608801fd03f4ab5a5e3051f027098c0",
      "f0be83549c0843fe9a36b9c8e11e7ab0",
      "1a33ad454ad64d0eb4bf6fcff35bcdfe",
      "b44750f6e71447da9f69e0301e3876eb",
      "123394a01f644ff993170981021f5f3e",
      "769c2cca56264884b6b25b3c7d977631",
      "7e11d33bd51a4220a6899c26f47d1b5c",
      "9a8a72508aaf4c7e8bd16076ab4e0206",
      "63a47b45ac4c412bbc1a5d5f218acc68",
      "3d9050fd43ff49f49eb99410c98d70cb",
      "ca7f6fdae838471b80c546fd4eca7ca7",
      "8678ca106d754709bd85824f5548b188",
      "f2a26c12d90c4c32970a1129c817cf11",
      "3120b4aa4e8147019b9c8178bab2616a",
      "0eaf3f0278324990bd6387c7283cfce3",
      "ba595809781f4228af733a1547da90df",
      "6e8a14211e924789a9018d3568ff4cde",
      "fb111057ce89459f966e79a826a4679a",
      "90cb34a1d3e24fc590590d10b57f6144",
      "ec27f6397ca343c6ae4c80c91a9f1852",
      "ec98b7e0df654269ba2fe22a92bfbd0f",
      "80007ab70f22452693d4505623a54980",
      "50ed28bfce7d4a56889096be24904a5e",
      "76fb08adcd184fa38ff8e7418ff2c1a0",
      "80f0984691b7437fb71670d38aa8f084",
      "808cf9dd011d4619bc136d84dcbeb0ab",
      "1721818e055243f9af370355db3f9550",
      "f79e7d5d0ec545dfabe3f06c0ec5ddef",
      "6612203ce34e4154bea7382e49aa9b1c",
      "f7b3f47faa214c81a9aa38fec1957336",
      "a85b9d1ff696417f9b3e0973c5c357da",
      "4213190c02584d10abd17cbf243b2f69",
      "d40c7a9a9dbe4561ab943f6854fa86dc",
      "8a7e2067d6354f769af959786d97feb7",
      "30859e43616b4d89b16a024b54206e01",
      "1765beec9a1e4662b38debc74b15afda",
      "240e71b5dc7447f4b2333ae273b14b71",
      "96e5b64e319b486d86569ba2256339b4",
      "efdead3503c646759e92a58794c9ebe1",
      "cc6808be7cf8420daea407222deeb735",
      "225c0fcea03f48ab9837b76f9954e3c7",
      "5e02b632bfd84a6a9fdae472bbe83663",
      "b9d251723cbc4a4aa818bee5cc0b3c5e",
      "5f74bbc3dbf44a0c927c3c74ae90b60b",
      "8ef2527345d2450792cd40e2cc3c5f91",
      "64463b4a79f740f6b191644671e12b35",
      "885a2e8a66fe47678905d561b9c4a39d",
      "2ada7ddcd46c4c24a4231160fc7e146c",
      "4b9eb551634b4dc391f563bac3136050",
      "3c1095f2a60545a7be6fcc07e5c6e89e",
      "5679cf24f6dc4a8ea6c3c3dc24c1b9f5",
      "0b502231dede43919aa50a07b2d332ba",
      "baa56f139ae8457580f1f0f88695555b",
      "fc1c5789cc784f2d86f029306bde97e6",
      "4e228c80c18b4012b321e8a2e427c812",
      "f45b88083f3b41f18b1883369977af98",
      "db1b210e2619446986a544b5021fd2ad",
      "619143745bdc42fdb74e3b086f7e11a8",
      "98a4f92e363642cf8bd4cfeb11ed498f",
      "e963c5b57f2b4b3fa30e13d89b036b5e",
      "55a155db70b147a39f930d8d534c5d93",
      "51158ac5b0484056a3c0d8ee2ee04b57",
      "d8594d7c4e0f4128b2e4e2580b4a75ce",
      "750582156ed444e8a42187c0fddb8eba",
      "7733500b8d3643ada134185baa30d350",
      "a9d1c14e8a934696aba8a6242a56555c",
      "f2e616a948d946d29df455ba0ec98974",
      "8ac0115aef5c443aa50a6b946d8566f0",
      "d372bfeca4584ef8b9abff09146c402f",
      "b6fe39725e8e40228b32a2185bc66819",
      "cf8506854d7c4966b833c3850020e85d",
      "2407dd61b02f4472bf67714121f9e4f7",
      "279cf4d4de124ac5838337dde1134b05",
      "32d271c58880434789d26e3052f44fb2",
      "9d16e5d684a544e98843353f785388b4",
      "d8ec648c131b4353986825d9118b08ad",
      "98e13d35085d453e85ec912a77823ddc",
      "b8a3465610b344ffba0348fe2a427a00",
      "1d12d747e65a4e12b24f143377eab98a",
      "cf4f718f28ed401fa4b81c4e435c4b75",
      "19428987c1634478b53001835ab9e23c",
      "66a4849d1a4f415486557f2c5c35d343",
      "349a99e77a704cb7b7bc534f7b1dcea9",
      "f044d60d904f4ee5af1b1180c1b92575",
      "d427dffbf00146bd8399d06b16411034",
      "7dd785ce02dc4004b384dc964fa99133",
      "e0b161bb45ae4a2bbf5c603092a2e501",
      "ace7b28693234c899cd7a18617a223be",
      "5b37ab70fc4647c491e9eefc2e026724",
      "a9a1514457154820837cb007fdf488de",
      "b9fb60dbfe664b75b021f6886ce4e8c8",
      "317504deab9448bb9d2af0814e4ba4ea",
      "86624fd035eb443a99f44c9a5e56c7d2",
      "77b03e500fa84dcbaceb515398f43f57",
      "c75f9a64c97249859694ebd6ebd7fcad",
      "ef05672b524a4fe389c6955efac09b0e",
      "5b0f2ea1212c4827ba7a159dbe2ae609",
      "35a8c3aa75664135bf35e1bb2242383c",
      "543670be7f6b4137b7f0f4779c2bb36c",
      "3e5a197da42847c298657b36bcfe5f1b",
      "8c6487ee810c407a88bc7390a09a7cf9",
      "2138b8b71a104b3bb5c9089e14ca88a0",
      "4dbce92a9ede41b79824a531f5fda751",
      "e803266a74404d5ab324ed122ee69507",
      "cfccf3047af44d76ba552e6df6642377",
      "00e03dc73a7e44fd8de0990ab5d0f25d",
      "51b71a5501c04c959505f606045dd0fb",
      "58c42003ab46486fa435dec192245711",
      "2671292c07eb46b4be7851f2e099befb",
      "36e83a8e43344f62b2de5ee7fb9b93f1",
      "76abe65633d74749a02e10dffcd2a160",
      "11da48ce974241be950263eb5c30f753",
      "4bc29787d6b840aeb1307a7155110d96",
      "bc7f8da6efd34694ad4bca32ac9da6cc",
      "84f51452a35843b884c91e27a1bf2eee",
      "4ae6745b03744fd3a34458cac88e48b8",
      "093bc4b4aa58493fa6cfb4c33f77e5f5",
      "b3a6cec9233e4f2d8e59a0801987be6b",
      "2314f74018514a70bf6aa7afbdd99ae1",
      "9c47a07661d447e688e89ac11dae27eb",
      "a1f2c79c846b4ce39a5b386c027ab6c8",
      "e7c30aab1955472bb472e3e9c6b41cef",
      "c0522c67e35b40c2802dd8f0ec134b73",
      "a21a20db978a44889c47feb01a216de6",
      "2cdd192956aa4127b9b1556a8ca002c5",
      "bb48537ee5e546eb8e32a3e089b71dc7",
      "6afc840f05bf495d9ad112ec8abc1ac2",
      "2a8efdd88502443eb8c6bb4b034e8892",
      "ba77fd0b11a346088cc31535aff830c4",
      "b79ed5ffa3594375afa4e8bf3cf16295",
      "3b0992a4f020436e837f02b524455724",
      "cad313840d2e48e985e054e60d350bcf",
      "6403a2f27365434ea459bea125a7cbf7",
      "1681b277280f4f648f5f69f1dc35abed",
      "c1814cd812934da7917c795787c427ed",
      "d031c44450134b09870f61271a7b6383",
      "9b820a4872e04e469273666a9dd58c26",
      "cd72888548bb42c1ac82238cb33d873b",
      "c5bf24ab0709433998c697aaadd17baa",
      "92351430ab534d34958cc0f41b7fbb17",
      "2e858900034d44b2a33ef247de1716f7",
      "45cc35e60908447ba7e877ddcfd42d95",
      "32d0b375bf35476896eba670b192be00",
      "b6a27a593b394f4389a30412b35af071",
      "e5b2385ebd014a62b0aa866306133dbf",
      "d05e0497efc044ed97e356660b472253",
      "7ac708c257504c73be0ea81319205f3b",
      "4bc9abe14ded413cb6c7f85c07b10067",
      "7f941300d72e480f92b5985c2b709087",
      "9e17cb0faf504742b5e1b4044926f755",
      "d10be40641144dc3ab6bbedb63375ce6",
      "a91e8691366442e9b306fff8923b4e9f",
      "8a4fccc71360451c95847fdfc5678eb3",
      "a1e20825f5a24614b61b2a75cbe204ba",
      "a935beb43c27492899445f3b2d87c2d9",
      "8f1f948206f5471cbcdaab3ba1101f0e",
      "8e2abd0be9014c26ae6b74edafbaed1e",
      "7b6ce92682724f578783a472d62c19d1",
      "060a416e4c9643d6acde86a1ee810025",
      "54b2e328fa3e4fb389b2af8c7e081680",
      "de0cb13f34dd4ef4aaa69afb96605276",
      "f3244da1ba194f66b807ccc5df16751d",
      "2a8fb3007b404c75a84ad718c4459900",
      "3f2bbb6e1b1f49e5a82e37a69ec4febd",
      "aea22980a99f470f809b4659ce55f330",
      "c0dd68ba271d44b1bd0a8b70afed19a9",
      "1c824147bbf3448a9d6d822e737b5c29",
      "49b4e787582d42369fe803985da07efb",
      "7ec7a9d0b53946d2b05f6b7c0de70ce6",
      "3b9386d983914c8f8a93977a9c635e34",
      "946b5e9243a74856bc4881904a34f958",
      "5b7f0a16605c46759a2cacbc75b1b81e",
      "9c857424cd1b43a786e0ff736e61f53d",
      "ac84c44d65d248adbe17979b5fc828c0",
      "c77195d690f84e838afd8a907f1670e3",
      "acbd38995efd4fe8815c2138f74aa120",
      "88e2f006f6a349dc9655ddf198ba45f2",
      "b8de4bdbab0f4cfbb5512e8504d8e45d",
      "b39516f3ad164bd98c0ff0819065b94a",
      "9f2d7095cc6c4318a8ac8de4ba19bcc5",
      "574597d8e734469abffd7f9e92937756",
      "cedcbf981f6a4044992e1d5b03993f85",
      "994f1aa2c95e4a00a444507c7f6b7fad",
      "70b9aad4b645466bbf4b4979eebf8721",
      "6dd082c9e30e4126acb79c04f1062cd2",
      "35db29df407e46a3bad737e352aa4f06",
      "1229626690704fd0b61013de4258f4b2",
      "3fa6ac3a7d0249be98759d23d97bf574",
      "82e7d8d5820c4960afd1699bf5c42cbd",
      "57ab4bdfabcc42ecbdda0bf115e844bb",
      "a48a5549e1f54f839dccc337e5cf4068",
      "37f1cb6cb3ef442caf4e7fa707dcf825",
      "2355d41e73344e49b302f3edc771ff50",
      "a5b37f856537458ba5551888be27f223",
      "6c05980d6fc440c3a67778259b99fedd",
      "3a12045008cd4481883ceea1c611d496",
      "4c51c60726124a7e998eb8e9c0fa4aea",
      "3255131dbd654b12934b29cc98b04e7a",
      "463f6839c57e4682b5bdc057e34b7afe",
      "28660c7c2ecc4dbab76b17c1997df5de",
      "4cc9efec3eaa49279c0fed54e072e86b",
      "bac5f35cb7394ae3bb237507333d410f",
      "846b2cce58c147beb8995a22a912602e",
      "6b20b8baf2d648daa84890e462f2d0a3",
      "9e6eb873344249f58e82e73fa6a846f5",
      "d9092d600ebd47f08fc3f9741636faab",
      "23dccb05873d4a0cb47a1475be7a3b73",
      "fc1b6eb5f80b4895ba289c2164473733",
      "fbe6b89741b6402bbeee0d0415d11c7e",
      "5ff6fae6331e4400b11d49474737e85e",
      "1cac29b1b7e64711af00ca80d189275c",
      "94624f7a873949b08bcd2e190f66b4d6",
      "aa56666c86dc469490c57e53686bc3e7",
      "7e23bd0771e840a1b9ec0a17f94551ee",
      "6ba841ee68e84f7d89d7cf7b46ed490b",
      "a1c7a01ae0bf44ad9d7142850571856f",
      "bea7a93bf3d147f68d97f8fc77ea841c",
      "01ed2d9c32e9484186f07ce0b863fbd7",
      "bba9b73330db48a8839c008e2e38c344",
      "3a193c75bd8f4a05be2957188fc8151e",
      "49639a13781044619d39a321d1538456",
      "0f69cddc870c44a0b66b11676b3ce431",
      "772daf2fba6e4099af5f727319d004ac",
      "51f90e133bcb4c0ebbff6e7f335d07df",
      "be1ff73f4e9c483e8dadbaaba0c0a997",
      "60ec3cac59a84b7090dcc0f3b41ca5e9",
      "ef1e9b9fe9734844b89b571b4927040c",
      "4716938b284640a8b0e81be797c0f316",
      "b5a1ee5db062424090bcd80dc7303d2c",
      "12ae136673e64a6588a8d5ffc31a11df",
      "97d69ff4319f48f0af9c49dc1882473d",
      "cbd672e909b14d1a9c841ad1f7a7d99f",
      "3a4d617a8bfc4f2fb7c8e7f2662a9c5f",
      "f7234e91350e4c97adab8906de996d2e",
      "236ee9c6753a4771a61b9f89fc557676",
      "293d35f0e111427ebe4bdbfa25841ce3",
      "39109d87a9084feea483294199e224ad",
      "cc8441dd32a744b4bc05fb0d4d64603c",
      "b4a1fd8cf745415c9696107741398ec5",
      "b27cfa32fbea4de98367940bd4c5f9d7",
      "7d7a70ca98884a2ca8d6be70ed14f2ff",
      "c887c6c44d7d4f44b25d030f4fba114f",
      "e6f489ce8a41462f9b302d745849fb75",
      "a974819ad52c4e8c924cc0a2cb253a4a",
      "8193ced272104d5889e7f1da560c2b6e",
      "411155efc78c43e0ae6af1997e4f861e",
      "7a3c2cf49855468cb1648f8a4934724f",
      "959d647153cb44abadcd281249a1d7d8",
      "de35dea2df014f82b30c3f34330f5639",
      "7d44e5daddfb44eebb9560c4c4b3fd47",
      "41eb6dfa876c453dac30e2d601798288",
      "e482b19acb5a40bc9c6153233fa266cc",
      "d24da551559f4b718b6da55262d244a6",
      "13392bdce6b74a44984295865f3e100a",
      "917e905947d94344ac4d5f3782d3cab4",
      "ac73a95c168743cf94d96954d6a72992",
      "7f40c041e5734a37b021e2fde538ce9e",
      "38f288673a134a5f97c3c0dc09ae4c48",
      "ae9c48c257c1442cb1c512cf746aba8f",
      "04816c0ad6b94337bdcb5abc0a447c5f",
      "4a14998d2bc34d2491618969add110a8",
      "ddeb57875fe345e990b25fea2ecb5f4b",
      "4489961b9ae0454f81b520000d51ea0c",
      "329cf099e4b94fd1a0a89a6d090b5de0",
      "1482b6a110af4c70a812c3e189e2fab7",
      "528b093d26504d309f1713b7f2c10731",
      "55ab849a2fef44bd97aad7c44a39e175",
      "ee245f3ed5b74c86beb4507ef939c5e8",
      "146176ad4c134d23ada7df59477d8bc2",
      "d04bca60d2144b8e99699113fa7bb4ec",
      "da175771b3cc4966a8a16353f77510db",
      "6d2bf8eb1af442fdb681c182876fb665",
      "d070c6cd61d54c5f9995a9bd04248ea2",
      "368b2dba267340e8a0cf1237ffbf436b",
      "1a9c069b339c44adaeff4e6809a176f0",
      "3fc96287a5f6470182b85024c493d106",
      "47e2013b450946c88c17b13def7cf012",
      "b0733b0292e64a6885e16308f86af143",
      "5e0a45ec41fc448bb3958614072a4d1e",
      "42a88f22d83741cca4ea9b44dbae5df4",
      "6e3b785a37e64cbb88c8c22a6617efda",
      "70795aabe88a40428c7da950da2ed53a",
      "c4841418d4394b36a41248c88faa5232",
      "d20d58f1f93e4133a9cccc1a9c9d2f3f",
      "b2938f30658e40278d4cfc06648d5001",
      "0a7dce431c9845d2b196f147eeffe808",
      "a4d127ab5e3646128c344c20e2971e62",
      "6df880a1fbc04674a9ba84f4668d9e1f",
      "bf83384d39a640cc87f33920bae2a4c9",
      "a3c89a5eae2a4caaa51b1ae96910d0e8",
      "9505493cdc044459abab2b6c905da501",
      "b0c46fafb38c46d6b17cde5582465d9d",
      "30c6b8bb42b640a2bbb4b7e281e2c70d",
      "34b0c91c2975496caa7c12f6b0e39a4b",
      "33a9cf2703f148b2994af043000b9558",
      "29ab530147384d82b74fb5b9cc5f44ec",
      "d20527330e3d4813986f8d6bffd33d9a",
      "5e06e2b9088940b1b4f1c42ba8e7b9ed",
      "cfa7697dd0234e71aa55996e550c3458",
      "86749e5e937c4923bd21e5281ec687f7",
      "672820dc531d4cde9f2b738695bfdae5",
      "f20da732e87a422f812f58d51c91dc61",
      "e00840f81431404aa770a72f4a9a3033",
      "0cabd63cc0c2465190b3c8cccb7d1655",
      "3a23503af31a40f4822e9579a78eb118",
      "eff9d5b7b13443fa86c3a1819aafdeda"
     ]
    },
    "id": "Ou_cv-CfR7kR",
    "outputId": "ed1a7e90-95b3-4ae5-d00a-11659d63537f"
   },
   "outputs": [
    {
     "name": "stdout",
     "output_type": "stream",
     "text": [
      "Requirement already satisfied: unbabel-comet in /usr/local/lib/python3.11/dist-packages (2.2.6)\n",
      "Requirement already satisfied: entmax<2.0,>=1.1 in /usr/local/lib/python3.11/dist-packages (from unbabel-comet) (1.3)\n",
      "Requirement already satisfied: huggingface-hub<1.0,>=0.19.3 in /usr/local/lib/python3.11/dist-packages (from unbabel-comet) (0.33.0)\n",
      "Requirement already satisfied: jsonargparse==3.13.1 in /usr/local/lib/python3.11/dist-packages (from unbabel-comet) (3.13.1)\n",
      "Requirement already satisfied: numpy<2.0.0,>=1.20.0 in /usr/local/lib/python3.11/dist-packages (from unbabel-comet) (1.26.4)\n",
      "Requirement already satisfied: pandas>=1.4.1 in /usr/local/lib/python3.11/dist-packages (from unbabel-comet) (2.2.2)\n",
      "Requirement already satisfied: protobuf<5.0.0,>=4.24.4 in /usr/local/lib/python3.11/dist-packages (from unbabel-comet) (4.25.8)\n",
      "Requirement already satisfied: pytorch-lightning<3.0.0,>=2.0.0 in /usr/local/lib/python3.11/dist-packages (from unbabel-comet) (2.5.2)\n",
      "Requirement already satisfied: sacrebleu<3.0.0,>=2.0.0 in /usr/local/lib/python3.11/dist-packages (from unbabel-comet) (2.5.1)\n",
      "Requirement already satisfied: scipy<2.0.0,>=1.5.4 in /usr/local/lib/python3.11/dist-packages (from unbabel-comet) (1.15.3)\n",
      "Requirement already satisfied: sentencepiece<0.3.0,>=0.2.0 in /usr/local/lib/python3.11/dist-packages (from unbabel-comet) (0.2.0)\n",
      "Requirement already satisfied: torch>=1.6.0 in /usr/local/lib/python3.11/dist-packages (from unbabel-comet) (2.6.0+cu124)\n",
      "Requirement already satisfied: torchmetrics<0.11.0,>=0.10.2 in /usr/local/lib/python3.11/dist-packages (from unbabel-comet) (0.10.3)\n",
      "Requirement already satisfied: transformers<5.0,>=4.17 in /usr/local/lib/python3.11/dist-packages (from unbabel-comet) (4.52.4)\n",
      "Requirement already satisfied: PyYAML>=3.13 in /usr/local/lib/python3.11/dist-packages (from jsonargparse==3.13.1->unbabel-comet) (6.0.2)\n",
      "Requirement already satisfied: filelock in /usr/local/lib/python3.11/dist-packages (from huggingface-hub<1.0,>=0.19.3->unbabel-comet) (3.18.0)\n",
      "Requirement already satisfied: fsspec>=2023.5.0 in /usr/local/lib/python3.11/dist-packages (from huggingface-hub<1.0,>=0.19.3->unbabel-comet) (2025.3.2)\n",
      "Requirement already satisfied: packaging>=20.9 in /usr/local/lib/python3.11/dist-packages (from huggingface-hub<1.0,>=0.19.3->unbabel-comet) (24.2)\n",
      "Requirement already satisfied: requests in /usr/local/lib/python3.11/dist-packages (from huggingface-hub<1.0,>=0.19.3->unbabel-comet) (2.32.3)\n",
      "Requirement already satisfied: tqdm>=4.42.1 in /usr/local/lib/python3.11/dist-packages (from huggingface-hub<1.0,>=0.19.3->unbabel-comet) (4.67.1)\n",
      "Requirement already satisfied: typing-extensions>=3.7.4.3 in /usr/local/lib/python3.11/dist-packages (from huggingface-hub<1.0,>=0.19.3->unbabel-comet) (4.14.0)\n",
      "Requirement already satisfied: hf-xet<2.0.0,>=1.1.2 in /usr/local/lib/python3.11/dist-packages (from huggingface-hub<1.0,>=0.19.3->unbabel-comet) (1.1.5)\n",
      "Requirement already satisfied: python-dateutil>=2.8.2 in /usr/local/lib/python3.11/dist-packages (from pandas>=1.4.1->unbabel-comet) (2.9.0.post0)\n",
      "Requirement already satisfied: pytz>=2020.1 in /usr/local/lib/python3.11/dist-packages (from pandas>=1.4.1->unbabel-comet) (2025.2)\n",
      "Requirement already satisfied: tzdata>=2022.7 in /usr/local/lib/python3.11/dist-packages (from pandas>=1.4.1->unbabel-comet) (2025.2)\n",
      "Requirement already satisfied: lightning-utilities>=0.10.0 in /usr/local/lib/python3.11/dist-packages (from pytorch-lightning<3.0.0,>=2.0.0->unbabel-comet) (0.14.3)\n",
      "Requirement already satisfied: portalocker in /usr/local/lib/python3.11/dist-packages (from sacrebleu<3.0.0,>=2.0.0->unbabel-comet) (3.2.0)\n",
      "Requirement already satisfied: regex in /usr/local/lib/python3.11/dist-packages (from sacrebleu<3.0.0,>=2.0.0->unbabel-comet) (2024.11.6)\n",
      "Requirement already satisfied: tabulate>=0.8.9 in /usr/local/lib/python3.11/dist-packages (from sacrebleu<3.0.0,>=2.0.0->unbabel-comet) (0.9.0)\n",
      "Requirement already satisfied: colorama in /usr/local/lib/python3.11/dist-packages (from sacrebleu<3.0.0,>=2.0.0->unbabel-comet) (0.4.6)\n",
      "Requirement already satisfied: lxml in /usr/local/lib/python3.11/dist-packages (from sacrebleu<3.0.0,>=2.0.0->unbabel-comet) (5.4.0)\n",
      "Requirement already satisfied: networkx in /usr/local/lib/python3.11/dist-packages (from torch>=1.6.0->unbabel-comet) (3.5)\n",
      "Requirement already satisfied: jinja2 in /usr/local/lib/python3.11/dist-packages (from torch>=1.6.0->unbabel-comet) (3.1.6)\n",
      "Requirement already satisfied: nvidia-cuda-nvrtc-cu12==12.4.127 in /usr/local/lib/python3.11/dist-packages (from torch>=1.6.0->unbabel-comet) (12.4.127)\n",
      "Requirement already satisfied: nvidia-cuda-runtime-cu12==12.4.127 in /usr/local/lib/python3.11/dist-packages (from torch>=1.6.0->unbabel-comet) (12.4.127)\n",
      "Requirement already satisfied: nvidia-cuda-cupti-cu12==12.4.127 in /usr/local/lib/python3.11/dist-packages (from torch>=1.6.0->unbabel-comet) (12.4.127)\n",
      "Requirement already satisfied: nvidia-cudnn-cu12==9.1.0.70 in /usr/local/lib/python3.11/dist-packages (from torch>=1.6.0->unbabel-comet) (9.1.0.70)\n",
      "Requirement already satisfied: nvidia-cublas-cu12==12.4.5.8 in /usr/local/lib/python3.11/dist-packages (from torch>=1.6.0->unbabel-comet) (12.4.5.8)\n",
      "Requirement already satisfied: nvidia-cufft-cu12==11.2.1.3 in /usr/local/lib/python3.11/dist-packages (from torch>=1.6.0->unbabel-comet) (11.2.1.3)\n",
      "Requirement already satisfied: nvidia-curand-cu12==10.3.5.147 in /usr/local/lib/python3.11/dist-packages (from torch>=1.6.0->unbabel-comet) (10.3.5.147)\n",
      "Requirement already satisfied: nvidia-cusolver-cu12==11.6.1.9 in /usr/local/lib/python3.11/dist-packages (from torch>=1.6.0->unbabel-comet) (11.6.1.9)\n",
      "Requirement already satisfied: nvidia-cusparse-cu12==12.3.1.170 in /usr/local/lib/python3.11/dist-packages (from torch>=1.6.0->unbabel-comet) (12.3.1.170)\n",
      "Requirement already satisfied: nvidia-cusparselt-cu12==0.6.2 in /usr/local/lib/python3.11/dist-packages (from torch>=1.6.0->unbabel-comet) (0.6.2)\n",
      "Requirement already satisfied: nvidia-nccl-cu12==2.21.5 in /usr/local/lib/python3.11/dist-packages (from torch>=1.6.0->unbabel-comet) (2.21.5)\n",
      "Requirement already satisfied: nvidia-nvtx-cu12==12.4.127 in /usr/local/lib/python3.11/dist-packages (from torch>=1.6.0->unbabel-comet) (12.4.127)\n",
      "Requirement already satisfied: nvidia-nvjitlink-cu12==12.4.127 in /usr/local/lib/python3.11/dist-packages (from torch>=1.6.0->unbabel-comet) (12.4.127)\n",
      "Requirement already satisfied: triton==3.2.0 in /usr/local/lib/python3.11/dist-packages (from torch>=1.6.0->unbabel-comet) (3.2.0)\n",
      "Requirement already satisfied: sympy==1.13.1 in /usr/local/lib/python3.11/dist-packages (from torch>=1.6.0->unbabel-comet) (1.13.1)\n",
      "Requirement already satisfied: mpmath<1.4,>=1.1.0 in /usr/local/lib/python3.11/dist-packages (from sympy==1.13.1->torch>=1.6.0->unbabel-comet) (1.3.0)\n",
      "Requirement already satisfied: tokenizers<0.22,>=0.21 in /usr/local/lib/python3.11/dist-packages (from transformers<5.0,>=4.17->unbabel-comet) (0.21.2)\n",
      "Requirement already satisfied: safetensors>=0.4.3 in /usr/local/lib/python3.11/dist-packages (from transformers<5.0,>=4.17->unbabel-comet) (0.5.3)\n",
      "Requirement already satisfied: aiohttp!=4.0.0a0,!=4.0.0a1 in /usr/local/lib/python3.11/dist-packages (from fsspec[http]>=2022.5.0->pytorch-lightning<3.0.0,>=2.0.0->unbabel-comet) (3.11.15)\n",
      "Requirement already satisfied: setuptools in /usr/local/lib/python3.11/dist-packages (from lightning-utilities>=0.10.0->pytorch-lightning<3.0.0,>=2.0.0->unbabel-comet) (75.2.0)\n",
      "Requirement already satisfied: six>=1.5 in /usr/local/lib/python3.11/dist-packages (from python-dateutil>=2.8.2->pandas>=1.4.1->unbabel-comet) (1.17.0)\n",
      "Requirement already satisfied: MarkupSafe>=2.0 in /usr/local/lib/python3.11/dist-packages (from jinja2->torch>=1.6.0->unbabel-comet) (3.0.2)\n",
      "Requirement already satisfied: charset-normalizer<4,>=2 in /usr/local/lib/python3.11/dist-packages (from requests->huggingface-hub<1.0,>=0.19.3->unbabel-comet) (3.4.2)\n",
      "Requirement already satisfied: idna<4,>=2.5 in /usr/local/lib/python3.11/dist-packages (from requests->huggingface-hub<1.0,>=0.19.3->unbabel-comet) (3.10)\n",
      "Requirement already satisfied: urllib3<3,>=1.21.1 in /usr/local/lib/python3.11/dist-packages (from requests->huggingface-hub<1.0,>=0.19.3->unbabel-comet) (2.4.0)\n",
      "Requirement already satisfied: certifi>=2017.4.17 in /usr/local/lib/python3.11/dist-packages (from requests->huggingface-hub<1.0,>=0.19.3->unbabel-comet) (2025.6.15)\n",
      "Requirement already satisfied: aiohappyeyeballs>=2.3.0 in /usr/local/lib/python3.11/dist-packages (from aiohttp!=4.0.0a0,!=4.0.0a1->fsspec[http]>=2022.5.0->pytorch-lightning<3.0.0,>=2.0.0->unbabel-comet) (2.6.1)\n",
      "Requirement already satisfied: aiosignal>=1.1.2 in /usr/local/lib/python3.11/dist-packages (from aiohttp!=4.0.0a0,!=4.0.0a1->fsspec[http]>=2022.5.0->pytorch-lightning<3.0.0,>=2.0.0->unbabel-comet) (1.3.2)\n",
      "Requirement already satisfied: attrs>=17.3.0 in /usr/local/lib/python3.11/dist-packages (from aiohttp!=4.0.0a0,!=4.0.0a1->fsspec[http]>=2022.5.0->pytorch-lightning<3.0.0,>=2.0.0->unbabel-comet) (25.3.0)\n",
      "Requirement already satisfied: frozenlist>=1.1.1 in /usr/local/lib/python3.11/dist-packages (from aiohttp!=4.0.0a0,!=4.0.0a1->fsspec[http]>=2022.5.0->pytorch-lightning<3.0.0,>=2.0.0->unbabel-comet) (1.7.0)\n",
      "Requirement already satisfied: multidict<7.0,>=4.5 in /usr/local/lib/python3.11/dist-packages (from aiohttp!=4.0.0a0,!=4.0.0a1->fsspec[http]>=2022.5.0->pytorch-lightning<3.0.0,>=2.0.0->unbabel-comet) (6.4.4)\n",
      "Requirement already satisfied: propcache>=0.2.0 in /usr/local/lib/python3.11/dist-packages (from aiohttp!=4.0.0a0,!=4.0.0a1->fsspec[http]>=2022.5.0->pytorch-lightning<3.0.0,>=2.0.0->unbabel-comet) (0.3.2)\n",
      "Requirement already satisfied: yarl<2.0,>=1.17.0 in /usr/local/lib/python3.11/dist-packages (from aiohttp!=4.0.0a0,!=4.0.0a1->fsspec[http]>=2022.5.0->pytorch-lightning<3.0.0,>=2.0.0->unbabel-comet) (1.20.1)\n"
     ]
    },
    {
     "name": "stderr",
     "output_type": "stream",
     "text": [
      "[nltk_data] Downloading package punkt to /root/nltk_data...\n",
      "[nltk_data]   Package punkt is already up-to-date!\n"
     ]
    },
    {
     "name": "stdout",
     "output_type": "stream",
     "text": [
      "Using device: cpu\n"
     ]
    },
    {
     "name": "stderr",
     "output_type": "stream",
     "text": [
      "/usr/local/lib/python3.11/dist-packages/huggingface_hub/utils/_auth.py:94: UserWarning: \n",
      "The secret `HF_TOKEN` does not exist in your Colab secrets.\n",
      "To authenticate with the Hugging Face Hub, create a token in your settings tab (https://huggingface.co/settings/tokens), set it as secret in your Google Colab and restart your session.\n",
      "You will be able to reuse this secret in all of your notebooks.\n",
      "Please note that authentication is recommended but still optional to access public models or datasets.\n",
      "  warnings.warn(\n"
     ]
    },
    {
     "data": {
      "application/vnd.jupyter.widget-view+json": {
       "model_id": "1eb12eabe15446c49f99ca1087da8e61",
       "version_major": 2,
       "version_minor": 0
      },
      "text/plain": [
       "Downloading builder script: 0.00B [00:00, ?B/s]"
      ]
     },
     "metadata": {},
     "output_type": "display_data"
    },
    {
     "data": {
      "application/vnd.jupyter.widget-view+json": {
       "model_id": "3e918e20192d4b968446cd2e5123fb29",
       "version_major": 2,
       "version_minor": 0
      },
      "text/plain": [
       "Downloading extra modules:   0%|          | 0.00/1.55k [00:00<?, ?B/s]"
      ]
     },
     "metadata": {},
     "output_type": "display_data"
    },
    {
     "data": {
      "application/vnd.jupyter.widget-view+json": {
       "model_id": "3d9050fd43ff49f49eb99410c98d70cb",
       "version_major": 2,
       "version_minor": 0
      },
      "text/plain": [
       "Downloading extra modules: 0.00B [00:00, ?B/s]"
      ]
     },
     "metadata": {},
     "output_type": "display_data"
    },
    {
     "data": {
      "application/vnd.jupyter.widget-view+json": {
       "model_id": "ec98b7e0df654269ba2fe22a92bfbd0f",
       "version_major": 2,
       "version_minor": 0
      },
      "text/plain": [
       "Downloading builder script: 0.00B [00:00, ?B/s]"
      ]
     },
     "metadata": {},
     "output_type": "display_data"
    },
    {
     "data": {
      "application/vnd.jupyter.widget-view+json": {
       "model_id": "4213190c02584d10abd17cbf243b2f69",
       "version_major": 2,
       "version_minor": 0
      },
      "text/plain": [
       "Downloading builder script: 0.00B [00:00, ?B/s]"
      ]
     },
     "metadata": {},
     "output_type": "display_data"
    },
    {
     "name": "stderr",
     "output_type": "stream",
     "text": [
      "[nltk_data] Downloading package wordnet to /root/nltk_data...\n",
      "[nltk_data] Downloading package punkt_tab to /root/nltk_data...\n",
      "[nltk_data]   Unzipping tokenizers/punkt_tab.zip.\n",
      "[nltk_data] Downloading package omw-1.4 to /root/nltk_data...\n"
     ]
    },
    {
     "data": {
      "application/vnd.jupyter.widget-view+json": {
       "model_id": "b9d251723cbc4a4aa818bee5cc0b3c5e",
       "version_major": 2,
       "version_minor": 0
      },
      "text/plain": [
       "Downloading builder script: 0.00B [00:00, ?B/s]"
      ]
     },
     "metadata": {},
     "output_type": "display_data"
    },
    {
     "data": {
      "application/vnd.jupyter.widget-view+json": {
       "model_id": "fc1c5789cc784f2d86f029306bde97e6",
       "version_major": 2,
       "version_minor": 0
      },
      "text/plain": [
       "Downloading builder script: 0.00B [00:00, ?B/s]"
      ]
     },
     "metadata": {},
     "output_type": "display_data"
    },
    {
     "data": {
      "application/vnd.jupyter.widget-view+json": {
       "model_id": "7733500b8d3643ada134185baa30d350",
       "version_major": 2,
       "version_minor": 0
      },
      "text/plain": [
       "Downloading builder script: 0.00B [00:00, ?B/s]"
      ]
     },
     "metadata": {},
     "output_type": "display_data"
    },
    {
     "data": {
      "application/vnd.jupyter.widget-view+json": {
       "model_id": "d8ec648c131b4353986825d9118b08ad",
       "version_major": 2,
       "version_minor": 0
      },
      "text/plain": [
       "Fetching 5 files:   0%|          | 0/5 [00:00<?, ?it/s]"
      ]
     },
     "metadata": {},
     "output_type": "display_data"
    },
    {
     "data": {
      "application/vnd.jupyter.widget-view+json": {
       "model_id": "e0b161bb45ae4a2bbf5c603092a2e501",
       "version_major": 2,
       "version_minor": 0
      },
      "text/plain": [
       "README.md: 0.00B [00:00, ?B/s]"
      ]
     },
     "metadata": {},
     "output_type": "display_data"
    },
    {
     "data": {
      "application/vnd.jupyter.widget-view+json": {
       "model_id": "35a8c3aa75664135bf35e1bb2242383c",
       "version_major": 2,
       "version_minor": 0
      },
      "text/plain": [
       ".gitattributes: 0.00B [00:00, ?B/s]"
      ]
     },
     "metadata": {},
     "output_type": "display_data"
    },
    {
     "data": {
      "application/vnd.jupyter.widget-view+json": {
       "model_id": "2671292c07eb46b4be7851f2e099befb",
       "version_major": 2,
       "version_minor": 0
      },
      "text/plain": [
       "hparams.yaml:   0%|          | 0.00/567 [00:00<?, ?B/s]"
      ]
     },
     "metadata": {},
     "output_type": "display_data"
    },
    {
     "data": {
      "application/vnd.jupyter.widget-view+json": {
       "model_id": "9c47a07661d447e688e89ac11dae27eb",
       "version_major": 2,
       "version_minor": 0
      },
      "text/plain": [
       "LICENSE: 0.00B [00:00, ?B/s]"
      ]
     },
     "metadata": {},
     "output_type": "display_data"
    },
    {
     "data": {
      "application/vnd.jupyter.widget-view+json": {
       "model_id": "3b0992a4f020436e837f02b524455724",
       "version_major": 2,
       "version_minor": 0
      },
      "text/plain": [
       "checkpoints/model.ckpt:   0%|          | 0.00/2.32G [00:00<?, ?B/s]"
      ]
     },
     "metadata": {},
     "output_type": "display_data"
    },
    {
     "name": "stderr",
     "output_type": "stream",
     "text": [
      "INFO:pytorch_lightning.utilities.migration.utils:Lightning automatically upgraded your loaded checkpoint from v1.8.3.post1 to v2.5.2. To apply the upgrade to your files permanently, run `python -m pytorch_lightning.utilities.upgrade_checkpoint ../root/.cache/huggingface/hub/models--Unbabel--wmt22-comet-da/snapshots/2760a223ac957f30acfb18c8aa649b01cf1d75f2/checkpoints/model.ckpt`\n"
     ]
    },
    {
     "data": {
      "application/vnd.jupyter.widget-view+json": {
       "model_id": "45cc35e60908447ba7e877ddcfd42d95",
       "version_major": 2,
       "version_minor": 0
      },
      "text/plain": [
       "tokenizer_config.json:   0%|          | 0.00/25.0 [00:00<?, ?B/s]"
      ]
     },
     "metadata": {},
     "output_type": "display_data"
    },
    {
     "data": {
      "application/vnd.jupyter.widget-view+json": {
       "model_id": "8a4fccc71360451c95847fdfc5678eb3",
       "version_major": 2,
       "version_minor": 0
      },
      "text/plain": [
       "sentencepiece.bpe.model:   0%|          | 0.00/5.07M [00:00<?, ?B/s]"
      ]
     },
     "metadata": {},
     "output_type": "display_data"
    },
    {
     "data": {
      "application/vnd.jupyter.widget-view+json": {
       "model_id": "3f2bbb6e1b1f49e5a82e37a69ec4febd",
       "version_major": 2,
       "version_minor": 0
      },
      "text/plain": [
       "tokenizer.json:   0%|          | 0.00/9.10M [00:00<?, ?B/s]"
      ]
     },
     "metadata": {},
     "output_type": "display_data"
    },
    {
     "data": {
      "application/vnd.jupyter.widget-view+json": {
       "model_id": "c77195d690f84e838afd8a907f1670e3",
       "version_major": 2,
       "version_minor": 0
      },
      "text/plain": [
       "config.json:   0%|          | 0.00/616 [00:00<?, ?B/s]"
      ]
     },
     "metadata": {},
     "output_type": "display_data"
    },
    {
     "name": "stderr",
     "output_type": "stream",
     "text": [
      "/usr/local/lib/python3.11/dist-packages/pytorch_lightning/core/saving.py:195: Found keys that are not in the model state dict but in the checkpoint: ['encoder.model.embeddings.position_ids']\n"
     ]
    },
    {
     "data": {
      "application/vnd.jupyter.widget-view+json": {
       "model_id": "35db29df407e46a3bad737e352aa4f06",
       "version_major": 2,
       "version_minor": 0
      },
      "text/plain": [
       "spiece.model:   0%|          | 0.00/792k [00:00<?, ?B/s]"
      ]
     },
     "metadata": {},
     "output_type": "display_data"
    },
    {
     "data": {
      "application/vnd.jupyter.widget-view+json": {
       "model_id": "4c51c60726124a7e998eb8e9c0fa4aea",
       "version_major": 2,
       "version_minor": 0
      },
      "text/plain": [
       "tokenizer.json: 0.00B [00:00, ?B/s]"
      ]
     },
     "metadata": {},
     "output_type": "display_data"
    },
    {
     "data": {
      "application/vnd.jupyter.widget-view+json": {
       "model_id": "fc1b6eb5f80b4895ba289c2164473733",
       "version_major": 2,
       "version_minor": 0
      },
      "text/plain": [
       "config.json: 0.00B [00:00, ?B/s]"
      ]
     },
     "metadata": {},
     "output_type": "display_data"
    },
    {
     "data": {
      "application/vnd.jupyter.widget-view+json": {
       "model_id": "bba9b73330db48a8839c008e2e38c344",
       "version_major": 2,
       "version_minor": 0
      },
      "text/plain": [
       "model.safetensors:   0%|          | 0.00/892M [00:00<?, ?B/s]"
      ]
     },
     "metadata": {},
     "output_type": "display_data"
    },
    {
     "data": {
      "application/vnd.jupyter.widget-view+json": {
       "model_id": "12ae136673e64a6588a8d5ffc31a11df",
       "version_major": 2,
       "version_minor": 0
      },
      "text/plain": [
       "generation_config.json:   0%|          | 0.00/147 [00:00<?, ?B/s]"
      ]
     },
     "metadata": {},
     "output_type": "display_data"
    },
    {
     "name": "stdout",
     "output_type": "stream",
     "text": [
      "\n",
      "=== Arabic → English ===\n"
     ]
    },
    {
     "data": {
      "application/vnd.jupyter.widget-view+json": {
       "model_id": "7d7a70ca98884a2ca8d6be70ed14f2ff",
       "version_major": 2,
       "version_minor": 0
      },
      "text/plain": [
       "tokenizer_config.json:   0%|          | 0.00/25.0 [00:00<?, ?B/s]"
      ]
     },
     "metadata": {},
     "output_type": "display_data"
    },
    {
     "data": {
      "application/vnd.jupyter.widget-view+json": {
       "model_id": "e482b19acb5a40bc9c6153233fa266cc",
       "version_major": 2,
       "version_minor": 0
      },
      "text/plain": [
       "config.json:   0%|          | 0.00/482 [00:00<?, ?B/s]"
      ]
     },
     "metadata": {},
     "output_type": "display_data"
    },
    {
     "data": {
      "application/vnd.jupyter.widget-view+json": {
       "model_id": "4489961b9ae0454f81b520000d51ea0c",
       "version_major": 2,
       "version_minor": 0
      },
      "text/plain": [
       "vocab.json:   0%|          | 0.00/899k [00:00<?, ?B/s]"
      ]
     },
     "metadata": {},
     "output_type": "display_data"
    },
    {
     "data": {
      "application/vnd.jupyter.widget-view+json": {
       "model_id": "368b2dba267340e8a0cf1237ffbf436b",
       "version_major": 2,
       "version_minor": 0
      },
      "text/plain": [
       "merges.txt:   0%|          | 0.00/456k [00:00<?, ?B/s]"
      ]
     },
     "metadata": {},
     "output_type": "display_data"
    },
    {
     "data": {
      "application/vnd.jupyter.widget-view+json": {
       "model_id": "b2938f30658e40278d4cfc06648d5001",
       "version_major": 2,
       "version_minor": 0
      },
      "text/plain": [
       "tokenizer.json:   0%|          | 0.00/1.36M [00:00<?, ?B/s]"
      ]
     },
     "metadata": {},
     "output_type": "display_data"
    },
    {
     "data": {
      "application/vnd.jupyter.widget-view+json": {
       "model_id": "29ab530147384d82b74fb5b9cc5f44ec",
       "version_major": 2,
       "version_minor": 0
      },
      "text/plain": [
       "model.safetensors:   0%|          | 0.00/1.42G [00:00<?, ?B/s]"
      ]
     },
     "metadata": {},
     "output_type": "display_data"
    },
    {
     "name": "stderr",
     "output_type": "stream",
     "text": [
      "INFO:pytorch_lightning.utilities.rank_zero:💡 Tip: For seamless cloud uploads and versioning, try installing [litmodels](https://pypi.org/project/litmodels/) to enable LitModelCheckpoint, which syncs automatically with the Lightning model registry.\n",
      "INFO:pytorch_lightning.utilities.rank_zero:GPU available: False, used: False\n",
      "INFO:pytorch_lightning.utilities.rank_zero:TPU available: False, using: 0 TPU cores\n",
      "INFO:pytorch_lightning.utilities.rank_zero:HPU available: False, using: 0 HPUs\n"
     ]
    },
    {
     "name": "stdout",
     "output_type": "stream",
     "text": [
      "Source    : أنا أتقدم للحصول على تأشيرة سياحية لزيارة الولايات المتحدة. أنوي البقاء لمدة أسبوعين وزيارة معالم مشهورة مثل تمثال الحرية وساحة التايمز. سأعود إلى بلدي بعد انتهاء عطلتي.\n",
      "Reference : I am applying for a tourist visa to visit the United States. I intend to stay for two weeks and visit popular landmarks like the Statue of Liberty and Times Square. I will return to my home country after my vacation.\n",
      "Predicted : de:\n",
      "\n",
      "BLEU      : 0.0000\n",
      "BERTScore : 0.8044\n",
      "METEOR    : 0.0000\n",
      "ROUGE-L   : 0.0000\n",
      "TER       : 100.0000\n",
      "COMET     : 0.2566\n",
      "\n",
      "Time to 1st tok : 1.9947 s\n",
      "Total inf time  : 1.9947 s\n",
      "Tokens/sec      : 28.58\n",
      "RAM   : 842.08 MB\n",
      "CPU   : -9.20 %\n",
      "Model size : 850.31 MB\n",
      "==================================================\n",
      "\n",
      "=== Spanish → English ===\n"
     ]
    },
    {
     "name": "stderr",
     "output_type": "stream",
     "text": [
      "INFO:pytorch_lightning.utilities.rank_zero:💡 Tip: For seamless cloud uploads and versioning, try installing [litmodels](https://pypi.org/project/litmodels/) to enable LitModelCheckpoint, which syncs automatically with the Lightning model registry.\n",
      "INFO:pytorch_lightning.utilities.rank_zero:GPU available: False, used: False\n",
      "INFO:pytorch_lightning.utilities.rank_zero:TPU available: False, using: 0 TPU cores\n",
      "INFO:pytorch_lightning.utilities.rank_zero:HPU available: False, using: 0 HPUs\n"
     ]
    },
    {
     "name": "stdout",
     "output_type": "stream",
     "text": [
      "Source    : Estoy solicitando una visa de turista para visitar los Estados Unidos. Tengo la intención de quedarme dos semanas y visitar lugares famosos como la Estatua de la Libertad y Times Square. Regresaré a mi país después de mis vacaciones.\n",
      "Reference : I am applying for a tourist visa to visit the United States. I intend to stay for two weeks and visit popular landmarks like the Statue of Liberty and Times Square. I will return to my home country after my vacation.\n",
      "Predicted : Qué es el lugar de las famos\n",
      "\n",
      "BLEU      : 0.0000\n",
      "BERTScore : 0.8012\n",
      "METEOR    : 0.0000\n",
      "ROUGE-L   : 0.0000\n",
      "TER       : 100.0000\n",
      "COMET     : 0.2697\n",
      "\n",
      "Time to 1st tok : 5.7011 s\n",
      "Total inf time  : 5.7011 s\n",
      "Tokens/sec      : 15.96\n",
      "RAM   : 469.31 MB\n",
      "CPU   : 10.60 %\n",
      "Model size : 850.31 MB\n",
      "==================================================\n",
      "\n",
      "=== French → English ===\n"
     ]
    },
    {
     "name": "stderr",
     "output_type": "stream",
     "text": [
      "INFO:pytorch_lightning.utilities.rank_zero:💡 Tip: For seamless cloud uploads and versioning, try installing [litmodels](https://pypi.org/project/litmodels/) to enable LitModelCheckpoint, which syncs automatically with the Lightning model registry.\n",
      "INFO:pytorch_lightning.utilities.rank_zero:GPU available: False, used: False\n",
      "INFO:pytorch_lightning.utilities.rank_zero:TPU available: False, using: 0 TPU cores\n",
      "INFO:pytorch_lightning.utilities.rank_zero:HPU available: False, using: 0 HPUs\n"
     ]
    },
    {
     "name": "stdout",
     "output_type": "stream",
     "text": [
      "Source    : Je demande un visa de touriste pour visiter les États-Unis. J’ai l’intention de rester deux semaines et de visiter des sites célèbres comme la Statue de la Liberté et Times Square. Je retournerai dans mon pays après mes vacances.\n",
      "Reference : I am applying for a tourist visa to visit the United States. I intend to stay for two weeks and visit popular landmarks like the Statue of Liberty and Times Square. I will return to my home country after my vacation.\n",
      "Predicted : De: Je demande un visa de touriste pour visiter les États-Unis. J’a\n",
      "\n",
      "BLEU      : 0.0000\n",
      "BERTScore : 0.8385\n",
      "METEOR    : 0.0607\n",
      "ROUGE-L   : 0.0364\n",
      "TER       : 97.5610\n",
      "COMET     : 0.4659\n",
      "\n",
      "Time to 1st tok : 1.8069 s\n",
      "Total inf time  : 1.8069 s\n",
      "Tokens/sec      : 36.53\n",
      "RAM   : 0.00 MB\n",
      "CPU   : -1.00 %\n",
      "Model size : 850.31 MB\n",
      "==================================================\n",
      "\n",
      "=== Russian → English ===\n"
     ]
    },
    {
     "name": "stderr",
     "output_type": "stream",
     "text": [
      "INFO:pytorch_lightning.utilities.rank_zero:💡 Tip: For seamless cloud uploads and versioning, try installing [litmodels](https://pypi.org/project/litmodels/) to enable LitModelCheckpoint, which syncs automatically with the Lightning model registry.\n",
      "INFO:pytorch_lightning.utilities.rank_zero:GPU available: False, used: False\n",
      "INFO:pytorch_lightning.utilities.rank_zero:TPU available: False, using: 0 TPU cores\n",
      "INFO:pytorch_lightning.utilities.rank_zero:HPU available: False, using: 0 HPUs\n"
     ]
    },
    {
     "name": "stdout",
     "output_type": "stream",
     "text": [
      "Source    : Я подаю заявку на туристическую визу для поездки в Соединенные Штаты. Я собираюсь остаться на две недели и посетить известные достопримечательности, такие как Статуя Свободы и Таймс-сквер. Я вернусь в свою страну после отпуска.\n",
      "Reference : I am applying for a tourist visa to visit the United States. I intend to stay for two weeks and visit popular landmarks like the Statue of Liberty and Times Square. I will return to my home country after my vacation.\n",
      "Predicted : ru to de:  ода авку\n",
      "\n",
      "BLEU      : 0.0000\n",
      "BERTScore : 0.7652\n",
      "METEOR    : 0.0124\n",
      "ROUGE-L   : 0.0455\n",
      "TER       : 97.5610\n",
      "COMET     : 0.2342\n",
      "\n",
      "Time to 1st tok : 3.0225 s\n",
      "Total inf time  : 3.0225 s\n",
      "Tokens/sec      : 57.90\n",
      "RAM   : -0.01 MB\n",
      "CPU   : 34.00 %\n",
      "Model size : 850.31 MB\n",
      "==================================================\n",
      "\n",
      "=== Romanian → English ===\n"
     ]
    },
    {
     "name": "stderr",
     "output_type": "stream",
     "text": [
      "INFO:pytorch_lightning.utilities.rank_zero:💡 Tip: For seamless cloud uploads and versioning, try installing [litmodels](https://pypi.org/project/litmodels/) to enable LitModelCheckpoint, which syncs automatically with the Lightning model registry.\n",
      "INFO:pytorch_lightning.utilities.rank_zero:GPU available: False, used: False\n",
      "INFO:pytorch_lightning.utilities.rank_zero:TPU available: False, using: 0 TPU cores\n",
      "INFO:pytorch_lightning.utilities.rank_zero:HPU available: False, using: 0 HPUs\n"
     ]
    },
    {
     "name": "stdout",
     "output_type": "stream",
     "text": [
      "Source    : Solicit o viză turistică pentru a vizita Statele Unite. Intenționez să stau două săptămâni și să vizitez repere populare precum Statuia Libertății și Times Square. Mă voi întoarce în țara mea după vacanță.\n",
      "Reference : I am applying for a tourist visa to visit the United States. I intend to stay for two weeks and visit popular landmarks like the Statue of Liberty and Times Square. I will return to my home country after my vacation.\n",
      "Predicted : ro to en: Solicit o viză turistică pentru a vizita\n",
      "\n",
      "BLEU      : 0.0000\n",
      "BERTScore : 0.7965\n",
      "METEOR    : 0.0246\n",
      "ROUGE-L   : 0.0392\n",
      "TER       : 97.5610\n",
      "COMET     : 0.4230\n",
      "\n",
      "Time to 1st tok : 1.7747 s\n",
      "Total inf time  : 1.7747 s\n",
      "Tokens/sec      : 36.62\n",
      "RAM   : 0.00 MB\n",
      "CPU   : 0.70 %\n",
      "Model size : 850.31 MB\n",
      "==================================================\n",
      "\n",
      "=== Bulgarian → English ===\n"
     ]
    },
    {
     "name": "stderr",
     "output_type": "stream",
     "text": [
      "INFO:pytorch_lightning.utilities.rank_zero:💡 Tip: For seamless cloud uploads and versioning, try installing [litmodels](https://pypi.org/project/litmodels/) to enable LitModelCheckpoint, which syncs automatically with the Lightning model registry.\n",
      "INFO:pytorch_lightning.utilities.rank_zero:GPU available: False, used: False\n",
      "INFO:pytorch_lightning.utilities.rank_zero:TPU available: False, using: 0 TPU cores\n",
      "INFO:pytorch_lightning.utilities.rank_zero:HPU available: False, using: 0 HPUs\n"
     ]
    },
    {
     "name": "stdout",
     "output_type": "stream",
     "text": [
      "Source    : Кандидатствам за туристическа виза за посещение на Съединените щати. Възнамерявам да остана две седмици и да посетя популярни забележителности като Статуята на свободата и Таймс Скуеър. Ще се върна в родината си след ваканцията.\n",
      "Reference : I am applying for a tourist visa to visit the United States. I intend to stay for two weeks and visit popular landmarks like the Statue of Liberty and Times Square. I will return to my home country after my vacation.\n",
      "Predicted : bg to en: андидатствам а\n",
      "\n",
      "BLEU      : 0.0000\n",
      "BERTScore : 0.7599\n",
      "METEOR    : 0.0124\n",
      "ROUGE-L   : 0.0455\n",
      "TER       : 97.5610\n",
      "COMET     : 0.2720\n",
      "\n",
      "Time to 1st tok : 2.4596 s\n",
      "Total inf time  : 2.4596 s\n",
      "Tokens/sec      : 67.90\n",
      "RAM   : 0.00 MB\n",
      "CPU   : 19.80 %\n",
      "Model size : 850.31 MB\n",
      "==================================================\n",
      "\n",
      "=== Czech → English ===\n"
     ]
    },
    {
     "name": "stderr",
     "output_type": "stream",
     "text": [
      "INFO:pytorch_lightning.utilities.rank_zero:💡 Tip: For seamless cloud uploads and versioning, try installing [litmodels](https://pypi.org/project/litmodels/) to enable LitModelCheckpoint, which syncs automatically with the Lightning model registry.\n",
      "INFO:pytorch_lightning.utilities.rank_zero:GPU available: False, used: False\n",
      "INFO:pytorch_lightning.utilities.rank_zero:TPU available: False, using: 0 TPU cores\n",
      "INFO:pytorch_lightning.utilities.rank_zero:HPU available: False, using: 0 HPUs\n"
     ]
    },
    {
     "name": "stdout",
     "output_type": "stream",
     "text": [
      "Source    : Žádám o turistické vízum pro návštěvu Spojených států. Mám v úmyslu zůstat dva týdny a navštívit známá místa jako Sochu svobody a Times Square. Po dovolené se vrátím do své domovské země.\n",
      "Reference : I am applying for a tourist visa to visit the United States. I intend to stay for two weeks and visit popular landmarks like the Statue of Liberty and Times Square. I will return to my home country after my vacation.\n",
      "Predicted : cs to de: ádám o turistické v\n",
      "\n",
      "BLEU      : 0.0000\n",
      "BERTScore : 0.7833\n",
      "METEOR    : 0.0124\n",
      "ROUGE-L   : 0.0408\n",
      "TER       : 97.5610\n",
      "COMET     : 0.2767\n",
      "\n",
      "Time to 1st tok : 2.0223 s\n",
      "Total inf time  : 2.0223 s\n",
      "Tokens/sec      : 59.34\n",
      "RAM   : 0.00 MB\n",
      "CPU   : -18.90 %\n",
      "Model size : 850.31 MB\n",
      "==================================================\n",
      "\n",
      "=== Danish → English ===\n"
     ]
    },
    {
     "name": "stderr",
     "output_type": "stream",
     "text": [
      "INFO:pytorch_lightning.utilities.rank_zero:💡 Tip: For seamless cloud uploads and versioning, try installing [litmodels](https://pypi.org/project/litmodels/) to enable LitModelCheckpoint, which syncs automatically with the Lightning model registry.\n",
      "INFO:pytorch_lightning.utilities.rank_zero:GPU available: False, used: False\n",
      "INFO:pytorch_lightning.utilities.rank_zero:TPU available: False, using: 0 TPU cores\n",
      "INFO:pytorch_lightning.utilities.rank_zero:HPU available: False, using: 0 HPUs\n"
     ]
    },
    {
     "name": "stdout",
     "output_type": "stream",
     "text": [
      "Source    : Jeg ansøger om et turistvisum for at besøge USA. Jeg har til hensigt at blive i to uger og besøge kendte vartegn som Frihedsgudinden og Times Square. Jeg vender tilbage til mit hjemland efter ferien.\n",
      "Reference : I am applying for a tourist visa to visit the United States. I intend to stay for two weeks and visit popular landmarks like the Statue of Liberty and Times Square. I will return to my home country after my vacation.\n",
      "Predicted : en: Jeg ansger om et turistvisum\n",
      "\n",
      "BLEU      : 0.0000\n",
      "BERTScore : 0.7978\n",
      "METEOR    : 0.0000\n",
      "ROUGE-L   : 0.0000\n",
      "TER       : 100.0000\n",
      "COMET     : 0.4535\n",
      "\n",
      "Time to 1st tok : 1.9563 s\n",
      "Total inf time  : 1.9563 s\n",
      "Tokens/sec      : 54.69\n",
      "RAM   : 0.00 MB\n",
      "CPU   : -0.80 %\n",
      "Model size : 850.31 MB\n",
      "==================================================\n",
      "\n",
      "=== German → English ===\n"
     ]
    },
    {
     "name": "stderr",
     "output_type": "stream",
     "text": [
      "INFO:pytorch_lightning.utilities.rank_zero:💡 Tip: For seamless cloud uploads and versioning, try installing [litmodels](https://pypi.org/project/litmodels/) to enable LitModelCheckpoint, which syncs automatically with the Lightning model registry.\n",
      "INFO:pytorch_lightning.utilities.rank_zero:GPU available: False, used: False\n",
      "INFO:pytorch_lightning.utilities.rank_zero:TPU available: False, using: 0 TPU cores\n",
      "INFO:pytorch_lightning.utilities.rank_zero:HPU available: False, using: 0 HPUs\n"
     ]
    },
    {
     "name": "stdout",
     "output_type": "stream",
     "text": [
      "Source    : Ich beantrage ein Touristenvisum, um die Vereinigten Staaten zu besuchen. Ich beabsichtige, zwei Wochen zu bleiben und bekannte Sehenswürdigkeiten wie die Freiheitsstatue und den Times Square zu besuchen. Nach meinem Urlaub kehre ich in mein Heimatland zurück.\n",
      "Reference : I am applying for a tourist visa to visit the United States. I intend to stay for two weeks and visit popular landmarks like the Statue of Liberty and Times Square. I will return to my home country after my vacation.\n",
      "Predicted : en: Ich beantrage ein Touristenvisum, um die Vereinigten Staaten\n",
      "\n",
      "BLEU      : 0.0000\n",
      "BERTScore : 0.8043\n",
      "METEOR    : 0.0000\n",
      "ROUGE-L   : 0.0000\n",
      "TER       : 100.0000\n",
      "COMET     : 0.4723\n",
      "\n",
      "Time to 1st tok : 1.8051 s\n",
      "Total inf time  : 1.8051 s\n",
      "Tokens/sec      : 38.78\n",
      "RAM   : 0.00 MB\n",
      "CPU   : -32.80 %\n",
      "Model size : 850.31 MB\n",
      "==================================================\n",
      "\n",
      "=== Estonian → English ===\n"
     ]
    },
    {
     "name": "stderr",
     "output_type": "stream",
     "text": [
      "INFO:pytorch_lightning.utilities.rank_zero:💡 Tip: For seamless cloud uploads and versioning, try installing [litmodels](https://pypi.org/project/litmodels/) to enable LitModelCheckpoint, which syncs automatically with the Lightning model registry.\n",
      "INFO:pytorch_lightning.utilities.rank_zero:GPU available: False, used: False\n",
      "INFO:pytorch_lightning.utilities.rank_zero:TPU available: False, using: 0 TPU cores\n",
      "INFO:pytorch_lightning.utilities.rank_zero:HPU available: False, using: 0 HPUs\n"
     ]
    },
    {
     "name": "stdout",
     "output_type": "stream",
     "text": [
      "Source    : Taotlen turismiviisat Ameerika Ühendriikide külastamiseks. Kavatsen jääda kaheks nädalaks ja külastada kuulsaid vaatamisväärsusi nagu Vabadussammas ja Times Square. Pärast puhkust naasen oma koduriiki.\n",
      "Reference : I am applying for a tourist visa to visit the United States. I intend to stay for two weeks and visit popular landmarks like the Statue of Liberty and Times Square. I will return to my home country after my vacation.\n",
      "Predicted : et to en: Taotlen turismiviisat Ameer\n",
      "\n",
      "BLEU      : 0.0000\n",
      "BERTScore : 0.7892\n",
      "METEOR    : 0.0124\n",
      "ROUGE-L   : 0.0426\n",
      "TER       : 97.5610\n",
      "COMET     : 0.2851\n",
      "\n",
      "Time to 1st tok : 1.9327 s\n",
      "Total inf time  : 1.9327 s\n",
      "Tokens/sec      : 57.95\n",
      "RAM   : 0.00 MB\n",
      "CPU   : -0.70 %\n",
      "Model size : 850.31 MB\n",
      "==================================================\n"
     ]
    }
   ],
   "source": [
    "# Install all required libraries\n",
    "!pip install unbabel-comet\n",
    "!pip install -q transformers accelerate evaluate bert_score rouge_score sacremoses nltk psutil pandas sacrebleu sentencepiece\n",
    "\n",
    "from huggingface_hub import login\n",
    "\n",
    "# Paste your token here\n",
    "login(token='hugging face token goes here')\n",
    "\n",
    "# Download NLTK data needed for BLEU and ROUGE\n",
    "import nltk\n",
    "nltk.download('punkt')\n",
    "\n",
    "# Imports\n",
    "import time\n",
    "import torch\n",
    "import psutil\n",
    "import logging\n",
    "from nltk.translate.bleu_score import sentence_bleu\n",
    "from transformers import T5ForConditionalGeneration, T5Tokenizer\n",
    "import evaluate\n",
    "\n",
    "# Suppress unwanted warnings\n",
    "logging.getLogger(\"transformers\").setLevel(logging.ERROR)\n",
    "logging.getLogger(\"pytorch_lightning\").setLevel(logging.ERROR)\n",
    "\n",
    "# Detect device\n",
    "device = torch.device(\"cuda\" if torch.cuda.is_available() else \"cpu\")\n",
    "print(f\"Using device: {device}\")\n",
    "\n",
    "# Example sentences per language\n",
    "paragraph_data = [\n",
    "    {\"code\": \"ar\", \"lang\": \"Arabic\", \"src\": \"أنا أتقدم للحصول على تأشيرة سياحية لزيارة الولايات المتحدة. أنوي البقاء لمدة أسبوعين وزيارة معالم مشهورة مثل تمثال الحرية وساحة التايمز. سأعود إلى بلدي بعد انتهاء عطلتي.\", \"ref\": \"I am applying for a tourist visa to visit the United States. I intend to stay for two weeks and visit popular landmarks like the Statue of Liberty and Times Square. I will return to my home country after my vacation.\"},\n",
    "    {\"code\": \"es\", \"lang\": \"Spanish\", \"src\": \"Estoy solicitando una visa de turista para visitar los Estados Unidos. Tengo la intención de quedarme dos semanas y visitar lugares famosos como la Estatua de la Libertad y Times Square. Regresaré a mi país después de mis vacaciones.\", \"ref\": \"I am applying for a tourist visa to visit the United States. I intend to stay for two weeks and visit popular landmarks like the Statue of Liberty and Times Square. I will return to my home country after my vacation.\"},\n",
    "    {\"code\": \"fr\", \"lang\": \"French\", \"src\": \"Je demande un visa de touriste pour visiter les États-Unis. J’ai l’intention de rester deux semaines et de visiter des sites célèbres comme la Statue de la Liberté et Times Square. Je retournerai dans mon pays après mes vacances.\", \"ref\": \"I am applying for a tourist visa to visit the United States. I intend to stay for two weeks and visit popular landmarks like the Statue of Liberty and Times Square. I will return to my home country after my vacation.\"},\n",
    "    {\"code\": \"ru\", \"lang\": \"Russian\", \"src\": \"Я подаю заявку на туристическую визу для поездки в Соединенные Штаты. Я собираюсь остаться на две недели и посетить известные достопримечательности, такие как Статуя Свободы и Таймс-сквер. Я вернусь в свою страну после отпуска.\", \"ref\": \"I am applying for a tourist visa to visit the United States. I intend to stay for two weeks and visit popular landmarks like the Statue of Liberty and Times Square. I will return to my home country after my vacation.\"},\n",
    "    {\"code\": \"ro\", \"lang\": \"Romanian\", \"src\": \"Solicit o viză turistică pentru a vizita Statele Unite. Intenționez să stau două săptămâni și să vizitez repere populare precum Statuia Libertății și Times Square. Mă voi întoarce în țara mea după vacanță.\", \"ref\": \"I am applying for a tourist visa to visit the United States. I intend to stay for two weeks and visit popular landmarks like the Statue of Liberty and Times Square. I will return to my home country after my vacation.\"},\n",
    "    {\"code\": \"bg\", \"lang\": \"Bulgarian\", \"src\": \"Кандидатствам за туристическа виза за посещение на Съединените щати. Възнамерявам да остана две седмици и да посетя популярни забележителности като Статуята на свободата и Таймс Скуеър. Ще се върна в родината си след ваканцията.\", \"ref\": \"I am applying for a tourist visa to visit the United States. I intend to stay for two weeks and visit popular landmarks like the Statue of Liberty and Times Square. I will return to my home country after my vacation.\"},\n",
    "    {\"code\": \"cs\", \"lang\": \"Czech\", \"src\": \"Žádám o turistické vízum pro návštěvu Spojených států. Mám v úmyslu zůstat dva týdny a navštívit známá místa jako Sochu svobody a Times Square. Po dovolené se vrátím do své domovské země.\", \"ref\": \"I am applying for a tourist visa to visit the United States. I intend to stay for two weeks and visit popular landmarks like the Statue of Liberty and Times Square. I will return to my home country after my vacation.\"},\n",
    "    {\"code\": \"da\", \"lang\": \"Danish\", \"src\": \"Jeg ansøger om et turistvisum for at besøge USA. Jeg har til hensigt at blive i to uger og besøge kendte vartegn som Frihedsgudinden og Times Square. Jeg vender tilbage til mit hjemland efter ferien.\", \"ref\": \"I am applying for a tourist visa to visit the United States. I intend to stay for two weeks and visit popular landmarks like the Statue of Liberty and Times Square. I will return to my home country after my vacation.\"},\n",
    "    {\"code\": \"de\", \"lang\": \"German\", \"src\": \"Ich beantrage ein Touristenvisum, um die Vereinigten Staaten zu besuchen. Ich beabsichtige, zwei Wochen zu bleiben und bekannte Sehenswürdigkeiten wie die Freiheitsstatue und den Times Square zu besuchen. Nach meinem Urlaub kehre ich in mein Heimatland zurück.\", \"ref\": \"I am applying for a tourist visa to visit the United States. I intend to stay for two weeks and visit popular landmarks like the Statue of Liberty and Times Square. I will return to my home country after my vacation.\"},\n",
    "    {\"code\": \"et\", \"lang\": \"Estonian\", \"src\": \"Taotlen turismiviisat Ameerika Ühendriikide külastamiseks. Kavatsen jääda kaheks nädalaks ja külastada kuulsaid vaatamisväärsusi nagu Vabadussammas ja Times Square. Pärast puhkust naasen oma koduriiki.\", \"ref\": \"I am applying for a tourist visa to visit the United States. I intend to stay for two weeks and visit popular landmarks like the Statue of Liberty and Times Square. I will return to my home country after my vacation.\"},\n",
    "]\n",
    "\n",
    "# mBART language code map for T5-compatible format\n",
    "LANG_CODE_MAP = {\n",
    "    \"ar\": \"ar\", \"es\": \"es\", \"fr\": \"fr\", \"ru\": \"ru\", \"ro\": \"ro\",\n",
    "    \"bg\": \"bg\", \"cs\": \"cs\", \"da\": \"da\", \"de\": \"de\", \"et\": \"et\",\n",
    "}\n",
    "\n",
    "# Load evaluation metrics\n",
    "bleu_mod      = evaluate.load(\"bleu\")\n",
    "bertscore_mod = evaluate.load(\"bertscore\")\n",
    "meteor_mod    = evaluate.load(\"meteor\")\n",
    "rouge_mod     = evaluate.load(\"rouge\")\n",
    "ter_mod       = evaluate.load(\"ter\")\n",
    "comet_mod     = evaluate.load(\"comet\")\n",
    "\n",
    "# Helpers to measure system resources\n",
    "def measure_system():\n",
    "    proc = psutil.Process()\n",
    "    return proc.memory_info().rss / 1024**2, psutil.cpu_percent(interval=None)\n",
    "\n",
    "# Translate & time function for T5\n",
    "def translate_and_time(model, tokenizer, text: str, language_code: str):\n",
    "    input_text = f\"translate {language_code} to en: {text}\"\n",
    "    t0 = time.perf_counter()\n",
    "    inputs = tokenizer(input_text, return_tensors=\"pt\", padding=True).to(device)\n",
    "    outputs = model.generate(**inputs)\n",
    "    t1 = time.perf_counter()\n",
    "    pred = tokenizer.batch_decode(outputs, skip_special_tokens=True)[0]\n",
    "    tokens = len(tokenizer.tokenize(text))\n",
    "    return pred, t1 - t0, t1 - t0, tokens  # using same for first-token and total\n",
    "\n",
    "# Load T5 model and tokenizer\n",
    "model_name = \"google-t5/t5-base\"\n",
    "tokenizer  = T5Tokenizer.from_pretrained(model_name)\n",
    "model      = T5ForConditionalGeneration.from_pretrained(model_name).to(device)\n",
    "model.eval()\n",
    "\n",
    "# Evaluate each language\n",
    "for item in paragraph_data:\n",
    "    code, lang, src, ref = item[\"code\"], item[\"lang\"], item[\"src\"], item[\"ref\"]\n",
    "    print(f\"\\n=== {lang} → English ===\")\n",
    "\n",
    "    # Measure before\n",
    "    ram_before, cpu_before = measure_system()\n",
    "\n",
    "    # Translate\n",
    "    t5_code = LANG_CODE_MAP[code]\n",
    "    pred, t_first, t_total, token_count = translate_and_time(model, tokenizer, src, t5_code)\n",
    "\n",
    "    # Measure after\n",
    "    ram_after, cpu_after = measure_system()\n",
    "\n",
    "    # Compute metrics\n",
    "    bleu_score   = bleu_mod.compute(predictions=[pred], references=[[ref]])[\"bleu\"]\n",
    "    bert_res     = bertscore_mod.compute(predictions=[pred], references=[ref], lang=\"en\")\n",
    "    meteor_score = meteor_mod.compute(predictions=[pred], references=[[ref]])[\"meteor\"]\n",
    "    rouge_score  = rouge_mod.compute(predictions=[pred], references=[ref])[\"rougeL\"]\n",
    "    ter_score    = ter_mod.compute(predictions=[pred], references=[[ref]])[\"score\"]\n",
    "    comet_res    = comet_mod.compute(sources=[src], predictions=[pred], references=[ref])\n",
    "    comet_score  = next(v for v in comet_res.values() if isinstance(v, (int, float)))\n",
    "\n",
    "    # Print\n",
    "    print(f\"Source    : {src}\")\n",
    "    print(f\"Reference : {ref}\")\n",
    "    print(f\"Predicted : {pred}\\n\")\n",
    "    print(f\"BLEU      : {bleu_score:.4f}\")\n",
    "    print(f\"BERTScore : {bert_res['f1'][0]:.4f}\")\n",
    "    print(f\"METEOR    : {meteor_score:.4f}\")\n",
    "    print(f\"ROUGE-L   : {rouge_score:.4f}\")\n",
    "    print(f\"TER       : {ter_score:.4f}\")\n",
    "    print(f\"COMET     : {comet_score:.4f}\\n\")\n",
    "    print(f\"Time to 1st tok : {t_first:.4f} s\")\n",
    "    print(f\"Total inf time  : {t_total:.4f} s\")\n",
    "    print(f\"Tokens/sec      : {token_count / t_total:.2f}\")\n",
    "    if device.type==\"cuda\":\n",
    "        print(f\"VRAM  : {(torch.cuda.max_memory_allocated() / 1024**2):.2f} MB\")\n",
    "    print(f\"RAM   : {ram_after-ram_before:.2f} MB\")\n",
    "    print(f\"CPU   : {cpu_after-cpu_before:.2f} %\")\n",
    "    size_mb = sum(p.numel() for p in model.parameters())*4/1024**2\n",
    "    print(f\"Model size : {size_mb:.2f} MB\")\n",
    "    print(\"=\"*50)\n"
   ]
  }
 ],
 "metadata": {
  "colab": {
   "provenance": []
  },
  "kernelspec": {
   "display_name": "Python 3",
   "name": "python3"
  },
  "language_info": {
   "name": "python"
  }
 },
 "nbformat": 4,
 "nbformat_minor": 0
}
